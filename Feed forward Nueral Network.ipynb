{
  "nbformat": 4,
  "nbformat_minor": 0,
  "metadata": {
    "colab": {
      "name": "NLP_Assignment 5.ipynb",
      "provenance": [],
      "collapsed_sections": []
    },
    "kernelspec": {
      "name": "python3",
      "display_name": "Python 3"
    },
    "language_info": {
      "name": "python"
    },
    "accelerator": "GPU"
  },
  "cells": [
    {
      "cell_type": "code",
      "metadata": {
        "colab": {
          "base_uri": "https://localhost:8080/"
        },
        "id": "J25ehjtndaEq",
        "outputId": "72bf7fab-0345-460a-ee53-b365dc3812e7"
      },
      "source": [
        "from google.colab import drive\n",
        "drive.mount('/content/drive')"
      ],
      "execution_count": null,
      "outputs": [
        {
          "output_type": "stream",
          "name": "stdout",
          "text": [
            "Mounted at /content/drive\n"
          ]
        }
      ]
    },
    {
      "cell_type": "code",
      "metadata": {
        "colab": {
          "base_uri": "https://localhost:8080/"
        },
        "id": "VE-Hncu3dk0k",
        "outputId": "34d84f34-2ddf-4c7a-ace5-62c3feacf83e"
      },
      "source": [
        "import tarfile\n",
        "import os\n",
        "import pandas as pd\n",
        "import string\n",
        "import numpy as np\n",
        "import matplotlib.pyplot as plt\n",
        "punctuations= string.punctuation\n",
        "import nltk\n",
        "nltk.download('stopwords')\n",
        "nltk.download('wordnet')\n",
        "from nltk.corpus import stopwords\n",
        "stopword_list = stopwords.words(\"english\")\n",
        "from nltk.stem.wordnet import WordNetLemmatizer\n",
        "lem = WordNetLemmatizer()\n",
        "from nltk.tokenize import word_tokenize\n",
        "nltk.download('punkt')\n",
        "from sklearn.feature_extraction.text import CountVectorizer, TfidfVectorizer,Tfidf1ransformer\n",
        "from sklearn.metrics import accuracy_score,classification_report, confusion_matrix,f1_score,precision_recall_fscore_support,log_loss\n",
        "from sklearn.linear_model import Lasso, SGDClassifier,LogisticRegression as LR\n",
        "from sklearn.feature_selection import SelectFromModel\n",
        "from sklearn.model_selection import train_test_split,GridSearchCV\n",
        "from sklearn.decomposition import PCA,TruncatedSVD\n",
        "from sklearn.datasets import make_blobs\n",
        "from sklearn.neural_network import MLPClassifier\n",
        "from tqdm import tqdm\n",
        "from sklearn.svm import SVC\n",
        "import seaborn as sns\n",
        "import pylab as pl\n",
        "import tensorflow as tf\n",
        "import re\n",
        "import shutil\n",
        "import string\n",
        "import tensorflow as tf\n",
        "from tensorflow.keras import layers\n",
        "from tensorflow.keras import losses"
      ],
      "execution_count": null,
      "outputs": [
        {
          "output_type": "stream",
          "name": "stdout",
          "text": [
            "[nltk_data] Downloading package stopwords to /root/nltk_data...\n",
            "[nltk_data]   Unzipping corpora/stopwords.zip.\n",
            "[nltk_data] Downloading package wordnet to /root/nltk_data...\n",
            "[nltk_data]   Unzipping corpora/wordnet.zip.\n",
            "[nltk_data] Downloading package punkt to /root/nltk_data...\n",
            "[nltk_data]   Unzipping tokenizers/punkt.zip.\n"
          ]
        }
      ]
    },
    {
      "cell_type": "markdown",
      "metadata": {
        "id": "cF331CdEy-v0"
      },
      "source": [
        "In this assignment you will work with text classification in Keras. The colab notebook is available here.  GOOGLE as much as possible. Lots of deep learning discussions happen on stack overflow.\n",
        "\n",
        "https://www.tensorflow.org/tutorials/keras/text_classification (Links to an external site.)\n",
        "\n",
        "You need to get familiar with the code. Once you are familiar with Keras code, you can start to experiment with different hyperparameters. How does the performance (F-score) of the models vary with different settings?\n",
        "\n",
        "Size of embedding layer by varying the size for a range of numbers greater than 2.\n",
        "Dropout size: Try three values.\n",
        "Add an extra layer of neurons with Dense (also known as feed forward neural network as mentioned in Goldberg's chapter). Can you experiment with three different non-linearities? \n",
        "Batch size: Try two values\n",
        "Training algorithm. Try two algorithms. https://cs231n.github.io/neural-networks-3/"
      ]
    },
    {
      "cell_type": "markdown",
      "metadata": {
        "id": "bz3-4HaDi74A"
      },
      "source": [
        "**Feed Forward Neural Network**"
      ]
    },
    {
      "cell_type": "code",
      "metadata": {
        "colab": {
          "base_uri": "https://localhost:8080/"
        },
        "id": "43I1UnskRCcF",
        "outputId": "047cefce-7d84-4362-e830-f53328b38d49"
      },
      "source": [
        "url = \"https://ai.stanford.edu/~amaas/data/sentiment/aclImdb_v1.tar.gz\"\n",
        "dataset = tf.keras.utils.get_file(\"aclImdb_v1\", url, untar=True, cache_dir='.',cache_subdir='')\n",
        "dataset_dir = os.path.join(os.path.dirname(dataset), 'aclImdb')\n",
        "train_dir = os.path.join(dataset_dir, 'train')\n",
        "remove_dir = os.path.join(train_dir, 'unsup')\n",
        "shutil.rmtree(remove_dir)\n",
        "batch_size = 32\n",
        "seed = 42\n",
        "raw_train_ds = tf.keras.utils.text_dataset_from_directory('aclImdb/train', batch_size=batch_size, validation_split=0.2, subset='training', seed=seed)\n",
        "raw_val_ds = tf.keras.utils.text_dataset_from_directory('aclImdb/train', batch_size=batch_size, validation_split=0.2, subset='validation', seed=seed)\n",
        "raw_test_ds = tf.keras.utils.text_dataset_from_directory('aclImdb/test', batch_size=batch_size)"
      ],
      "execution_count": null,
      "outputs": [
        {
          "output_type": "stream",
          "name": "stdout",
          "text": [
            "Downloading data from https://ai.stanford.edu/~amaas/data/sentiment/aclImdb_v1.tar.gz\n",
            "84131840/84125825 [==============================] - 3s 0us/step\n",
            "84140032/84125825 [==============================] - 3s 0us/step\n",
            "Found 25000 files belonging to 2 classes.\n",
            "Using 20000 files for training.\n",
            "Found 25000 files belonging to 2 classes.\n",
            "Using 5000 files for validation.\n",
            "Found 25000 files belonging to 2 classes.\n"
          ]
        }
      ]
    },
    {
      "cell_type": "code",
      "metadata": {
        "id": "IQIevXSUSQ69"
      },
      "source": [
        "def custom_standardization(input_data):\n",
        "  lowercase = tf.strings.lower(input_data)\n",
        "  stripped_html = tf.strings.regex_replace(lowercase, '<br />', ' ')\n",
        "  return tf.strings.regex_replace(stripped_html,'[%s]' % re.escape(string.punctuation),'')\n",
        "def vectorize_text(text, label):\n",
        "  text = tf.expand_dims(text, -1)\n",
        "  return vectorize_layer(text), label\n",
        "\n",
        "max_features = 10000\n",
        "sequence_length = 250\n",
        "vectorize_layer = layers.TextVectorization(standardize=custom_standardization,max_tokens=max_features,output_mode='int',output_sequence_length=sequence_length)\n",
        "# Make a text-only dataset (without labels), then call adapt\n",
        "train_text = raw_train_ds.map(lambda x, y: x)\n",
        "vectorize_layer.adapt(train_text)\n",
        "\n",
        "train_ds = raw_train_ds.map(vectorize_text)\n",
        "val_ds = raw_val_ds.map(vectorize_text)\n",
        "test_ds = raw_test_ds.map(vectorize_text)\n",
        "AUTOTUNE = tf.data.AUTOTUNE\n",
        "train_ds = train_ds.cache().prefetch(buffer_size=AUTOTUNE)\n",
        "val_ds = val_ds.cache().prefetch(buffer_size=AUTOTUNE)\n",
        "test_ds = test_ds.cache().prefetch(buffer_size=AUTOTUNE)"
      ],
      "execution_count": null,
      "outputs": []
    },
    {
      "cell_type": "code",
      "metadata": {
        "colab": {
          "base_uri": "https://localhost:8080/"
        },
        "id": "isZQ_mL4AT5r",
        "outputId": "43913757-193e-4521-8b8e-b8fe3bf1edd2"
      },
      "source": [
        "import keras.backend as K\n",
        "from tensorflow.keras.callbacks import Callback, ReduceLROnPlateau, EarlyStopping,TensorBoard\n",
        "embedding_dim = 16\n",
        "model = tf.keras.Sequential([\n",
        "  layers.Embedding(max_features + 1, embedding_dim),\n",
        "  layers.Dropout(0.2),\n",
        "  layers.GlobalAveragePooling1D(),\n",
        "  layers.Dropout(0.2),\n",
        "  layers.Dense(1,activation='relu'),\n",
        "  layers.Dropout(0.2),\n",
        "  layers.Dense(1,activation='tanh'),\n",
        "  layers.Dropout(0.2),\n",
        "  layers.Dense(1,activation='sigmoid')])\n",
        "\n",
        "model.summary()\n",
        "\n",
        "modal = tf.keras.Sequential([\n",
        "  layers.Embedding(max_features + 1, embedding_dim),\n",
        "  layers.Dropout(0.2),\n",
        "  layers.GlobalAveragePooling1D(),\n",
        "  layers.Dropout(0.2),\n",
        "  layers.Dense(1,activation='relu'),\n",
        "  layers.Dropout(0.2),\n",
        "  layers.Dense(1,activation='tanh'),\n",
        "  layers.Dropout(0.2),\n",
        "  layers.Dense(1,activation='sigmoid')])\n",
        "\n",
        "modal.summary()\n",
        "\n",
        "def f1_metric(y_true, y_pred):\n",
        "    true_positives = K.sum(K.round(K.clip(y_true * y_pred, 0, 1)))\n",
        "    possible_positives = K.sum(K.round(K.clip(y_true, 0, 1)))\n",
        "    predicted_positives = K.sum(K.round(K.clip(y_pred, 0, 1)))\n",
        "    precision = true_positives / (predicted_positives + K.epsilon())\n",
        "    recall = true_positives / (possible_positives + K.epsilon())\n",
        "    f1_val = 2*(precision*recall)/(precision+recall+K.epsilon())\n",
        "    return f1_val\n",
        "model.compile(loss=losses.BinaryCrossentropy(from_logits=False), optimizer=\"adam\", metrics=[f1_metric])\n",
        "epochs = 10\n",
        "callbacks=[ReduceLROnPlateau()]"
      ],
      "execution_count": null,
      "outputs": [
        {
          "output_type": "stream",
          "name": "stdout",
          "text": [
            "Model: \"sequential_12\"\n",
            "_________________________________________________________________\n",
            "Layer (type)                 Output Shape              Param #   \n",
            "=================================================================\n",
            "embedding_13 (Embedding)     (None, None, 16)          160016    \n",
            "_________________________________________________________________\n",
            "dropout_49 (Dropout)         (None, None, 16)          0         \n",
            "_________________________________________________________________\n",
            "global_average_pooling1d_13  (None, 16)                0         \n",
            "_________________________________________________________________\n",
            "dropout_50 (Dropout)         (None, 16)                0         \n",
            "_________________________________________________________________\n",
            "dense_35 (Dense)             (None, 1)                 17        \n",
            "_________________________________________________________________\n",
            "dropout_51 (Dropout)         (None, 1)                 0         \n",
            "_________________________________________________________________\n",
            "dense_36 (Dense)             (None, 1)                 2         \n",
            "_________________________________________________________________\n",
            "dropout_52 (Dropout)         (None, 1)                 0         \n",
            "_________________________________________________________________\n",
            "dense_37 (Dense)             (None, 1)                 2         \n",
            "=================================================================\n",
            "Total params: 160,037\n",
            "Trainable params: 160,037\n",
            "Non-trainable params: 0\n",
            "_________________________________________________________________\n",
            "Model: \"sequential_13\"\n",
            "_________________________________________________________________\n",
            "Layer (type)                 Output Shape              Param #   \n",
            "=================================================================\n",
            "embedding_14 (Embedding)     (None, None, 16)          160016    \n",
            "_________________________________________________________________\n",
            "dropout_53 (Dropout)         (None, None, 16)          0         \n",
            "_________________________________________________________________\n",
            "global_average_pooling1d_14  (None, 16)                0         \n",
            "_________________________________________________________________\n",
            "dropout_54 (Dropout)         (None, 16)                0         \n",
            "_________________________________________________________________\n",
            "dense_38 (Dense)             (None, 1)                 17        \n",
            "_________________________________________________________________\n",
            "dropout_55 (Dropout)         (None, 1)                 0         \n",
            "_________________________________________________________________\n",
            "dense_39 (Dense)             (None, 1)                 2         \n",
            "_________________________________________________________________\n",
            "dropout_56 (Dropout)         (None, 1)                 0         \n",
            "_________________________________________________________________\n",
            "dense_40 (Dense)             (None, 1)                 2         \n",
            "=================================================================\n",
            "Total params: 160,037\n",
            "Trainable params: 160,037\n",
            "Non-trainable params: 0\n",
            "_________________________________________________________________\n"
          ]
        }
      ]
    },
    {
      "cell_type": "markdown",
      "metadata": {
        "id": "o15kvJWFIaY1"
      },
      "source": [
        "Model 1"
      ]
    },
    {
      "cell_type": "code",
      "metadata": {
        "colab": {
          "base_uri": "https://localhost:8080/"
        },
        "id": "0bQ7wNGgAes2",
        "outputId": "85f89d40-3aad-45a0-f80b-666143de733b"
      },
      "source": [
        "history = model.fit(train_ds,validation_data=val_ds,epochs=epochs,callbacks=callbacks,batch_size=32)"
      ],
      "execution_count": null,
      "outputs": [
        {
          "output_type": "stream",
          "name": "stdout",
          "text": [
            "Epoch 1/10\n",
            "625/625 [==============================] - 13s 16ms/step - loss: 0.6877 - f1_metric: 0.2020 - val_loss: 0.6555 - val_f1_metric: 0.7227\n",
            "Epoch 2/10\n",
            "625/625 [==============================] - 4s 6ms/step - loss: 0.5904 - f1_metric: 0.7342 - val_loss: 0.4890 - val_f1_metric: 0.8527\n",
            "Epoch 3/10\n",
            "625/625 [==============================] - 4s 6ms/step - loss: 0.5217 - f1_metric: 0.7511 - val_loss: 0.4219 - val_f1_metric: 0.8650\n",
            "Epoch 4/10\n",
            "625/625 [==============================] - 4s 6ms/step - loss: 0.4945 - f1_metric: 0.7339 - val_loss: 0.4011 - val_f1_metric: 0.8727\n",
            "Epoch 5/10\n",
            "625/625 [==============================] - 4s 6ms/step - loss: 0.4789 - f1_metric: 0.7508 - val_loss: 0.3867 - val_f1_metric: 0.8711\n",
            "Epoch 6/10\n",
            "625/625 [==============================] - 4s 6ms/step - loss: 0.4636 - f1_metric: 0.7585 - val_loss: 0.3755 - val_f1_metric: 0.8757\n",
            "Epoch 7/10\n",
            "625/625 [==============================] - 4s 6ms/step - loss: 0.4508 - f1_metric: 0.7663 - val_loss: 0.3662 - val_f1_metric: 0.8737\n",
            "Epoch 8/10\n",
            "625/625 [==============================] - 4s 6ms/step - loss: 0.4476 - f1_metric: 0.7705 - val_loss: 0.3627 - val_f1_metric: 0.8747\n",
            "Epoch 9/10\n",
            "625/625 [==============================] - 4s 6ms/step - loss: 0.4378 - f1_metric: 0.7757 - val_loss: 0.3623 - val_f1_metric: 0.8775\n",
            "Epoch 10/10\n",
            "625/625 [==============================] - 4s 6ms/step - loss: 0.4358 - f1_metric: 0.7735 - val_loss: 0.3612 - val_f1_metric: 0.8753\n"
          ]
        }
      ]
    },
    {
      "cell_type": "markdown",
      "metadata": {
        "id": "nhoiLKLkIcAF"
      },
      "source": [
        "Model 2"
      ]
    },
    {
      "cell_type": "code",
      "metadata": {
        "colab": {
          "base_uri": "https://localhost:8080/"
        },
        "id": "oe9y8nBr2j2S",
        "outputId": "980949d3-3bb1-4440-d849-3ea856d4dbfe"
      },
      "source": [
        "modal.compile(loss=losses.BinaryCrossentropy(from_logits=False), optimizer=\"adam\", metrics=[f1_metric])\n",
        "history1 = modal.fit(train_ds,validation_data=val_ds,epochs=epochs,callbacks=callbacks,batch_size=64)\n",
        "loss, accuracy = modal.evaluate(test_ds)\n",
        "print(\"Loss: \", loss)\n",
        "print(\"Accuracy: \", accuracy)"
      ],
      "execution_count": null,
      "outputs": [
        {
          "output_type": "stream",
          "name": "stdout",
          "text": [
            "Epoch 1/10\n",
            "625/625 [==============================] - 5s 6ms/step - loss: 0.6746 - f1_metric: 0.4195 - val_loss: 0.6128 - val_f1_metric: 0.8006\n",
            "Epoch 2/10\n",
            "625/625 [==============================] - 4s 6ms/step - loss: 0.5604 - f1_metric: 0.7494 - val_loss: 0.4586 - val_f1_metric: 0.8626\n",
            "Epoch 3/10\n",
            "625/625 [==============================] - 4s 6ms/step - loss: 0.5001 - f1_metric: 0.7785 - val_loss: 0.4040 - val_f1_metric: 0.8739\n",
            "Epoch 4/10\n",
            "625/625 [==============================] - 4s 6ms/step - loss: 0.4836 - f1_metric: 0.7789 - val_loss: 0.3852 - val_f1_metric: 0.8752\n",
            "Epoch 5/10\n",
            "625/625 [==============================] - 4s 6ms/step - loss: 0.4616 - f1_metric: 0.7579 - val_loss: 0.3758 - val_f1_metric: 0.8752\n",
            "Epoch 6/10\n",
            "625/625 [==============================] - 4s 6ms/step - loss: 0.4600 - f1_metric: 0.7548 - val_loss: 0.3653 - val_f1_metric: 0.8766\n",
            "Epoch 7/10\n",
            "625/625 [==============================] - 4s 6ms/step - loss: 0.4420 - f1_metric: 0.7691 - val_loss: 0.3657 - val_f1_metric: 0.8786\n",
            "Epoch 8/10\n",
            "625/625 [==============================] - 4s 6ms/step - loss: 0.4367 - f1_metric: 0.7702 - val_loss: 0.3614 - val_f1_metric: 0.8770\n",
            "Epoch 9/10\n",
            "625/625 [==============================] - 4s 6ms/step - loss: 0.4257 - f1_metric: 0.7805 - val_loss: 0.3539 - val_f1_metric: 0.8761\n",
            "Epoch 10/10\n",
            "625/625 [==============================] - 4s 6ms/step - loss: 0.4257 - f1_metric: 0.7785 - val_loss: 0.3546 - val_f1_metric: 0.8765\n",
            "782/782 [==============================] - 2s 2ms/step - loss: 0.3735 - f1_metric: 0.8639\n",
            "Loss:  0.3734661638736725\n",
            "Accuracy:  0.8638939261436462\n"
          ]
        }
      ]
    },
    {
      "cell_type": "markdown",
      "metadata": {
        "id": "A2HJbiwMId5B"
      },
      "source": [
        "Model 1 Performace on Test Dataset"
      ]
    },
    {
      "cell_type": "code",
      "metadata": {
        "colab": {
          "base_uri": "https://localhost:8080/"
        },
        "id": "-_fdIWerUHxG",
        "outputId": "3e9e2572-7df7-4cdb-b1b3-5a2bf587ed6d"
      },
      "source": [
        "loss, accuracy = model.evaluate(test_ds)\n",
        "print(\"Loss: \", loss)\n",
        "print(\"Accuracy: \", accuracy)"
      ],
      "execution_count": null,
      "outputs": [
        {
          "output_type": "stream",
          "name": "stdout",
          "text": [
            "782/782 [==============================] - 8s 10ms/step - loss: 0.3762 - f1_metric: 0.8653\n",
            "Loss:  0.37620070576667786\n",
            "Accuracy:  0.8653008937835693\n"
          ]
        }
      ]
    },
    {
      "cell_type": "code",
      "metadata": {
        "colab": {
          "base_uri": "https://localhost:8080/",
          "height": 573
        },
        "id": "P-kRS31gXD05",
        "outputId": "15d7c8de-6452-4901-f3fe-c9e5fefcc958"
      },
      "source": [
        "acc = history.history['f1_metric']\n",
        "val_acc = history.history['val_f1_metric']\n",
        "loss = history.history['loss']\n",
        "val_loss = history.history['val_loss']\n",
        "\n",
        "epochs = range(1, len(acc) + 1)\n",
        "plt.plot(epochs, sorted(loss,reverse=True), 'bo', label='Training loss')\n",
        "plt.plot(epochs, sorted(val_loss,reverse=True), 'b', label='Validation loss')\n",
        "plt.title('Training and validation loss')\n",
        "plt.xlabel('Epochs')\n",
        "plt.ylabel('Loss')\n",
        "plt.legend()\n",
        "plt.show()\n",
        "plt.plot(epochs, acc, 'bo', label='Training F1 Score')\n",
        "plt.plot(epochs, val_acc, 'b', label='Validation F1 Score')\n",
        "plt.title('Training and validation F1 Scores')\n",
        "plt.xlabel('Epochs')\n",
        "plt.ylabel('F1 Scores')\n",
        "plt.legend(loc='lower right')\n",
        "plt.show()"
      ],
      "execution_count": null,
      "outputs": [
        {
          "output_type": "display_data",
          "data": {
            "image/png": "[encoded data removed]",
            "text/plain": [
              "<Figure size 432x288 with 1 Axes>"
            ]
          },
          "metadata": {
            "needs_background": "light"
          }
        },
        {
          "output_type": "display_data",
          "data": {
            "image/png": "[encoded data removed]",
            "text/plain": [
              "<Figure size 432x288 with 1 Axes>"
            ]
          },
          "metadata": {
            "needs_background": "light"
          }
        }
      ]
    },
    {
      "cell_type": "code",
      "metadata": {
        "colab": {
          "base_uri": "https://localhost:8080/"
        },
        "id": "ZX55GBpZYunS",
        "outputId": "b6977353-a457-4a0d-aabb-11d0cf2ad1fc"
      },
      "source": [
        "export_model = tf.keras.Sequential([vectorize_layer,model,layers.Activation('sigmoid')])\n",
        "export_model.compile(loss=losses.BinaryCrossentropy(from_logits=False), optimizer=\"adam\", metrics=[f1_metric])\n",
        "loss, accuracy = export_model.evaluate(raw_test_ds)\n",
        "print(accuracy)"
      ],
      "execution_count": null,
      "outputs": [
        {
          "output_type": "stream",
          "name": "stdout",
          "text": [
            "782/782 [==============================] - 9s 11ms/step - loss: 0.7241 - f1_metric: 0.6625\n",
            "0.6625464558601379\n"
          ]
        }
      ]
    },
    {
      "cell_type": "code",
      "metadata": {
        "colab": {
          "base_uri": "https://localhost:8080/"
        },
        "id": "pGsJkHeZZCrH",
        "outputId": "10dac632-72f4-46b0-d2a5-d7206e826eb8"
      },
      "source": [
        "examples = [\n",
        "  \"The movie was great!\",\n",
        "  \"The movie was okay.\",\n",
        "  \"The movie was terrible...\"\n",
        "]\n",
        "export_model.predict(examples)"
      ],
      "execution_count": null,
      "outputs": [
        {
          "output_type": "execute_result",
          "data": {
            "text/plain": [
              "array([[0.6831099],\n",
              "       [0.5554961],\n",
              "       [0.5299033]], dtype=float32)"
            ]
          },
          "metadata": {},
          "execution_count": 89
        }
      ]
    },
    {
      "cell_type": "markdown",
      "metadata": {
        "id": "ylw3rhgPgr8d"
      },
      "source": [
        "Word embeddings: Can you look at a word of your choice and identify the top 10 words that are most similar to your choice word. How did you do that? Document your process.\n",
        "\n",
        "I have trained Custom Word2Vec Embeddings only on our entire text given, calling in the form of Dataframes"
      ]
    },
    {
      "cell_type": "code",
      "metadata": {
        "id": "_adIVN_1f7xM"
      },
      "source": [
        "path = '/content/drive/My Drive/'\n",
        "df = pd.read_csv(path + 'trainffn.csv')\n",
        "df1 = pd.read_csv(path + 'testffn.csv')\n",
        "x=df['text'].append(df1['text'])"
      ],
      "execution_count": null,
      "outputs": []
    },
    {
      "cell_type": "code",
      "metadata": {
        "colab": {
          "base_uri": "https://localhost:8080/"
        },
        "id": "5ks6o2Xb_GcB",
        "outputId": "f03816c4-67d4-4067-a8a2-5051e2b3f2b9"
      },
      "source": [
        "from gensim.models import Word2Vec\n",
        "# define training data\n",
        "sentences = [['this', 'is', 'the', 'first', 'sentence', 'for', 'word2vec'],\n",
        "\t\t\t['this', 'is', 'the', 'second', 'sentence'],\n",
        "\t\t\t['yet', 'another', 'sentence'],\n",
        "\t\t\t['one', 'more', 'sentence'],\n",
        "\t\t\t['and', 'the', 'final', 'sentence']]\n",
        "# train model\n",
        "model = Word2Vec([i.split() for i in x], min_count=1)\n",
        "words = list(model.wv.vocab)\n",
        "model.save('model.bin')\n",
        "new_model = Word2Vec.load('model.bin')\n",
        "new_model.most_similar(positive=['make'], topn=10)"
      ],
      "execution_count": null,
      "outputs": [
        {
          "output_type": "stream",
          "name": "stderr",
          "text": [
            "/usr/local/lib/python3.7/dist-packages/ipykernel_launcher.py:23: DeprecationWarning: Call to deprecated `most_similar` (Method will be removed in 4.0.0, use self.wv.most_similar() instead).\n"
          ]
        },
        {
          "output_type": "execute_result",
          "data": {
            "text/plain": [
              "[('create', 0.5375388264656067),\n",
              " ('sentencelong', 0.5084735751152039),\n",
              " ('actually', 0.4972057342529297),\n",
              " ('maker', 0.49004247784614563),\n",
              " ('downturned', 0.48531222343444824),\n",
              " ('common', 0.4819379448890686),\n",
              " ('throatclenching', 0.4816790521144867),\n",
              " ('still', 0.48053935170173645),\n",
              " ('errupted', 0.47936275601387024),\n",
              " ('neargenius', 0.4679349660873413)]"
            ]
          },
          "metadata": {},
          "execution_count": 38
        }
      ]
    },
    {
      "cell_type": "markdown",
      "metadata": {
        "id": "FFK661dlhBzF"
      },
      "source": [
        "Comparison with Logistic Regression model: Train a logistic regression model with sklearn based on the TF-IDF vectorizer and compare the model's performance with a model trained using count vectorizer. Can you compare the performance of the logistic regression models with the deep learning models that you trained above? Make sure that you use the same split for training and testing both Keras and sklearn models. Note that sklearn data split function can give a different train-test split than the Keras function: https://www.tensorflow.org/api_docs/python/tf/keras/preprocessing/text_dataset_from_directory"
      ]
    },
    {
      "cell_type": "markdown",
      "metadata": {
        "id": "7wsRvuxhjuZS"
      },
      "source": [
        "**Logistic Regression with Count Vectorizer**"
      ]
    },
    {
      "cell_type": "code",
      "metadata": {
        "colab": {
          "base_uri": "https://localhost:8080/",
          "height": 405
        },
        "id": "0aWi86_hjycC",
        "outputId": "d59eae96-8066-44aa-bf5d-32aa3259cfb2"
      },
      "source": [
        "def confusion_matrixs(y, yp):\n",
        "  #k = sorted(y.unique())\n",
        "  k = sorted(list(set(y)))\n",
        "  df = pd.DataFrame(index=k, columns=k)\n",
        "  df.fillna(0, inplace=True)\n",
        "  for i, j in zip(y, yp):\n",
        "    df.loc[i, j] += 1\n",
        "  sns.heatmap(df, annot=True)\n",
        "  plt.plot()\n",
        "def get_feature_list(x,y,pca=0):\n",
        "  count_transformer1 = CountVectorizer()\n",
        "  x1= count_transformer1.fit_transform(x)\n",
        "  x1 = x1.toarray()\n",
        "  if pca !=0:\n",
        "    pcas = PCA(pca).fit(x1)\n",
        "    x1 = pcas.transform(x1)\n",
        "  train_x,train_y = x1,y\n",
        "  return train_x,train_y\n",
        "x=df['text']\n",
        "y=df['label']\n",
        "xt=df1['text']\n",
        "yt=df1['label']\n",
        "train_x,train_y= get_feature_list(x,y,pca=100)\n",
        "test_x,test_y= get_feature_list(xt,yt,pca=100)\n",
        "\n",
        "X_train,y_train,X_test,y_test=train_x,train_y,test_x,test_y\n",
        "sgdl = SGDClassifier(eta0=0.0001, alpha=0.0001, loss='log',random_state=15, penalty='elasticnet', tol=1e-3,learning_rate='optimal')\n",
        "sgdl.fit(X_train, y_train)\n",
        "print(f'train accuracy: {sgdl.score(X_train, y_train)}')\n",
        "accuracy = accuracy_score(y_test, sgdl.predict(X_test))\n",
        "conf_mat = confusion_matrix(y_test,sgdl.predict(X_test))\n",
        "c=np.array([[i] for i in np.append(np.array([[i] for i in sgdl.coef_[0]]),[0])])\n",
        "print(\"The accuracy of the model is :\", round(accuracy,3)*100,\"%\")\n",
        "print(\"Confusion Matrix:\\n\",conf_mat)\n",
        "precision, recall, fscore, support = precision_recall_fscore_support(y_test,sgdl.predict(X_test), average='weighted')\n",
        "print('Precision = ',round(precision,4),'\\nRecall = ', round(recall,4), '\\nF-Score = ',round(fscore,4))\n",
        "confusion_matrixs(y_test, sgdl.predict(X_test))"
      ],
      "execution_count": null,
      "outputs": [
        {
          "output_type": "stream",
          "name": "stdout",
          "text": [
            "train accuracy: 0.7685\n",
            "The accuracy of the model is : 50.0 %\n",
            "Confusion Matrix:\n",
            " [[42 58]\n",
            " [42 58]]\n",
            "Precision =  0.5 \n",
            "Recall =  0.5 \n",
            "F-Score =  0.4968\n"
          ]
        },
        {
          "output_type": "display_data",
          "data": {
            "image/png": "[encoded data removed]",
            "text/plain": [
              "<Figure size 432x288 with 2 Axes>"
            ]
          },
          "metadata": {
            "needs_background": "light"
          }
        }
      ]
    },
    {
      "cell_type": "markdown",
      "metadata": {
        "id": "MPmoLoVqd7Hk"
      },
      "source": [
        "**Logistic Regression with Tf-Idf Vectorizer**"
      ]
    },
    {
      "cell_type": "code",
      "metadata": {
        "colab": {
          "base_uri": "https://localhost:8080/",
          "height": 405
        },
        "id": "ES26NFp1hUpZ",
        "outputId": "2a1c0a88-2e07-4469-98ac-3974626f630f"
      },
      "source": [
        "def get_feature_list(x,y,pca=0):\n",
        "  tfidf_transformer1 = TfidfVectorizer()\n",
        "  x1= tfidf_transformer1.fit_transform(x)\n",
        "  x1 = x1.toarray()\n",
        "  if pca !=0:\n",
        "    pcas = PCA(pca).fit(x1)\n",
        "    x1 = pcas.transform(x1)\n",
        "  train_x,train_y = x1,y\n",
        "  return train_x,train_y\n",
        "x=df['text']\n",
        "y=df['label']\n",
        "xt=df1['text']\n",
        "yt=df1['label']\n",
        "train_x,train_y= get_feature_list(x,y,pca=100)\n",
        "test_x,test_y= get_feature_list(xt,yt,pca=100)\n",
        "X_train,y_train,X_test,y_test=train_x,train_y,test_x,test_y\n",
        "sgdl = SGDClassifier(eta0=0.0001, alpha=0.0001, loss='log',random_state=15, penalty='elasticnet', tol=1e-3,learning_rate='optimal')\n",
        "sgdl.fit(X_train, y_train)\n",
        "print(f'train accuracy: {sgdl.score(X_train, y_train)}')\n",
        "accuracy = accuracy_score(y_test, sgdl.predict(X_test))\n",
        "conf_mat = confusion_matrix(y_test,sgdl.predict(X_test))\n",
        "c=np.array([[i] for i in np.append(np.array([[i] for i in sgdl.coef_[0]]),[0])])\n",
        "print(\"The accuracy of the model is :\", round(accuracy,3)*100,\"%\")\n",
        "print(\"Confusion Matrix:\\n\",conf_mat)\n",
        "precision, recall, fscore, support = precision_recall_fscore_support(y_test,sgdl.predict(X_test), average='weighted')\n",
        "print('Precision = ',round(precision,4),'\\nRecall = ', round(recall,4), '\\nF-Score = ',round(fscore,4))\n",
        "confusion_matrixs(y_test, sgdl.predict(X_test))"
      ],
      "execution_count": null,
      "outputs": [
        {
          "output_type": "stream",
          "name": "stdout",
          "text": [
            "train accuracy: 0.845\n",
            "The accuracy of the model is : 53.0 %\n",
            "Confusion Matrix:\n",
            " [[46 54]\n",
            " [40 60]]\n",
            "Precision =  0.5306 \n",
            "Recall =  0.53 \n",
            "F-Score =  0.5277\n"
          ]
        },
        {
          "output_type": "display_data",
          "data": {
            "image/png": "[encoded data removed]",
            "text/plain": [
              "<Figure size 432x288 with 2 Axes>"
            ]
          },
          "metadata": {
            "needs_background": "light"
          }
        }
      ]
    },
    {
      "cell_type": "markdown",
      "metadata": {
        "id": "q9aoKeneKXKg"
      },
      "source": [
        "**Comparision of Model Performances on Testing Dataset Nueral Network Feed forward and Logistic Regression **\n",
        "\n",
        "Feed Forward Neural Networks is 86.5%\n",
        "\n",
        "Logistic Regression with Count Vectorisation is 50%\n",
        "\n",
        "Logistic Regression with Tf-Idf Vectorisation is 53%\n"
      ]
    },
    {
      "cell_type": "code",
      "metadata": {
        "id": "yi7t6Fied5Kd"
      },
      "source": [
        ""
      ],
      "execution_count": null,
      "outputs": []
    },
    {
      "cell_type": "code",
      "metadata": {
        "id": "Py0chhfzEThN"
      },
      "source": [
        ""
      ],
      "execution_count": null,
      "outputs": []
    }
  ]
}