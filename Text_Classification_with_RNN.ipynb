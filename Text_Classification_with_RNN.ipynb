{
  "nbformat": 4,
  "nbformat_minor": 0,
  "metadata": {
    "colab": {
      "name": "Text Classification with RNN.ipynb",
      "provenance": [],
      "collapsed_sections": []
    },
    "kernelspec": {
      "display_name": "Python 3",
      "name": "python3"
    },
    "language_info": {
      "name": "python"
    },
    "accelerator": "GPU"
  },
  "cells": [
    {
      "cell_type": "code",
      "metadata": {
        "colab": {
          "base_uri": "https://localhost:8080/"
        },
        "id": "v0jia2vzQ2WJ",
        "outputId": "f5f20206-b86a-417f-c7b1-518821ad9399"
      },
      "source": [
        "from google.colab import drive\n",
        "drive.mount('/content/drive')"
      ],
      "execution_count": null,
      "outputs": [
        {
          "output_type": "stream",
          "name": "stdout",
          "text": [
            "Drive already mounted at /content/drive; to attempt to forcibly remount, call drive.mount(\"/content/drive\", force_remount=True).\n"
          ]
        }
      ]
    },
    {
      "cell_type": "markdown",
      "metadata": {
        "id": "BAhlg1fTREMJ"
      },
      "source": [
        "In this assignment, you will work with RNNs for text classification. Get familiar with the link below:\n",
        "\n",
        "https://www.tensorflow.org/tutorials/text/text_classification_rnn (Links to an external site.)\n",
        "\n",
        "Can you train and test what happens with different settings?\n",
        "\n",
        "Embedding sizes: Three different sizes -**Used (64,84,96)**\n",
        "\n",
        "Vocabulary size. - **Used (1000,2000)**\n",
        "\n",
        "Size of hidden states in the LSTM. **-Used(64,84,96,32)**\n",
        "\n",
        "GRU in place of LSTM. Which is faster to train? **(Used) LSTM**\n",
        "\n",
        "Two different optimizers in place of Adam. **Used (Adagrad, RMSprop)**\n",
        "\n",
        "\n"
      ]
    },
    {
      "cell_type": "code",
      "metadata": {
        "colab": {
          "base_uri": "https://localhost:8080/"
        },
        "id": "ZUXL2BGLRE23",
        "outputId": "0e8a4edf-1581-45a1-f368-1633df453806"
      },
      "source": [
        "import tarfile\n",
        "import os\n",
        "import pandas as pd\n",
        "import string\n",
        "import numpy as np\n",
        "import matplotlib.pyplot as plt\n",
        "punctuations= string.punctuation\n",
        "import nltk\n",
        "nltk.download('stopwords')\n",
        "nltk.download('wordnet')\n",
        "from nltk.corpus import stopwords\n",
        "stopword_list = stopwords.words(\"english\")\n",
        "from nltk.stem.wordnet import WordNetLemmatizer\n",
        "lem = WordNetLemmatizer()\n",
        "from nltk.tokenize import word_tokenize\n",
        "nltk.download('punkt')\n",
        "from sklearn.feature_extraction.text import CountVectorizer, TfidfVectorizer,TfidfTransformer\n",
        "from sklearn.metrics import accuracy_score,classification_report, confusion_matrix,f1_score,precision_recall_fscore_support,log_loss\n",
        "from sklearn.linear_model import Lasso, SGDClassifier,LogisticRegression as LR\n",
        "from sklearn.feature_selection import SelectFromModel\n",
        "from sklearn.model_selection import train_test_split,GridSearchCV\n",
        "from sklearn.decomposition import PCA,TruncatedSVD\n",
        "from sklearn.datasets import make_blobs\n",
        "from sklearn.neural_network import MLPClassifier\n",
        "from tqdm import tqdm\n",
        "from sklearn.svm import SVC\n",
        "import seaborn as sns\n",
        "import pylab as pl\n",
        "import tensorflow as tf\n",
        "import re\n",
        "import shutil\n",
        "import string\n",
        "import tensorflow as tf\n",
        "from tensorflow.keras import layers\n",
        "from tensorflow.keras import losses\n",
        "import numpy as np\n",
        "\n",
        "import tensorflow_datasets as tfds\n",
        "import tensorflow as tf\n",
        "\n",
        "tfds.disable_progress_bar()\n",
        "import matplotlib.pyplot as plt\n",
        "\n",
        "\n",
        "def plot_graphs(history, metric):\n",
        "  plt.plot(history.history[metric])\n",
        "  plt.plot(history.history['val_'+metric], '')\n",
        "  plt.xlabel(\"Epochs\")\n",
        "  plt.ylabel(metric)\n",
        "  plt.legend([metric, 'val_'+metric])"
      ],
      "execution_count": null,
      "outputs": [
        {
          "output_type": "stream",
          "name": "stdout",
          "text": [
            "[nltk_data] Downloading package stopwords to /root/nltk_data...\n",
            "[nltk_data]   Unzipping corpora/stopwords.zip.\n",
            "[nltk_data] Downloading package wordnet to /root/nltk_data...\n",
            "[nltk_data]   Unzipping corpora/wordnet.zip.\n",
            "[nltk_data] Downloading package punkt to /root/nltk_data...\n",
            "[nltk_data]   Unzipping tokenizers/punkt.zip.\n"
          ]
        }
      ]
    },
    {
      "cell_type": "code",
      "metadata": {
        "colab": {
          "base_uri": "https://localhost:8080/"
        },
        "id": "lJ8fKd3ERnEl",
        "outputId": "99533155-e158-4a78-c320-b79f5223e680"
      },
      "source": [
        "dataset, info = tfds.load('imdb_reviews', with_info=True,as_supervised=True)\n",
        "train_dataset, test_dataset = dataset['train'], dataset['test']\n",
        "train_dataset.element_spec"
      ],
      "execution_count": null,
      "outputs": [
        {
          "output_type": "stream",
          "name": "stdout",
          "text": [
            "\u001b[1mDownloading and preparing dataset imdb_reviews/plain_text/1.0.0 (download: 80.23 MiB, generated: Unknown size, total: 80.23 MiB) to /root/tensorflow_datasets/imdb_reviews/plain_text/1.0.0...\u001b[0m\n",
            "Shuffling and writing examples to /root/tensorflow_datasets/imdb_reviews/plain_text/1.0.0.incompleteON2YLT/imdb_reviews-train.tfrecord\n",
            "Shuffling and writing examples to /root/tensorflow_datasets/imdb_reviews/plain_text/1.0.0.incompleteON2YLT/imdb_reviews-test.tfrecord\n",
            "Shuffling and writing examples to /root/tensorflow_datasets/imdb_reviews/plain_text/1.0.0.incompleteON2YLT/imdb_reviews-unsupervised.tfrecord\n"
          ]
        },
        {
          "output_type": "stream",
          "name": "stderr",
          "text": [
            "WARNING:absl:Dataset is using deprecated text encoder API which will be removed soon. Please use the plain_text version of the dataset and migrate to `tensorflow_text`.\n"
          ]
        },
        {
          "output_type": "stream",
          "name": "stdout",
          "text": [
            "\u001b[1mDataset imdb_reviews downloaded and prepared to /root/tensorflow_datasets/imdb_reviews/plain_text/1.0.0. Subsequent calls will reuse this data.\u001b[0m\n"
          ]
        },
        {
          "output_type": "execute_result",
          "data": {
            "text/plain": [
              "(TensorSpec(shape=(), dtype=tf.string, name=None),\n",
              " TensorSpec(shape=(), dtype=tf.int64, name=None))"
            ]
          },
          "metadata": {},
          "execution_count": 6
        }
      ]
    },
    {
      "cell_type": "code",
      "metadata": {
        "id": "iAN43SEkTns8"
      },
      "source": [
        "BUFFER_SIZE = 10000\n",
        "BATCH_SIZE = 64\n",
        "train_dataset = train_dataset.shuffle(BUFFER_SIZE).batch(BATCH_SIZE).prefetch(tf.data.AUTOTUNE)\n",
        "test_dataset = test_dataset.batch(BATCH_SIZE).prefetch(tf.data.AUTOTUNE)\n",
        "VOCAB_SIZE = 1000\n",
        "encoder = tf.keras.layers.TextVectorization(max_tokens=VOCAB_SIZE)\n",
        "encoder.adapt(train_dataset.map(lambda text, label: text))\n",
        "VOCAB_SIZE = 2000\n",
        "encoder1 = tf.keras.layers.TextVectorization(max_tokens=VOCAB_SIZE)\n",
        "encoder1.adapt(train_dataset.map(lambda text, label: text))"
      ],
      "execution_count": null,
      "outputs": []
    },
    {
      "cell_type": "markdown",
      "metadata": {
        "id": "lt4IB2oFMzPA"
      },
      "source": [
        "##**Single Bi-LSTM**##"
      ]
    },
    {
      "cell_type": "code",
      "metadata": {
        "colab": {
          "base_uri": "https://localhost:8080/"
        },
        "id": "k0XN-WC3T4Ir",
        "outputId": "8e248438-73ff-4a89-b7cd-bd3942623a9b"
      },
      "source": [
        "model = tf.keras.Sequential([\n",
        "    encoder,\n",
        "    tf.keras.layers.Embedding(\n",
        "        input_dim=len(encoder.get_vocabulary()),\n",
        "        output_dim=64,\n",
        "        # Use masking to handle the variable sequence lengths\n",
        "        mask_zero=True),\n",
        "    tf.keras.layers.Bidirectional(tf.keras.layers.LSTM(64)),\n",
        "    tf.keras.layers.Dense(64, activation='relu'),\n",
        "    tf.keras.layers.Dense(1)\n",
        "])\n",
        "model.compile(loss=tf.keras.losses.BinaryCrossentropy(from_logits=True),optimizer=tf.keras.optimizers.Adam(1e-4),metrics=['accuracy'])\n",
        "model.summary()"
      ],
      "execution_count": null,
      "outputs": [
        {
          "output_type": "stream",
          "name": "stdout",
          "text": [
            "Model: \"sequential\"\n",
            "_________________________________________________________________\n",
            " Layer (type)                Output Shape              Param #   \n",
            "=================================================================\n",
            " text_vectorization (TextVec  (None, None)             0         \n",
            " torization)                                                     \n",
            "                                                                 \n",
            " embedding (Embedding)       (None, None, 64)          64000     \n",
            "                                                                 \n",
            " bidirectional (Bidirectiona  (None, 128)              66048     \n",
            " l)                                                              \n",
            "                                                                 \n",
            " dense (Dense)               (None, 64)                8256      \n",
            "                                                                 \n",
            " dense_1 (Dense)             (None, 1)                 65        \n",
            "                                                                 \n",
            "=================================================================\n",
            "Total params: 138,369\n",
            "Trainable params: 138,369\n",
            "Non-trainable params: 0\n",
            "_________________________________________________________________\n"
          ]
        }
      ]
    },
    {
      "cell_type": "code",
      "metadata": {
        "colab": {
          "base_uri": "https://localhost:8080/"
        },
        "id": "Ce-SjzWNWg2O",
        "outputId": "f8907a9c-5465-4be7-804a-df08328d784c"
      },
      "source": [
        "history = model.fit(train_dataset, epochs=10, validation_data=test_dataset, validation_steps=30)"
      ],
      "execution_count": null,
      "outputs": [
        {
          "output_type": "stream",
          "name": "stdout",
          "text": [
            "Epoch 1/10\n",
            "391/391 [==============================] - 113s 250ms/step - loss: 0.6520 - accuracy: 0.5586 - val_loss: 0.5211 - val_accuracy: 0.7505\n",
            "Epoch 2/10\n",
            "391/391 [==============================] - 94s 239ms/step - loss: 0.4195 - accuracy: 0.8067 - val_loss: 0.3769 - val_accuracy: 0.8151\n",
            "Epoch 3/10\n",
            "391/391 [==============================] - 97s 246ms/step - loss: 0.3453 - accuracy: 0.8470 - val_loss: 0.3454 - val_accuracy: 0.8443\n",
            "Epoch 4/10\n",
            "391/391 [==============================] - 95s 241ms/step - loss: 0.3290 - accuracy: 0.8555 - val_loss: 0.3364 - val_accuracy: 0.8573\n",
            "Epoch 5/10\n",
            "391/391 [==============================] - 96s 244ms/step - loss: 0.3149 - accuracy: 0.8633 - val_loss: 0.3419 - val_accuracy: 0.8370\n",
            "Epoch 6/10\n",
            "391/391 [==============================] - 93s 236ms/step - loss: 0.3126 - accuracy: 0.8635 - val_loss: 0.3252 - val_accuracy: 0.8583\n",
            "Epoch 7/10\n",
            "391/391 [==============================] - 98s 247ms/step - loss: 0.3063 - accuracy: 0.8682 - val_loss: 0.3229 - val_accuracy: 0.8547\n",
            "Epoch 8/10\n",
            "391/391 [==============================] - 95s 241ms/step - loss: 0.3045 - accuracy: 0.8692 - val_loss: 0.3219 - val_accuracy: 0.8568\n",
            "Epoch 9/10\n",
            "391/391 [==============================] - 94s 237ms/step - loss: 0.2998 - accuracy: 0.8705 - val_loss: 0.3307 - val_accuracy: 0.8484\n",
            "Epoch 10/10\n",
            "391/391 [==============================] - 93s 235ms/step - loss: 0.3002 - accuracy: 0.8711 - val_loss: 0.3296 - val_accuracy: 0.8615\n"
          ]
        }
      ]
    },
    {
      "cell_type": "code",
      "metadata": {
        "id": "CNsEifwzWkvh",
        "colab": {
          "base_uri": "https://localhost:8080/",
          "height": 569
        },
        "outputId": "ef1fd0cf-3561-44dd-cdf6-cb6a790bede5"
      },
      "source": [
        "test_loss, test_acc = model.evaluate(test_dataset)\n",
        "\n",
        "print('Test Loss:', test_loss)\n",
        "print('Test Accuracy:', test_acc)\n",
        "plt.figure(figsize=(16, 8))\n",
        "plt.subplot(1, 2, 1)\n",
        "plot_graphs(history, 'accuracy')\n",
        "plt.ylim(None, 1)\n",
        "plt.subplot(1, 2, 2)\n",
        "plot_graphs(history, 'loss')\n",
        "plt.ylim(0, None)"
      ],
      "execution_count": null,
      "outputs": [
        {
          "output_type": "stream",
          "name": "stdout",
          "text": [
            "391/391 [==============================] - 49s 126ms/step - loss: 0.3261 - accuracy: 0.8642\n",
            "Test Loss: 0.3260953426361084\n",
            "Test Accuracy: 0.8642399907112122\n"
          ]
        },
        {
          "output_type": "execute_result",
          "data": {
            "text/plain": [
              "(0.0, 0.6696360751986503)"
            ]
          },
          "metadata": {},
          "execution_count": 14
        },
        {
          "output_type": "display_data",
          "data": {
            "image/png": "[encoded data removed]",
            "text/plain": [
              "<Figure size 1152x576 with 2 Axes>"
            ]
          },
          "metadata": {
            "needs_background": "light"
          }
        }
      ]
    },
    {
      "cell_type": "code",
      "metadata": {
        "id": "71Sf5kLFWpz-",
        "colab": {
          "base_uri": "https://localhost:8080/"
        },
        "outputId": "ec1e815a-f73e-4539-8b8d-c12eeac34d30"
      },
      "source": [
        "sample_text = ('The movie was cool. The animation and the graphics '\n",
        "               'were out of this world. I would recommend this movie.')\n",
        "predictions = model.predict(np.array([sample_text]))\n",
        "predictions"
      ],
      "execution_count": null,
      "outputs": [
        {
          "output_type": "execute_result",
          "data": {
            "text/plain": [
              "array([[0.62843364]], dtype=float32)"
            ]
          },
          "metadata": {},
          "execution_count": 18
        }
      ]
    },
    {
      "cell_type": "markdown",
      "metadata": {
        "id": "daAsUitpNzAI"
      },
      "source": [
        "# **Single GRU**"
      ]
    },
    {
      "cell_type": "code",
      "metadata": {
        "id": "rLHJigqwNziT",
        "colab": {
          "base_uri": "https://localhost:8080/"
        },
        "outputId": "59d1c5cf-a6e3-4898-d283-bfb2f709a58a"
      },
      "source": [
        "model4 = tf.keras.Sequential([\n",
        "    encoder,\n",
        "    tf.keras.layers.Embedding(input_dim=len(encoder1.get_vocabulary()),output_dim=96,mask_zero=True),\n",
        "    tf.keras.layers.Bidirectional(tf.keras.layers.GRU(96)),\n",
        "    tf.keras.layers.Dense(64, activation='relu'),\n",
        "    tf.keras.layers.Dense(1)\n",
        "])\n",
        "model4.compile(loss=tf.keras.losses.BinaryCrossentropy(from_logits=True),optimizer=tf.keras.optimizers.Adagrad(1e-4),metrics=['accuracy'])\n",
        "model4.summary()"
      ],
      "execution_count": null,
      "outputs": [
        {
          "output_type": "stream",
          "name": "stdout",
          "text": [
            "Model: \"sequential_2\"\n",
            "_________________________________________________________________\n",
            " Layer (type)                Output Shape              Param #   \n",
            "=================================================================\n",
            " text_vectorization (TextVec  (None, None)             0         \n",
            " torization)                                                     \n",
            "                                                                 \n",
            " embedding_2 (Embedding)     (None, None, 96)          192000    \n",
            "                                                                 \n",
            " bidirectional_2 (Bidirectio  (None, 192)              111744    \n",
            " nal)                                                            \n",
            "                                                                 \n",
            " dense_4 (Dense)             (None, 64)                12352     \n",
            "                                                                 \n",
            " dense_5 (Dense)             (None, 1)                 65        \n",
            "                                                                 \n",
            "=================================================================\n",
            "Total params: 316,161\n",
            "Trainable params: 316,161\n",
            "Non-trainable params: 0\n",
            "_________________________________________________________________\n"
          ]
        }
      ]
    },
    {
      "cell_type": "code",
      "metadata": {
        "id": "knjYv0EyRnjP",
        "colab": {
          "base_uri": "https://localhost:8080/"
        },
        "outputId": "196ae743-c86a-4c2e-b3da-22d221f2a64b"
      },
      "source": [
        "history = model4.fit(train_dataset, epochs=10,validation_data=test_dataset,validation_steps=30)"
      ],
      "execution_count": null,
      "outputs": [
        {
          "output_type": "stream",
          "name": "stdout",
          "text": [
            "Epoch 1/10\n",
            "391/391 [==============================] - 119s 278ms/step - loss: 0.6932 - accuracy: 0.5000 - val_loss: 0.6932 - val_accuracy: 0.4917\n",
            "Epoch 2/10\n",
            "391/391 [==============================] - 102s 259ms/step - loss: 0.6932 - accuracy: 0.5000 - val_loss: 0.6932 - val_accuracy: 0.4917\n",
            "Epoch 3/10\n",
            "391/391 [==============================] - 102s 259ms/step - loss: 0.6932 - accuracy: 0.5000 - val_loss: 0.6932 - val_accuracy: 0.4917\n",
            "Epoch 4/10\n",
            "391/391 [==============================] - 101s 256ms/step - loss: 0.6932 - accuracy: 0.5000 - val_loss: 0.6931 - val_accuracy: 0.4917\n",
            "Epoch 5/10\n",
            "391/391 [==============================] - 101s 257ms/step - loss: 0.6932 - accuracy: 0.5000 - val_loss: 0.6931 - val_accuracy: 0.4917\n",
            "Epoch 6/10\n",
            "391/391 [==============================] - 102s 259ms/step - loss: 0.6932 - accuracy: 0.5000 - val_loss: 0.6931 - val_accuracy: 0.4917\n",
            "Epoch 7/10\n",
            "391/391 [==============================] - 102s 257ms/step - loss: 0.6932 - accuracy: 0.5000 - val_loss: 0.6931 - val_accuracy: 0.4917\n",
            "Epoch 8/10\n",
            "391/391 [==============================] - 101s 256ms/step - loss: 0.6931 - accuracy: 0.5000 - val_loss: 0.6930 - val_accuracy: 0.4917\n",
            "Epoch 9/10\n",
            "391/391 [==============================] - 101s 257ms/step - loss: 0.6931 - accuracy: 0.5000 - val_loss: 0.6930 - val_accuracy: 0.4917\n",
            "Epoch 10/10\n",
            "391/391 [==============================] - 102s 258ms/step - loss: 0.6931 - accuracy: 0.5000 - val_loss: 0.6930 - val_accuracy: 0.4917\n"
          ]
        }
      ]
    },
    {
      "cell_type": "code",
      "metadata": {
        "id": "wEgm0yO3Nzrd",
        "colab": {
          "base_uri": "https://localhost:8080/"
        },
        "outputId": "86e5cb20-076c-4300-bad0-79fdc85c4efb"
      },
      "source": [
        "test_loss4, test_acc4 = model4.evaluate(test_dataset)\n",
        "print('Test Loss:', test_loss4)\n",
        "print('Test Accuracy:', test_acc4)"
      ],
      "execution_count": null,
      "outputs": [
        {
          "output_type": "stream",
          "name": "stdout",
          "text": [
            "391/391 [==============================] - 50s 128ms/step - loss: 0.6931 - accuracy: 0.5000\n",
            "Test Loss: 0.6931267380714417\n",
            "Test Accuracy: 0.5\n"
          ]
        }
      ]
    },
    {
      "cell_type": "code",
      "metadata": {
        "id": "alOsU9JPNzyq",
        "colab": {
          "base_uri": "https://localhost:8080/",
          "height": 405
        },
        "outputId": "ab73e4e5-5a55-4e21-9e2d-b394a93a8d28"
      },
      "source": [
        "# predict on a sample text without padding.\n",
        "\n",
        "sample_text = ('The movie was not good. The animation and the graphics '\n",
        "               'were terrible. I would not recommend this movie.')\n",
        "predictions = model4.predict(np.array([sample_text]))\n",
        "print(predictions)\n",
        "plt.figure(figsize=(16, 6))\n",
        "plt.subplot(1, 2, 1)\n",
        "plot_graphs(history, 'accuracy')\n",
        "plt.subplot(1, 2, 2)\n",
        "plot_graphs(history, 'loss')"
      ],
      "execution_count": null,
      "outputs": [
        {
          "output_type": "stream",
          "name": "stdout",
          "text": [
            "[[-0.01147594]]\n"
          ]
        },
        {
          "output_type": "display_data",
          "data": {
            "image/png": "[encoded data removed]",
            "text/plain": [
              "<Figure size 1152x432 with 2 Axes>"
            ]
          },
          "metadata": {
            "needs_background": "light"
          }
        }
      ]
    },
    {
      "cell_type": "markdown",
      "metadata": {
        "id": "KLzpz8T2M76o"
      },
      "source": [
        "# **Stacked Bidirectional LSTM**"
      ]
    },
    {
      "cell_type": "code",
      "metadata": {
        "id": "fUEfCtRcWsF_",
        "colab": {
          "base_uri": "https://localhost:8080/"
        },
        "outputId": "9b240db6-d9bc-4574-ebea-986188486383"
      },
      "source": [
        "model1 = tf.keras.Sequential([\n",
        "    encoder,\n",
        "    tf.keras.layers.Embedding(len(encoder.get_vocabulary()), 84, mask_zero=True),\n",
        "    tf.keras.layers.Bidirectional(tf.keras.layers.LSTM(84,  return_sequences=True)),\n",
        "    tf.keras.layers.Bidirectional(tf.keras.layers.LSTM(32)),\n",
        "    tf.keras.layers.Dense(64, activation='relu'),\n",
        "    tf.keras.layers.Dropout(0.5),\n",
        "    tf.keras.layers.Dense(1)\n",
        "])\n",
        "model1.compile(loss=tf.keras.losses.BinaryCrossentropy(from_logits=True),optimizer=tf.keras.optimizers.Adam(1e-4),metrics=['accuracy'])\n",
        "model1.summary()"
      ],
      "execution_count": null,
      "outputs": [
        {
          "output_type": "stream",
          "name": "stdout",
          "text": [
            "Model: \"sequential_3\"\n",
            "_________________________________________________________________\n",
            " Layer (type)                Output Shape              Param #   \n",
            "=================================================================\n",
            " text_vectorization (TextVec  (None, None)             0         \n",
            " torization)                                                     \n",
            "                                                                 \n",
            " embedding_3 (Embedding)     (None, None, 84)          84000     \n",
            "                                                                 \n",
            " bidirectional_3 (Bidirectio  (None, None, 168)        113568    \n",
            " nal)                                                            \n",
            "                                                                 \n",
            " bidirectional_4 (Bidirectio  (None, 64)               51456     \n",
            " nal)                                                            \n",
            "                                                                 \n",
            " dense_6 (Dense)             (None, 64)                4160      \n",
            "                                                                 \n",
            " dropout (Dropout)           (None, 64)                0         \n",
            "                                                                 \n",
            " dense_7 (Dense)             (None, 1)                 65        \n",
            "                                                                 \n",
            "=================================================================\n",
            "Total params: 253,249\n",
            "Trainable params: 253,249\n",
            "Non-trainable params: 0\n",
            "_________________________________________________________________\n"
          ]
        }
      ]
    },
    {
      "cell_type": "code",
      "metadata": {
        "id": "e3mflWXdWyCb",
        "colab": {
          "base_uri": "https://localhost:8080/"
        },
        "outputId": "ce79ff5b-c50c-49c8-9f84-d346008b73d7"
      },
      "source": [
        "history = model1.fit(train_dataset, epochs=10,validation_data=test_dataset,validation_steps=30)"
      ],
      "execution_count": null,
      "outputs": [
        {
          "output_type": "stream",
          "name": "stdout",
          "text": [
            "Epoch 1/10\n",
            "391/391 [==============================] - 208s 482ms/step - loss: 0.6169 - accuracy: 0.6039 - val_loss: 0.4409 - val_accuracy: 0.7891\n",
            "Epoch 2/10\n",
            "391/391 [==============================] - 180s 457ms/step - loss: 0.3821 - accuracy: 0.8356 - val_loss: 0.3436 - val_accuracy: 0.8505\n",
            "Epoch 3/10\n",
            "391/391 [==============================] - 179s 456ms/step - loss: 0.3394 - accuracy: 0.8567 - val_loss: 0.3275 - val_accuracy: 0.8500\n",
            "Epoch 4/10\n",
            "391/391 [==============================] - 180s 458ms/step - loss: 0.3191 - accuracy: 0.8636 - val_loss: 0.3200 - val_accuracy: 0.8615\n",
            "Epoch 5/10\n",
            "391/391 [==============================] - 180s 458ms/step - loss: 0.3148 - accuracy: 0.8657 - val_loss: 0.3210 - val_accuracy: 0.8490\n",
            "Epoch 6/10\n",
            "391/391 [==============================] - 181s 459ms/step - loss: 0.3075 - accuracy: 0.8693 - val_loss: 0.3282 - val_accuracy: 0.8417\n",
            "Epoch 7/10\n",
            "391/391 [==============================] - 181s 459ms/step - loss: 0.3032 - accuracy: 0.8710 - val_loss: 0.3162 - val_accuracy: 0.8589\n",
            "Epoch 8/10\n",
            "391/391 [==============================] - 181s 460ms/step - loss: 0.3038 - accuracy: 0.8732 - val_loss: 0.3187 - val_accuracy: 0.8490\n",
            "Epoch 9/10\n",
            "391/391 [==============================] - 179s 455ms/step - loss: 0.2978 - accuracy: 0.8726 - val_loss: 0.3147 - val_accuracy: 0.8646\n",
            "Epoch 10/10\n",
            "391/391 [==============================] - 180s 458ms/step - loss: 0.2942 - accuracy: 0.8742 - val_loss: 0.3136 - val_accuracy: 0.8620\n"
          ]
        }
      ]
    },
    {
      "cell_type": "code",
      "metadata": {
        "id": "mBxp7xGqWyJC",
        "colab": {
          "base_uri": "https://localhost:8080/"
        },
        "outputId": "1d387d54-0588-4c04-e60f-8d8adc2a88b3"
      },
      "source": [
        "test_loss1, test_acc1 = model1.evaluate(test_dataset)\n",
        "\n",
        "print('Test Loss:', test_loss1)\n",
        "print('Test Accuracy:', test_acc1)"
      ],
      "execution_count": null,
      "outputs": [
        {
          "output_type": "stream",
          "name": "stdout",
          "text": [
            "391/391 [==============================] - 73s 187ms/step - loss: 0.3134 - accuracy: 0.8604\n",
            "Test Loss: 0.31340134143829346\n",
            "Test Accuracy: 0.8604400157928467\n"
          ]
        }
      ]
    },
    {
      "cell_type": "code",
      "metadata": {
        "colab": {
          "base_uri": "https://localhost:8080/",
          "height": 405
        },
        "id": "5MJYihPySjcv",
        "outputId": "bab50abf-9365-4976-db4c-647d674233bb"
      },
      "source": [
        "# predict on a sample text without padding.\n",
        "\n",
        "sample_text = ('The movie was not good. The animation and the graphics '\n",
        "               'were terrible. I would not recommend this movie.')\n",
        "predictions = model1.predict(np.array([sample_text]))\n",
        "print(predictions)\n",
        "plt.figure(figsize=(16, 6))\n",
        "plt.subplot(1, 2, 1)\n",
        "plot_graphs(history, 'accuracy')\n",
        "plt.subplot(1, 2, 2)\n",
        "plot_graphs(history, 'loss')"
      ],
      "execution_count": null,
      "outputs": [
        {
          "output_type": "stream",
          "name": "stdout",
          "text": [
            "[[-2.1442149]]\n"
          ]
        },
        {
          "output_type": "display_data",
          "data": {
            "image/png": "[encoded data removed]",
            "text/plain": [
              "<Figure size 1152x432 with 2 Axes>"
            ]
          },
          "metadata": {
            "needs_background": "light"
          }
        }
      ]
    },
    {
      "cell_type": "markdown",
      "metadata": {
        "id": "tqCU_vrJNKvF"
      },
      "source": [
        "# **Single Bi-LSTM with mean of Hidden Layers**"
      ]
    },
    {
      "cell_type": "markdown",
      "metadata": {
        "id": "A3xh50JjZdZz"
      },
      "source": [
        "For Masters students: Can you modify the original example code such that instead of supplying the final state of the encoder to a fully connected layer, the mean of the hidden states at all time steps of the encoder is used for classification? You can look at https://www.tensorflow.org/api_docs/python/tf/keras/layers/Average (Links to an external site.) and https://www.tensorflow.org/api_docs/python/tf/keras/layers/Bidirectional (Links to an external site.) "
      ]
    },
    {
      "cell_type": "code",
      "metadata": {
        "id": "wTXE7-xsZdwH",
        "colab": {
          "base_uri": "https://localhost:8080/"
        },
        "outputId": "a66f2825-e755-461e-c4f9-f0e1815af754"
      },
      "source": [
        "#input1 = tf.keras.layers.Input(shape=(16,))\n",
        "#x1 = tf.keras.layers.Dense(8, activation='relu')(input1)\n",
        "#input2 = tf.keras.layers.Input(shape=(32,))\n",
        "#x2 = tf.keras.layers.Dense(8, activation='relu')(input2)\n",
        "#avg = tf.keras.layers.Average()([x1, x2])\n",
        "#out = tf.keras.layers.Dense(4)(avg)\n",
        "#model = tf.keras.models.Model(inputs=[input1, input2], outputs=out)\n",
        "#model3 =tf.keras.layers.Bidirectional(model2, merge_mode='concat', weights=None, backward_layer=None,**kwargs)\n",
        "model2 = tf.keras.Sequential([\n",
        "    encoder,\n",
        "    tf.keras.layers.Embedding(input_dim=len(encoder.get_vocabulary()),output_dim=64,mask_zero=True),\n",
        "    tf.keras.layers.Bidirectional(tf.keras.layers.LSTM(64, return_sequences=True), merge_mode='ave'),\n",
        "    tf.keras.layers.GlobalAveragePooling1D(),\n",
        "    #tf.keras.layers.Activation('sigmoid'),\n",
        "    tf.keras.layers.Dense(64, activation='relu'),\n",
        "    tf.keras.layers.Dropout(0.5),\n",
        "    tf.keras.layers.Dense(1)\n",
        "])\n",
        "model2.compile(loss=tf.keras.losses.BinaryCrossentropy(from_logits=True),optimizer=tf.keras.optimizers.RMSprop(1e-4),metrics=['accuracy'])\n",
        "model2.summary()"
      ],
      "execution_count": null,
      "outputs": [
        {
          "output_type": "stream",
          "name": "stdout",
          "text": [
            "Model: \"sequential_6\"\n",
            "_________________________________________________________________\n",
            " Layer (type)                Output Shape              Param #   \n",
            "=================================================================\n",
            " text_vectorization (TextVec  (None, None)             0         \n",
            " torization)                                                     \n",
            "                                                                 \n",
            " embedding_6 (Embedding)     (None, None, 64)          64000     \n",
            "                                                                 \n",
            " bidirectional_7 (Bidirectio  (None, None, 64)         66048     \n",
            " nal)                                                            \n",
            "                                                                 \n",
            " global_average_pooling1d_2   (None, 64)               0         \n",
            " (GlobalAveragePooling1D)                                        \n",
            "                                                                 \n",
            " dense_12 (Dense)            (None, 64)                4160      \n",
            "                                                                 \n",
            " dropout_3 (Dropout)         (None, 64)                0         \n",
            "                                                                 \n",
            " dense_13 (Dense)            (None, 1)                 65        \n",
            "                                                                 \n",
            "=================================================================\n",
            "Total params: 134,273\n",
            "Trainable params: 134,273\n",
            "Non-trainable params: 0\n",
            "_________________________________________________________________\n"
          ]
        }
      ]
    },
    {
      "cell_type": "code",
      "metadata": {
        "id": "IJO5Charg0Qq",
        "colab": {
          "base_uri": "https://localhost:8080/"
        },
        "outputId": "65261489-c44b-4779-e863-f93e84260426"
      },
      "source": [
        "history = model2.fit(train_dataset, epochs=10,validation_data=test_dataset,validation_steps=30)"
      ],
      "execution_count": null,
      "outputs": [
        {
          "output_type": "stream",
          "name": "stdout",
          "text": [
            "Epoch 1/10\n",
            "391/391 [==============================] - 110s 252ms/step - loss: 0.6565 - accuracy: 0.5333 - val_loss: 0.5554 - val_accuracy: 0.7188\n",
            "Epoch 2/10\n",
            "391/391 [==============================] - 97s 245ms/step - loss: 0.4966 - accuracy: 0.7357 - val_loss: 0.4459 - val_accuracy: 0.8000\n",
            "Epoch 3/10\n",
            "391/391 [==============================] - 94s 239ms/step - loss: 0.4304 - accuracy: 0.7954 - val_loss: 0.4014 - val_accuracy: 0.8167\n",
            "Epoch 4/10\n",
            "391/391 [==============================] - 95s 240ms/step - loss: 0.3981 - accuracy: 0.8190 - val_loss: 0.4010 - val_accuracy: 0.8057\n",
            "Epoch 5/10\n",
            "391/391 [==============================] - 95s 240ms/step - loss: 0.3753 - accuracy: 0.8328 - val_loss: 0.3759 - val_accuracy: 0.8255\n",
            "Epoch 6/10\n",
            "391/391 [==============================] - 95s 241ms/step - loss: 0.3617 - accuracy: 0.8435 - val_loss: 0.3714 - val_accuracy: 0.8438\n",
            "Epoch 7/10\n",
            "391/391 [==============================] - 94s 238ms/step - loss: 0.3498 - accuracy: 0.8531 - val_loss: 0.3639 - val_accuracy: 0.8495\n",
            "Epoch 8/10\n",
            "391/391 [==============================] - 94s 237ms/step - loss: 0.3358 - accuracy: 0.8580 - val_loss: 0.3323 - val_accuracy: 0.8568\n",
            "Epoch 9/10\n",
            "391/391 [==============================] - 95s 240ms/step - loss: 0.3246 - accuracy: 0.8677 - val_loss: 0.3380 - val_accuracy: 0.8505\n",
            "Epoch 10/10\n",
            "391/391 [==============================] - 94s 238ms/step - loss: 0.3180 - accuracy: 0.8709 - val_loss: 0.3278 - val_accuracy: 0.8599\n"
          ]
        }
      ]
    },
    {
      "cell_type": "code",
      "metadata": {
        "colab": {
          "base_uri": "https://localhost:8080/"
        },
        "id": "NEqe7lx0ZBGD",
        "outputId": "805fa817-56c2-466d-9276-7ef75c157880"
      },
      "source": [
        "test_loss2, test_acc2 = model2.evaluate(test_dataset)\n",
        "print('Test Loss:', test_loss2)\n",
        "print('Test Accuracy:', test_acc2)"
      ],
      "execution_count": null,
      "outputs": [
        {
          "output_type": "stream",
          "name": "stdout",
          "text": [
            "391/391 [==============================] - 50s 128ms/step - loss: 0.3225 - accuracy: 0.8644\n",
            "Test Loss: 0.322494775056839\n",
            "Test Accuracy: 0.8644000291824341\n"
          ]
        }
      ]
    },
    {
      "cell_type": "code",
      "metadata": {
        "colab": {
          "base_uri": "https://localhost:8080/",
          "height": 405
        },
        "id": "uy7KmkD0ZFKq",
        "outputId": "d7017c01-4bdb-45a3-a1c8-543921b5952d"
      },
      "source": [
        "# predict on a sample text without padding.\n",
        "\n",
        "sample_text = ('The movie was not good. The animation and the graphics '\n",
        "               'were terrible. I would not recommend this movie.')\n",
        "predictions = model2.predict(np.array([sample_text]))\n",
        "print(predictions)\n",
        "plt.figure(figsize=(16, 6))\n",
        "plt.subplot(1, 2, 1)\n",
        "plot_graphs(history, 'accuracy')\n",
        "plt.subplot(1, 2, 2)\n",
        "plot_graphs(history, 'loss')"
      ],
      "execution_count": null,
      "outputs": [
        {
          "output_type": "stream",
          "name": "stdout",
          "text": [
            "[[-0.9553572]]\n"
          ]
        },
        {
          "output_type": "display_data",
          "data": {
            "image/png": "[encoded data removed]",
            "text/plain": [
              "<Figure size 1152x432 with 2 Axes>"
            ]
          },
          "metadata": {
            "needs_background": "light"
          }
        }
      ]
    },
    {
      "cell_type": "code",
      "metadata": {
        "colab": {
          "base_uri": "https://localhost:8080/",
          "height": 173
        },
        "id": "7Tb9dp58ZHRw",
        "outputId": "ac57fb84-2e85-44d1-d20c-d37fced3fc42"
      },
      "source": [
        "import pandas as pd\n",
        "df = pd.DataFrame({'Test Loss':[test_loss,test_loss4,test_loss1,test_loss2],'Test Accuracy':[test_acc,test_acc4,test_acc1,test_acc2]},index=['Single BiLSTM', 'Single GRU','Stacked BiLSTM','Single BiLSTM with mean of hidden layers'])\n",
        "df"
      ],
      "execution_count": null,
      "outputs": [
        {
          "output_type": "execute_result",
          "data": {
            "text/html": [
              "<div>\n",
              "<style scoped>\n",
              "    .dataframe tbody tr th:only-of-type {\n",
              "        vertical-align: middle;\n",
              "    }\n",
              "\n",
              "    .dataframe tbody tr th {\n",
              "        vertical-align: top;\n",
              "    }\n",
              "\n",
              "    .dataframe thead th {\n",
              "        text-align: right;\n",
              "    }\n",
              "</style>\n",
              "<table border=\"1\" class=\"dataframe\">\n",
              "  <thead>\n",
              "    <tr style=\"text-align: right;\">\n",
              "      <th></th>\n",
              "      <th>Test Loss</th>\n",
              "      <th>Test Accuracy</th>\n",
              "    </tr>\n",
              "  </thead>\n",
              "  <tbody>\n",
              "    <tr>\n",
              "      <th>Single BiLSTM</th>\n",
              "      <td>0.326095</td>\n",
              "      <td>0.86424</td>\n",
              "    </tr>\n",
              "    <tr>\n",
              "      <th>Single GRU</th>\n",
              "      <td>0.693127</td>\n",
              "      <td>0.50000</td>\n",
              "    </tr>\n",
              "    <tr>\n",
              "      <th>Stacked BiLSTM</th>\n",
              "      <td>0.313401</td>\n",
              "      <td>0.86044</td>\n",
              "    </tr>\n",
              "    <tr>\n",
              "      <th>Single BiLSTM with mean of hidden layers</th>\n",
              "      <td>0.322495</td>\n",
              "      <td>0.86440</td>\n",
              "    </tr>\n",
              "  </tbody>\n",
              "</table>\n",
              "</div>"
            ],
            "text/plain": [
              "                                          Test Loss  Test Accuracy\n",
              "Single BiLSTM                              0.326095        0.86424\n",
              "Single GRU                                 0.693127        0.50000\n",
              "Stacked BiLSTM                             0.313401        0.86044\n",
              "Single BiLSTM with mean of hidden layers   0.322495        0.86440"
            ]
          },
          "metadata": {},
          "execution_count": 37
        }
      ]
    },
    {
      "cell_type": "code",
      "metadata": {
        "id": "J6wp8E2yT-UR"
      },
      "source": [
        ""
      ],
      "execution_count": null,
      "outputs": []
    }
  ]
}