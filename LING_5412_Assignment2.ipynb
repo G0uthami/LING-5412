{
  "nbformat": 4,
  "nbformat_minor": 0,
  "metadata": {
    "colab": {
      "name": "LING 5412 Assignment2.ipynb",
      "provenance": [],
      "collapsed_sections": []
    },
    "kernelspec": {
      "display_name": "Python 3",
      "name": "python3"
    },
    "language_info": {
      "name": "python"
    }
  },
  "cells": [
    {
      "cell_type": "markdown",
      "metadata": {
        "id": "aN3VrobLS5d0"
      },
      "source": [
        "Importing all required Libraries"
      ]
    },
    {
      "cell_type": "code",
      "metadata": {
        "colab": {
          "base_uri": "https://localhost:8080/"
        },
        "id": "e_cN8YvDkfpi",
        "outputId": "54e0bb09-acf2-41f4-83e8-dad539cd039a"
      },
      "source": [
        "import tarfile\n",
        "import os\n",
        "import pandas as pd\n",
        "import string\n",
        "import numpy as np\n",
        "import matplotlib.pyplot as plt\n",
        "punctuations= string.punctuation\n",
        "import nltk\n",
        "nltk.download('stopwords')\n",
        "nltk.download('wordnet')\n",
        "from nltk.corpus import stopwords\n",
        "stopword_list = stopwords.words(\"english\")\n",
        "from nltk.stem.wordnet import WordNetLemmatizer\n",
        "lem = WordNetLemmatizer()\n",
        "from nltk.tokenize import word_tokenize\n",
        "nltk.download('punkt')\n",
        "from sklearn.metrics import accuracy_score,classification_report, confusion_matrix,f1_score,precision_recall_fscore_support,log_loss\n",
        "from sklearn.linear_model import Lasso, SGDClassifier\n",
        "from sklearn.feature_selection import SelectFromModel\n",
        "from sklearn.model_selection import train_test_split"
      ],
      "execution_count": null,
      "outputs": [
        {
          "name": "stdout",
          "output_type": "stream",
          "text": [
            "[nltk_data] Downloading package stopwords to /root/nltk_data...\n",
            "[nltk_data]   Unzipping corpora/stopwords.zip.\n",
            "[nltk_data] Downloading package wordnet to /root/nltk_data...\n",
            "[nltk_data]   Unzipping corpora/wordnet.zip.\n",
            "[nltk_data] Downloading package punkt to /root/nltk_data...\n",
            "[nltk_data]   Unzipping tokenizers/punkt.zip.\n"
          ]
        }
      ]
    },
    {
      "cell_type": "code",
      "metadata": {
        "id": "RXh0UpXcTEIS"
      },
      "source": [
        "### Untar Files"
      ],
      "execution_count": null,
      "outputs": []
    },
    {
      "cell_type": "code",
      "metadata": {
        "id": "anpoJ5XGkzYj"
      },
      "source": [
        "file = \"http://www.cs.cornell.edu/people/pabo/movie-review-data/review_polarity.tar.gz\""
      ],
      "execution_count": null,
      "outputs": []
    },
    {
      "cell_type": "code",
      "metadata": {
        "colab": {
          "base_uri": "https://localhost:8080/"
        },
        "id": "TD-C_nb2lGQG",
        "outputId": "c998926d-b0f1-4252-d4b1-2aeab0b0bf58"
      },
      "source": [
        "!pip install wget\n",
        "import wget"
      ],
      "execution_count": null,
      "outputs": [
        {
          "name": "stdout",
          "output_type": "stream",
          "text": [
            "Collecting wget\n",
            "  Downloading wget-3.2.zip (10 kB)\n",
            "Building wheels for collected packages: wget\n",
            "  Building wheel for wget (setup.py) ... \u001b[?25l\u001b[?25hdone\n",
            "  Created wheel for wget: filename=wget-3.2-py3-none-any.whl size=9672 sha256=5bafc620b6da1fc11894812a4112d9c2639001c184014a921fa269b9a93200d0\n",
            "  Stored in directory: /root/.cache/pip/wheels/a1/b6/7c/0e63e34eb06634181c63adacca38b79ff8f35c37e3c13e3c02\n",
            "Successfully built wget\n",
            "Installing collected packages: wget\n",
            "Successfully installed wget-3.2\n"
          ]
        }
      ]
    },
    {
      "cell_type": "code",
      "metadata": {
        "id": "SAuzp1AKk31m"
      },
      "source": [
        "wget.download(file)\n",
        "tf = tarfile.open(\"review_polarity.tar.gz\")\n",
        "tf.extractall(r\"/content/C:\\Users\\16197\\Documents\\NLP week 2\")"
      ],
      "execution_count": null,
      "outputs": []
    },
    {
      "cell_type": "code",
      "metadata": {
        "id": "L43Z-RxClZfT"
      },
      "source": [
        "neg_folder=r'/content/C:\\Users\\16197\\Documents\\NLP week 2/txt_sentoken/neg'\n",
        "pos_folder=r'/content/C:\\Users\\16197\\Documents\\NLP week 2/txt_sentoken/pos'"
      ],
      "execution_count": null,
      "outputs": []
    },
    {
      "cell_type": "markdown",
      "metadata": {
        "id": "a2oLtXIhTNN0"
      },
      "source": [
        "Adding a Column named Label to the Dataframe"
      ]
    },
    {
      "cell_type": "code",
      "metadata": {
        "id": "OCIG-9Bz9vTy"
      },
      "source": [
        "def create_df(data_dir,string):\n",
        "  labels, cleaned_documents = [], []\n",
        "  for doc_name in os.listdir(data_dir):\n",
        "    file_path = data_dir + '/' + doc_name \n",
        "    with open(file_path, encoding='utf8', errors='ignore') as f:\n",
        "      doc = f.read()\n",
        "    cleaned_documents.append(doc)\n",
        "    labels.append(string)\n",
        "  df = pd.DataFrame({'text': cleaned_documents,'label':labels})\n",
        "  return df"
      ],
      "execution_count": null,
      "outputs": []
    },
    {
      "cell_type": "code",
      "metadata": {
        "colab": {
          "base_uri": "https://localhost:8080/",
          "height": 419
        },
        "id": "uFU4eoSy5Sk4",
        "outputId": "f3364200-c296-4c9e-c173-72797d540568"
      },
      "source": [
        "\n",
        "neg_dataframe = create_df(neg_folder,'neg')\n",
        "pos_dataframe = create_df(pos_folder,'pos')\n",
        "df = pd.concat([neg_dataframe,pos_dataframe],axis=0)\n",
        "df"
      ],
      "execution_count": null,
      "outputs": [
        {
          "data": {
            "text/html": [
              "<div>\n",
              "<style scoped>\n",
              "    .dataframe tbody tr th:only-of-type {\n",
              "        vertical-align: middle;\n",
              "    }\n",
              "\n",
              "    .dataframe tbody tr th {\n",
              "        vertical-align: top;\n",
              "    }\n",
              "\n",
              "    .dataframe thead th {\n",
              "        text-align: right;\n",
              "    }\n",
              "</style>\n",
              "<table border=\"1\" class=\"dataframe\">\n",
              "  <thead>\n",
              "    <tr style=\"text-align: right;\">\n",
              "      <th></th>\n",
              "      <th>text</th>\n",
              "      <th>label</th>\n",
              "    </tr>\n",
              "  </thead>\n",
              "  <tbody>\n",
              "    <tr>\n",
              "      <th>0</th>\n",
              "      <td>as any reasonable human being would , i must a...</td>\n",
              "      <td>neg</td>\n",
              "    </tr>\n",
              "    <tr>\n",
              "      <th>1</th>\n",
              "      <td>in 1990 , the surprise success an unheralded l...</td>\n",
              "      <td>neg</td>\n",
              "    </tr>\n",
              "    <tr>\n",
              "      <th>2</th>\n",
              "      <td>fact that charles bronson represents one of th...</td>\n",
              "      <td>neg</td>\n",
              "    </tr>\n",
              "    <tr>\n",
              "      <th>3</th>\n",
              "      <td>often similar to a little boy lost in a park t...</td>\n",
              "      <td>neg</td>\n",
              "    </tr>\n",
              "    <tr>\n",
              "      <th>4</th>\n",
              "      <td>everyone knows that old rule , 'never work wit...</td>\n",
              "      <td>neg</td>\n",
              "    </tr>\n",
              "    <tr>\n",
              "      <th>...</th>\n",
              "      <td>...</td>\n",
              "      <td>...</td>\n",
              "    </tr>\n",
              "    <tr>\n",
              "      <th>995</th>\n",
              "      <td>gordon fleming ( peter mullan ) is in a bind ....</td>\n",
              "      <td>pos</td>\n",
              "    </tr>\n",
              "    <tr>\n",
              "      <th>996</th>\n",
              "      <td>elmore leonard has quickly become one of holly...</td>\n",
              "      <td>pos</td>\n",
              "    </tr>\n",
              "    <tr>\n",
              "      <th>997</th>\n",
              "      <td>\" the deep end \" uses a color palette of rich...</td>\n",
              "      <td>pos</td>\n",
              "    </tr>\n",
              "    <tr>\n",
              "      <th>998</th>\n",
              "      <td>`we run tings . \\ntings don't run we . ' \\n-so...</td>\n",
              "      <td>pos</td>\n",
              "    </tr>\n",
              "    <tr>\n",
              "      <th>999</th>\n",
              "      <td>in this good natured , pleasent and easy going...</td>\n",
              "      <td>pos</td>\n",
              "    </tr>\n",
              "  </tbody>\n",
              "</table>\n",
              "<p>2000 rows × 2 columns</p>\n",
              "</div>"
            ],
            "text/plain": [
              "                                                  text label\n",
              "0    as any reasonable human being would , i must a...   neg\n",
              "1    in 1990 , the surprise success an unheralded l...   neg\n",
              "2    fact that charles bronson represents one of th...   neg\n",
              "3    often similar to a little boy lost in a park t...   neg\n",
              "4    everyone knows that old rule , 'never work wit...   neg\n",
              "..                                                 ...   ...\n",
              "995  gordon fleming ( peter mullan ) is in a bind ....   pos\n",
              "996  elmore leonard has quickly become one of holly...   pos\n",
              "997   \" the deep end \" uses a color palette of rich...   pos\n",
              "998  `we run tings . \\ntings don't run we . ' \\n-so...   pos\n",
              "999  in this good natured , pleasent and easy going...   pos\n",
              "\n",
              "[2000 rows x 2 columns]"
            ]
          },
          "execution_count": 8,
          "metadata": {},
          "output_type": "execute_result"
        }
      ]
    },
    {
      "cell_type": "markdown",
      "metadata": {
        "id": "ywTf8dx6TcFt"
      },
      "source": [
        "Data Preprocessing"
      ]
    },
    {
      "cell_type": "code",
      "metadata": {
        "colab": {
          "base_uri": "https://localhost:8080/",
          "height": 827
        },
        "id": "21zdypkX5OiS",
        "outputId": "fe869e10-71fc-4b81-cf40-cb63bcaf99c8"
      },
      "source": [
        "import re\n",
        "import nltk\n",
        "from nltk.corpus import stopwords\n",
        "from textblob import TextBlob\n",
        "from nltk.stem import PorterStemmer\n",
        "from textblob import Word\n",
        "nltk.download('wordnet')\n",
        "st = PorterStemmer()\n",
        "nltk.download('punkt')\n",
        "stop = stopwords.words('english')\n",
        "df['Lower Case'] = df['text'].apply(lambda x: \" \".join(x.lower() for x in x.split()))\n",
        "df['Removal of Punctuation'] = df['Lower Case'].str.replace('[^\\w\\s]','')\n",
        "df['Removal of Special Characters'] = df['Removal of Punctuation'].apply(lambda x: ''.join(re.sub(r\"[^a-zA-Z0-9]+\", ' ', charctr) for charctr in x ))\n",
        "df['Stopwords Removal'] = df['Removal of Punctuation'].apply(lambda x: \" \".join(x for x in x.split() if x not in stop))\n",
        "df['Tokenization'] = df['Stopwords Removal'].apply(lambda x: TextBlob(x).words)\n",
        "df['After Lemmatization'] = df['Tokenization'].apply(lambda x: \" \".join([Word(word).lemmatize() for word in x]))\n",
        "df"
      ],
      "execution_count": null,
      "outputs": [
        {
          "name": "stdout",
          "output_type": "stream",
          "text": [
            "[nltk_data] Downloading package wordnet to /root/nltk_data...\n",
            "[nltk_data]   Package wordnet is already up-to-date!\n",
            "[nltk_data] Downloading package punkt to /root/nltk_data...\n",
            "[nltk_data]   Package punkt is already up-to-date!\n"
          ]
        },
        {
          "data": {
            "text/html": [
              "<div>\n",
              "<style scoped>\n",
              "    .dataframe tbody tr th:only-of-type {\n",
              "        vertical-align: middle;\n",
              "    }\n",
              "\n",
              "    .dataframe tbody tr th {\n",
              "        vertical-align: top;\n",
              "    }\n",
              "\n",
              "    .dataframe thead th {\n",
              "        text-align: right;\n",
              "    }\n",
              "</style>\n",
              "<table border=\"1\" class=\"dataframe\">\n",
              "  <thead>\n",
              "    <tr style=\"text-align: right;\">\n",
              "      <th></th>\n",
              "      <th>text</th>\n",
              "      <th>label</th>\n",
              "      <th>Lower Case</th>\n",
              "      <th>Removal of Punctuation</th>\n",
              "      <th>Removal of Special Characters</th>\n",
              "      <th>Stopwords Removal</th>\n",
              "      <th>Tokenization</th>\n",
              "      <th>After Lemmatization</th>\n",
              "    </tr>\n",
              "  </thead>\n",
              "  <tbody>\n",
              "    <tr>\n",
              "      <th>0</th>\n",
              "      <td>as any reasonable human being would , i must a...</td>\n",
              "      <td>neg</td>\n",
              "      <td>as any reasonable human being would , i must a...</td>\n",
              "      <td>as any reasonable human being would  i must ad...</td>\n",
              "      <td>as any reasonable human being would  i must ad...</td>\n",
              "      <td>reasonable human would must admit occasionally...</td>\n",
              "      <td>[reasonable, human, would, must, admit, occasi...</td>\n",
              "      <td>reasonable human would must admit occasionally...</td>\n",
              "    </tr>\n",
              "    <tr>\n",
              "      <th>1</th>\n",
              "      <td>in 1990 , the surprise success an unheralded l...</td>\n",
              "      <td>neg</td>\n",
              "      <td>in 1990 , the surprise success an unheralded l...</td>\n",
              "      <td>in 1990  the surprise success an unheralded li...</td>\n",
              "      <td>in 1990  the surprise success an unheralded li...</td>\n",
              "      <td>1990 surprise success unheralded little movie ...</td>\n",
              "      <td>[1990, surprise, success, unheralded, little, ...</td>\n",
              "      <td>1990 surprise success unheralded little movie ...</td>\n",
              "    </tr>\n",
              "    <tr>\n",
              "      <th>2</th>\n",
              "      <td>fact that charles bronson represents one of th...</td>\n",
              "      <td>neg</td>\n",
              "      <td>fact that charles bronson represents one of th...</td>\n",
              "      <td>fact that charles bronson represents one of th...</td>\n",
              "      <td>fact that charles bronson represents one of th...</td>\n",
              "      <td>fact charles bronson represents one important ...</td>\n",
              "      <td>[fact, charles, bronson, represents, one, impo...</td>\n",
              "      <td>fact charles bronson represents one important ...</td>\n",
              "    </tr>\n",
              "    <tr>\n",
              "      <th>3</th>\n",
              "      <td>often similar to a little boy lost in a park t...</td>\n",
              "      <td>neg</td>\n",
              "      <td>often similar to a little boy lost in a park t...</td>\n",
              "      <td>often similar to a little boy lost in a park t...</td>\n",
              "      <td>often similar to a little boy lost in a park t...</td>\n",
              "      <td>often similar little boy lost park right ventu...</td>\n",
              "      <td>[often, similar, little, boy, lost, park, righ...</td>\n",
              "      <td>often similar little boy lost park right ventu...</td>\n",
              "    </tr>\n",
              "    <tr>\n",
              "      <th>4</th>\n",
              "      <td>everyone knows that old rule , 'never work wit...</td>\n",
              "      <td>neg</td>\n",
              "      <td>everyone knows that old rule , 'never work wit...</td>\n",
              "      <td>everyone knows that old rule  never work with ...</td>\n",
              "      <td>everyone knows that old rule  never work with ...</td>\n",
              "      <td>everyone knows old rule never work children an...</td>\n",
              "      <td>[everyone, knows, old, rule, never, work, chil...</td>\n",
              "      <td>everyone know old rule never work child animal...</td>\n",
              "    </tr>\n",
              "    <tr>\n",
              "      <th>...</th>\n",
              "      <td>...</td>\n",
              "      <td>...</td>\n",
              "      <td>...</td>\n",
              "      <td>...</td>\n",
              "      <td>...</td>\n",
              "      <td>...</td>\n",
              "      <td>...</td>\n",
              "      <td>...</td>\n",
              "    </tr>\n",
              "    <tr>\n",
              "      <th>995</th>\n",
              "      <td>gordon fleming ( peter mullan ) is in a bind ....</td>\n",
              "      <td>pos</td>\n",
              "      <td>gordon fleming ( peter mullan ) is in a bind ....</td>\n",
              "      <td>gordon fleming  peter mullan  is in a bind  he...</td>\n",
              "      <td>gordon fleming  peter mullan  is in a bind  he...</td>\n",
              "      <td>gordon fleming peter mullan bind new unexpecte...</td>\n",
              "      <td>[gordon, fleming, peter, mullan, bind, new, un...</td>\n",
              "      <td>gordon fleming peter mullan bind new unexpecte...</td>\n",
              "    </tr>\n",
              "    <tr>\n",
              "      <th>996</th>\n",
              "      <td>elmore leonard has quickly become one of holly...</td>\n",
              "      <td>pos</td>\n",
              "      <td>elmore leonard has quickly become one of holly...</td>\n",
              "      <td>elmore leonard has quickly become one of holly...</td>\n",
              "      <td>elmore leonard has quickly become one of holly...</td>\n",
              "      <td>elmore leonard quickly become one hollywoods f...</td>\n",
              "      <td>[elmore, leonard, quickly, become, one, hollyw...</td>\n",
              "      <td>elmore leonard quickly become one hollywood fa...</td>\n",
              "    </tr>\n",
              "    <tr>\n",
              "      <th>997</th>\n",
              "      <td>\" the deep end \" uses a color palette of rich...</td>\n",
              "      <td>pos</td>\n",
              "      <td>\" the deep end \" uses a color palette of rich ...</td>\n",
              "      <td>the deep end  uses a color palette of rich ea...</td>\n",
              "      <td>the deep end  uses a color palette of rich ea...</td>\n",
              "      <td>deep end uses color palette rich earth tones s...</td>\n",
              "      <td>[deep, end, uses, color, palette, rich, earth,...</td>\n",
              "      <td>deep end us color palette rich earth tone surr...</td>\n",
              "    </tr>\n",
              "    <tr>\n",
              "      <th>998</th>\n",
              "      <td>`we run tings . \\ntings don't run we . ' \\n-so...</td>\n",
              "      <td>pos</td>\n",
              "      <td>`we run tings . tings don't run we . ' -sound ...</td>\n",
              "      <td>we run tings  tings dont run we   sound advice...</td>\n",
              "      <td>we run tings  tings dont run we   sound advice...</td>\n",
              "      <td>run tings tings dont run sound advice capone p...</td>\n",
              "      <td>[run, tings, tings, dont, run, sound, advice, ...</td>\n",
              "      <td>run ting ting dont run sound advice capone pau...</td>\n",
              "    </tr>\n",
              "    <tr>\n",
              "      <th>999</th>\n",
              "      <td>in this good natured , pleasent and easy going...</td>\n",
              "      <td>pos</td>\n",
              "      <td>in this good natured , pleasent and easy going...</td>\n",
              "      <td>in this good natured  pleasent and easy going ...</td>\n",
              "      <td>in this good natured  pleasent and easy going ...</td>\n",
              "      <td>good natured pleasent easy going comedy bill m...</td>\n",
              "      <td>[good, natured, pleasent, easy, going, comedy,...</td>\n",
              "      <td>good natured pleasent easy going comedy bill m...</td>\n",
              "    </tr>\n",
              "  </tbody>\n",
              "</table>\n",
              "<p>2000 rows × 8 columns</p>\n",
              "</div>"
            ],
            "text/plain": [
              "                                                  text  ...                                After Lemmatization\n",
              "0    as any reasonable human being would , i must a...  ...  reasonable human would must admit occasionally...\n",
              "1    in 1990 , the surprise success an unheralded l...  ...  1990 surprise success unheralded little movie ...\n",
              "2    fact that charles bronson represents one of th...  ...  fact charles bronson represents one important ...\n",
              "3    often similar to a little boy lost in a park t...  ...  often similar little boy lost park right ventu...\n",
              "4    everyone knows that old rule , 'never work wit...  ...  everyone know old rule never work child animal...\n",
              "..                                                 ...  ...                                                ...\n",
              "995  gordon fleming ( peter mullan ) is in a bind ....  ...  gordon fleming peter mullan bind new unexpecte...\n",
              "996  elmore leonard has quickly become one of holly...  ...  elmore leonard quickly become one hollywood fa...\n",
              "997   \" the deep end \" uses a color palette of rich...  ...  deep end us color palette rich earth tone surr...\n",
              "998  `we run tings . \\ntings don't run we . ' \\n-so...  ...  run ting ting dont run sound advice capone pau...\n",
              "999  in this good natured , pleasent and easy going...  ...  good natured pleasent easy going comedy bill m...\n",
              "\n",
              "[2000 rows x 8 columns]"
            ]
          },
          "execution_count": 9,
          "metadata": {},
          "output_type": "execute_result"
        }
      ]
    },
    {
      "cell_type": "markdown",
      "metadata": {
        "id": "ooXVrYH3TgJu"
      },
      "source": [
        "How many positive and negative examples are there"
      ]
    },
    {
      "cell_type": "code",
      "metadata": {
        "colab": {
          "base_uri": "https://localhost:8080/"
        },
        "id": "wUR43u4vHVxO",
        "outputId": "cc2cce3d-64bb-45a5-a5e4-93622482aae8"
      },
      "source": [
        "print(df.groupby('label').size())"
      ],
      "execution_count": null,
      "outputs": [
        {
          "name": "stdout",
          "output_type": "stream",
          "text": [
            "label\n",
            "neg    1000\n",
            "pos    1000\n",
            "dtype: int64\n"
          ]
        }
      ]
    },
    {
      "cell_type": "markdown",
      "metadata": {
        "id": "mmiAnanXTnbQ"
      },
      "source": [
        "How many words are present in the dataset?"
      ]
    },
    {
      "cell_type": "code",
      "metadata": {
        "colab": {
          "base_uri": "https://localhost:8080/"
        },
        "id": "6V3ATtr3IzMf",
        "outputId": "52e0357e-1261-439b-c283-8a302429e28e"
      },
      "source": [
        "word = [word for i in df['text'] for word in i.split()]\n",
        "print(f'There are {len(word)} words present in the dataset')"
      ],
      "execution_count": null,
      "outputs": [
        {
          "name": "stdout",
          "output_type": "stream",
          "text": [
            "There are 1492681 words present in the dataset\n"
          ]
        }
      ]
    },
    {
      "cell_type": "markdown",
      "metadata": {
        "id": "YJr4o6oBTtAu"
      },
      "source": [
        "What are the 100 most frequent words in the dataset (across both classes)?"
      ]
    },
    {
      "cell_type": "code",
      "metadata": {
        "colab": {
          "base_uri": "https://localhost:8080/"
        },
        "id": "VavipJcrIRzu",
        "outputId": "e0c12610-af9c-489d-c391-0ece1322777b"
      },
      "source": [
        "from collections import Counter  \n",
        "# Pass the split_it list to instance of Counter class.\n",
        "Counter = Counter(word)\n",
        "  \n",
        "# most_common() produces k frequently encountered\n",
        "# input values and their respective counts.\n",
        "most_occur = Counter.most_common(100)\n",
        "  \n",
        "print(most_occur)"
      ],
      "execution_count": null,
      "outputs": [
        {
          "name": "stdout",
          "output_type": "stream",
          "text": [
            "[(',', 77717), ('the', 76178), ('.', 65876), ('a', 37934), ('and', 35343), ('of', 33970), ('to', 31759), ('is', 25163), ('in', 21591), ('\"', 17612), ('that', 15105), ('it', 12289), (')', 11781), ('(', 11664), ('as', 11338), ('with', 10778), ('for', 9913), ('his', 9566), ('this', 9560), ('film', 8849), ('but', 8576), ('he', 7607), ('i', 7492), ('on', 7241), ('are', 6943), ('by', 6218), ('be', 6082), ('an', 5735), ('not', 5519), ('one', 5514), ('movie', 5429), ('who', 5376), ('at', 4965), ('from', 4948), ('was', 4934), ('have', 4897), ('has', 4714), ('her', 4502), ('you', 4421), ('they', 4276), ('all', 4248), ('?', 3771), (\"it's\", 3696), ('so', 3578), ('like', 3543), ('about', 3518), ('out', 3436), ('more', 3341), ('when', 3250), ('which', 3155), ('their', 3115), ('or', 3096), ('up', 3096), ('what', 3070), (':', 3042), ('some', 2980), ('just', 2900), ('if', 2786), ('there', 2755), ('she', 2686), ('him', 2630), ('into', 2616), ('even', 2554), ('only', 2482), ('than', 2438), ('no', 2405), ('we', 2357), ('good', 2313), ('most', 2298), ('time', 2280), ('its', 2265), ('can', 2230), ('will', 2193), ('story', 2110), ('been', 2045), ('would', 2041), ('much', 2022), ('also', 1965), ('other', 1924), ('get', 1920), ('character', 1902), ('do', 1888), ('them', 1876), ('very', 1862), (';', 1850), ('two', 1824), ('characters', 1813), ('first', 1766), ('after', 1752), ('see', 1726), ('!', 1713), ('because', 1682), ('way', 1668), ('well', 1654), ('make', 1590), ('any', 1569), ('does', 1567), ('really', 1556), ('had', 1544), ('too', 1538)]\n"
          ]
        }
      ]
    },
    {
      "cell_type": "markdown",
      "metadata": {
        "id": "LMYtOFHSTwmr"
      },
      "source": [
        "Printing the most common 100 words"
      ]
    },
    {
      "cell_type": "code",
      "metadata": {
        "colab": {
          "base_uri": "https://localhost:8080/",
          "height": 86
        },
        "id": "EkXM-ogaJLRX",
        "outputId": "76fe0d08-99b6-4bb8-9528-890253bd6b60"
      },
      "source": [
        "common_100=', '.join([i[0] for i in most_occur])\n",
        "common_100"
      ],
      "execution_count": null,
      "outputs": [
        {
          "data": {
            "application/vnd.google.colaboratory.intrinsic+json": {
              "type": "string"
            },
            "text/plain": [
              "',, the, ., a, and, of, to, is, in, \", that, it, ), (, as, with, for, his, this, film, but, he, i, on, are, by, be, an, not, one, movie, who, at, from, was, have, has, her, you, they, all, ?, it\\'s, so, like, about, out, more, when, which, their, or, up, what, :, some, just, if, there, she, him, into, even, only, than, no, we, good, most, time, its, can, will, story, been, would, much, also, other, get, character, do, them, very, ;, two, characters, first, after, see, !, because, way, well, make, any, does, really, had, too'"
            ]
          },
          "execution_count": 13,
          "metadata": {},
          "output_type": "execute_result"
        }
      ]
    },
    {
      "cell_type": "code",
      "metadata": {
        "colab": {
          "base_uri": "https://localhost:8080/"
        },
        "id": "9lm72E56JoO6",
        "outputId": "5f012009-783a-4e8a-db6b-faa84ad46afa"
      },
      "source": [
        "print(f'The top 100  frequent words in the dataset including both classes are {common_100}')"
      ],
      "execution_count": null,
      "outputs": [
        {
          "name": "stdout",
          "output_type": "stream",
          "text": [
            "The top 100  frequent words in the dataset including both classes are ,, the, ., a, and, of, to, is, in, \", that, it, ), (, as, with, for, his, this, film, but, he, i, on, are, by, be, an, not, one, movie, who, at, from, was, have, has, her, you, they, all, ?, it's, so, like, about, out, more, when, which, their, or, up, what, :, some, just, if, there, she, him, into, even, only, than, no, we, good, most, time, its, can, will, story, been, would, much, also, other, get, character, do, them, very, ;, two, characters, first, after, see, !, because, way, well, make, any, does, really, had, too\n"
          ]
        }
      ]
    },
    {
      "cell_type": "markdown",
      "metadata": {
        "id": "k2UGxNaaT5na"
      },
      "source": [
        "How many of them are stopwords? You can find many stopword lists online. Mention which one you are using in the report."
      ]
    },
    {
      "cell_type": "code",
      "metadata": {
        "colab": {
          "base_uri": "https://localhost:8080/"
        },
        "id": "c6Xw2QivJ-oa",
        "outputId": "6b713d92-a402-4acc-9995-8e842cac1010"
      },
      "source": [
        "import nltk\n",
        "nltk.download('stopwords')"
      ],
      "execution_count": null,
      "outputs": [
        {
          "name": "stdout",
          "output_type": "stream",
          "text": [
            "[nltk_data] Downloading package stopwords to /root/nltk_data...\n",
            "[nltk_data]   Package stopwords is already up-to-date!\n"
          ]
        },
        {
          "data": {
            "text/plain": [
              "True"
            ]
          },
          "execution_count": 15,
          "metadata": {},
          "output_type": "execute_result"
        }
      ]
    },
    {
      "cell_type": "code",
      "metadata": {
        "colab": {
          "base_uri": "https://localhost:8080/"
        },
        "id": "0usFB45dKdDg",
        "outputId": "c07f0032-ae88-470a-d200-11c91858f8c5"
      },
      "source": [
        "stopwords = [s for s in word if s in stopword_list]\n",
        "print(f'Here I am using NLTK stopwords.\\nThere are {len(stopwords)} stopwords in the dataset')"
      ],
      "execution_count": null,
      "outputs": [
        {
          "name": "stdout",
          "output_type": "stream",
          "text": [
            "Here I am using NLTK stopwords.\n",
            "There are 588976 stopwords in the dataset\n"
          ]
        }
      ]
    },
    {
      "cell_type": "code",
      "metadata": {
        "id": "qB7QhDVpK7bb"
      },
      "source": [
        "def clean_text(text,stop_words=True):\n",
        "    cleaned_text = text.lower()\n",
        "    cleaned_text = \"\".join(c for c in cleaned_text if c not in punctuations)\n",
        "    words = cleaned_text.split()\n",
        "    if stop_words==True:\n",
        "      words = [w for w in words if w not in stopword_list]\n",
        "    words = [lem.lemmatize(word, \"v\") for word in words]\n",
        "    words = [lem.lemmatize(word, \"n\") for word in words]\n",
        "    cleaned_text = \" \".join(words)\n",
        "    return cleaned_text"
      ],
      "execution_count": null,
      "outputs": []
    },
    {
      "cell_type": "code",
      "metadata": {
        "colab": {
          "base_uri": "https://localhost:8080/",
          "height": 154
        },
        "id": "qz2KVIJBQkor",
        "outputId": "856081ac-d348-4c00-babd-0207d5a2cd63"
      },
      "source": [
        "from nltk import FreqDist\n",
        "fd = FreqDist(word)\n",
        "df['text'] = df['text'].apply(clean_text)\n",
        "words = [word for i in df['text'] for word in i.split()]\n",
        "print(len(words))\n",
        "fd  = FreqDist(words)\n",
        "most_occur = fd.most_common(1000)\n",
        "k=', '.join([i[0] for i in most_occur])\n",
        "k"
      ],
      "execution_count": null,
      "outputs": [
        {
          "name": "stdout",
          "output_type": "stream",
          "text": [
            "710243\n"
          ]
        },
        {
          "data": {
            "application/vnd.google.colaboratory.intrinsic+json": {
              "type": "string"
            },
            "text/plain": [
              "'film, movie, one, make, character, like, get, see, go, time, scene, even, play, good, story, take, would, much, also, come, know, give, way, seem, look, two, end, first, well, work, thing, find, say, really, year, plot, think, little, life, show, people, could, bad, never, love, man, try, performance, best, star, new, many, doesnt, become, want, actor, director, dont, watch, u, action, he, use, role, great, another, act, audience, back, something, still, world, turn, interest, there, leave, however, feel, big, day, every, begin, though, tell, set, live, better, part, cast, enough, guy, around, comedy, point, last, isnt, run, real, may, fact, actually, script, funny, name, write, woman, right, lot, almost, effect, nothing, john, although, friend, place, thats, long, since, start, moment, minute, old, young, ever, line, kill, lead, happen, screen, original, call, help, keep, without, family, problem, picture, least, bring, open, quite, sequence, girl, away, need, course, cant, lose, three, bite, im, might, rather, anything, laugh, fall, include, far, put, involve, must, job, sense, yet, mean, kind, alien, meet, follow, reason, didnt, always, fun, attempt, wife, home, special, instead, feature, american, hollywood, human, child, series, war, direct, shoot, probably, move, create, hour, let, along, kid, men, pretty, dialogue, night, everything, idea, head, sure, black, together, high, believe, force, money, hard, fight, save, whole, mind, hand, surprise, appear, le, question, death, music, father, talk, city, couple, face, case, perhaps, do, boy, especially, die, sex, brother, horror, next, expect, relationship, everyone, release, jam, rest, completely, care, whose, second, ask, evil, eye, different, word, simply, decide, spend, mr, manage, change, mother, base, michael, review, several, suppose, theyre, sound, book, add, lack, anyone, humor, shes, small, group, entire, bore, 2, enjoy, entertain, break, main, town, school, learn, house, hit, someone, joke, matter, half, deal, comic, game, true, wonder, either, element, fan, unfortunately, soon, final, later, wrong, ive, viewer, david, present, murder, car, hear, return, else, provide, support, credit, robert, camera, side, tv, often, dead, certainly, scream, result, realize, consider, person, stop, behind, despite, finally, fail, maybe, hero, order, son, team, voice, power, title, perfect, stand, summer, able, miss, experience, past, nice, killer, rat, youre, example, style, piece, view, offer, classic, situation, sort, plan, video, theater, hold, note, event, daughter, talent, production, top, close, throw, body, version, full, worth, prove, sit, drama, dark, build, worst, kevin, upon, discover, dog, others, nearly, major, dream, deliver, thriller, read, screenplay, ship, throughout, room, direction, figure, exactly, violence, short, writer, early, beautiful, earth, speak, jack, wasnt, heart, who, white, grow, obvious, joe, level, guess, light, catch, filmmaker, already, waste, art, state, fine, battle, wait, simple, cop, drive, king, cut, pull, space, convince, disney, allow, explain, number, novel, truly, twist, pay, flick, touch, member, genre, deep, walk, send, tom, form, detail, sometimes, career, rise, understand, fill, hell, chase, peter, york, lee, age, remember, four, stay, sequel, remain, wont, husband, planet, arent, forget, strong, charm, carry, hope, parent, jackie, saw, stupid, possible, yes, god, score, marry, song, quickly, tale, five, extremely, draw, material, chance, villain, project, particularly, future, romantic, attention, trouble, escape, steal, focus, develop, worse, mostly, quality, police, eventually, paul, emotional, dr, mention, drug, image, van, gun, mark, oscar, smith, fiction, whats, none, win, wild, de, computer, success, crime, type, george, stuff, alone, television, obviously, reveal, pace, among, single, youll, late, usually, cause, complete, pas, premise, actress, aspect, flaw, within, amaze, subject, annoy, serve, theme, across, mission, bill, history, chris, girlfriend, williams, local, except, 1, science, wonderful, easy, whether, crew, effort, secret, rock, impressive, poor, america, recent, deserve, contain, basically, serious, apparently, studio, robin, agent, water, reality, important, million, pick, vampire, entertainment, message, lie, easily, attack, somehow, wish, happy, choose, cover, fear, doubt, batman, hilarious, ryan, street, difficult, party, introduce, cool, mystery, middle, ago, certain, fly, oh, hop, screenwriter, approach, ben, appeal, 3, wouldnt, ill, stick, answer, william, presence, produce, company, confuse, due, suffer, wear, strike, romance, general, box, effective, suspense, motion, critic, continue, popular, adult, promise, clear, business, bear, anyway, control, share, personal, blood, surprisingly, dramatic, fire, country, excite, youve, destroy, rule, emotion, somewhat, ability, train, previous, similar, shot, absolutely, date, harry, couldnt, choice, rich, strange, cinema, former, producer, latest, sexual, excellent, bob, slow, towards, successful, visual, park, intelligent, student, giant, familiar, near, red, beyond, predictable, wed, office, sam, la, sister, jim, prison, smart, trailer, hide, nature, martin, definitely, brilliant, shock, third, victim, powerful, murphy, portray, disappoint, straight, clever, felt, usual, bunch, musical, id, suspect, scary, capture, appearance, reach, dance, large, jones, favorite, solid, mess, stone, master, law, teen, land, handle, describe, treat, track, huge, seriously, potential, bond, amount, search, beat, unlike, animate, join, buy, blow, 4, tone, likely, perfectly, decent, hunt, sign, enjoyable, immediately, thank, travel, truman, toy, scott, bruce, sweet, merely, overall, particular, monster, issue, inside, carter, trek, gag, purpose, private, mar, neither, ultimately, door, impossible, blue, frank, truth, ten, depth, richard, struggle, engage, class, sight, allen, 10, mix, wood, design, tim, r, society, various, succeed, otherwise, amuse, race, imagine, political, opportunity, development, dumb, air, player, personality, adventure, soundtrack, free, step, list, require, edit, steve, haunt, army, sing, cliche, angel, government, club, week, kiss, talented, detective, raise, grace, west, compare, thrill, silly, slightly, today, biggest, arrive, occur, roll, female, earlier, mary, admit, color, havent, creature, cannot, soldier, rescue, fast, background, memorable, hank, english, avoid, term, disaster, drop, cold, tension, totally, max, month, notice, concern, episode, leader, survive, hill, pop, costume, jump, simon, subplot, eddie, constantly, impact, e, entirely, accept, actual, fit, l, drink, baby, terrible, eat, please, exist, remind, ape, british, atmosphere, queen, nick, island, rush, enter, officer, animation, lover, agree, typical, count, adam, cinematography, menace, doctor, standard, front, ridiculous, budget, minor, fairly, suggest, recommend, beauty, 90, pair, sell, grant, suddenly, inspire, fantasy, dull, trip, store, key, brief, brown, cameo, greatest, willis, complex, bug, foot, violent, disturb, machine, modern, steven, basic, respect, seven, mike, indeed, outside, cinematic, ride, road, ii, whatever, meanwhile, hang, partner, dollar, subtle, recently, clearly, mistake, intrigue, animal, suit, plenty, college, climax, woody, cheap, rob, chemistry, hate, crash, godzilla, believable, president, awful, warn, longer, encounter, band, quick, highly, period, conclusion, possibly, somewhere, protagonist, cross, dress'"
            ]
          },
          "execution_count": 18,
          "metadata": {},
          "output_type": "execute_result"
        }
      ]
    },
    {
      "cell_type": "markdown",
      "metadata": {
        "id": "14riI-ayT_KS"
      },
      "source": [
        "splitting  dataset into training and testing sets. Creating a training dataset by extracting 80% of the documents in each class (positive and negative). The rest of the 20% of the documents should be in the test dataset."
      ]
    },
    {
      "cell_type": "code",
      "metadata": {
        "colab": {
          "base_uri": "https://localhost:8080/"
        },
        "id": "HekXZ03ZRcnZ",
        "outputId": "18b08513-4c30-4e78-df63-f031e6f32641"
      },
      "source": [
        "from sklearn import model_selection\n",
        "from sklearn import preprocessing\n",
        "from sklearn import metrics\n",
        "from sklearn import svm\n",
        "x=df['text']\n",
        "y=df['label']\n",
        "train_x,test_x,train_y,test_y = train_test_split(x,y, random_state = 56,test_size=0.2,stratify=y)\n",
        "train_x.shape,test_x.shape,train_y.shape,test_y.shape"
      ],
      "execution_count": null,
      "outputs": [
        {
          "data": {
            "text/plain": [
              "((1600,), (400,), (1600,), (400,))"
            ]
          },
          "execution_count": 19,
          "metadata": {},
          "output_type": "execute_result"
        }
      ]
    },
    {
      "cell_type": "markdown",
      "metadata": {
        "id": "N322nLFpUPSZ"
      },
      "source": [
        "We work with the most frequent 1,000 words in the training dataset as our vocabulary. Create a function that outputs the vocabulary list and its frequency. You can use a dictionary data structure to count the frequencies."
      ]
    },
    {
      "cell_type": "code",
      "metadata": {
        "colab": {
          "base_uri": "https://localhost:8080/"
        },
        "id": "qcgSQeeSRovv",
        "outputId": "10d3abf4-59bb-462e-f957-0a30e671ee15"
      },
      "source": [
        "def vocabulary_list_of_frequency(words):\n",
        "  freq_words_train = [word for i in words for word in i.split()]\n",
        "  print(len(freq_words_train))\n",
        "  fdist = FreqDist(freq_words_train)\n",
        "  most_freq_train = fdist.most_common(1000)\n",
        "  return most_freq_train\n",
        "most_freq_train = vocabulary_list_of_frequency(train_x)\n",
        "s=', '.join([i[0] for i in most_freq_train])\n",
        "most_freq_train"
      ],
      "execution_count": null,
      "outputs": [
        {
          "name": "stdout",
          "output_type": "stream",
          "text": [
            "571320\n"
          ]
        },
        {
          "data": {
            "text/plain": [
              "[('film', 8962),\n",
              " ('movie', 5456),\n",
              " ('one', 4655),\n",
              " ('make', 3350),\n",
              " ('like', 3109),\n",
              " ('character', 3064),\n",
              " ('get', 2982),\n",
              " ('see', 2494),\n",
              " ('go', 2393),\n",
              " ('time', 2271),\n",
              " ('scene', 2102),\n",
              " ('even', 2079),\n",
              " ('play', 1886),\n",
              " ('story', 1841),\n",
              " ('good', 1836),\n",
              " ('take', 1747),\n",
              " ('much', 1643),\n",
              " ('would', 1625),\n",
              " ('give', 1587),\n",
              " ('also', 1578),\n",
              " ('come', 1578),\n",
              " ('know', 1520),\n",
              " ('way', 1504),\n",
              " ('two', 1490),\n",
              " ('look', 1487),\n",
              " ('end', 1482),\n",
              " ('seem', 1462),\n",
              " ('first', 1427),\n",
              " ('well', 1392),\n",
              " ('work', 1392),\n",
              " ('find', 1329),\n",
              " ('thing', 1324),\n",
              " ('say', 1287),\n",
              " ('year', 1280),\n",
              " ('really', 1266),\n",
              " ('plot', 1250),\n",
              " ('think', 1228),\n",
              " ('life', 1224),\n",
              " ('show', 1205),\n",
              " ('little', 1188),\n",
              " ('people', 1183),\n",
              " ('never', 1122),\n",
              " ('could', 1117),\n",
              " ('man', 1106),\n",
              " ('bad', 1100),\n",
              " ('love', 1096),\n",
              " ('try', 1070),\n",
              " ('performance', 1047),\n",
              " ('become', 1043),\n",
              " ('best', 1039),\n",
              " ('star', 1033),\n",
              " ('new', 1029),\n",
              " ('doesnt', 1025),\n",
              " ('want', 1023),\n",
              " ('actor', 1006),\n",
              " ('many', 1001),\n",
              " ('director', 987),\n",
              " ('watch', 968),\n",
              " ('dont', 964),\n",
              " ('great', 953),\n",
              " ('u', 945),\n",
              " ('use', 939),\n",
              " ('action', 938),\n",
              " ('he', 936),\n",
              " ('role', 908),\n",
              " ('another', 890),\n",
              " ('act', 883),\n",
              " ('audience', 869),\n",
              " ('something', 853),\n",
              " ('world', 833),\n",
              " ('still', 832),\n",
              " ('back', 830),\n",
              " ('turn', 829),\n",
              " ('there', 815),\n",
              " ('interest', 804),\n",
              " ('feel', 800),\n",
              " ('leave', 796),\n",
              " ('day', 788),\n",
              " ('however', 778),\n",
              " ('big', 776),\n",
              " ('though', 764),\n",
              " ('every', 752),\n",
              " ('begin', 743),\n",
              " ('guy', 734),\n",
              " ('set', 734),\n",
              " ('last', 732),\n",
              " ('cast', 729),\n",
              " ('enough', 728),\n",
              " ('part', 728),\n",
              " ('live', 727),\n",
              " ('around', 724),\n",
              " ('tell', 724),\n",
              " ('comedy', 718),\n",
              " ('better', 716),\n",
              " ('isnt', 711),\n",
              " ('real', 698),\n",
              " ('run', 692),\n",
              " ('point', 692),\n",
              " ('may', 686),\n",
              " ('name', 683),\n",
              " ('script', 682),\n",
              " ('actually', 681),\n",
              " ('fact', 673),\n",
              " ('woman', 671),\n",
              " ('write', 665),\n",
              " ('nothing', 661),\n",
              " ('funny', 657),\n",
              " ('right', 655),\n",
              " ('almost', 654),\n",
              " ('lot', 651),\n",
              " ('effect', 645),\n",
              " ('although', 635),\n",
              " ('friend', 634),\n",
              " ('start', 632),\n",
              " ('moment', 632),\n",
              " ('since', 632),\n",
              " ('thats', 632),\n",
              " ('john', 627),\n",
              " ('old', 622),\n",
              " ('place', 615),\n",
              " ('young', 613),\n",
              " ('long', 608),\n",
              " ('ever', 603),\n",
              " ('minute', 602),\n",
              " ('kill', 595),\n",
              " ('family', 592),\n",
              " ('help', 587),\n",
              " ('line', 585),\n",
              " ('lead', 583),\n",
              " ('screen', 582),\n",
              " ('happen', 576),\n",
              " ('original', 570),\n",
              " ('without', 556),\n",
              " ('problem', 555),\n",
              " ('picture', 555),\n",
              " ('need', 553),\n",
              " ('call', 553),\n",
              " ('keep', 553),\n",
              " ('bring', 544),\n",
              " ('girl', 532),\n",
              " ('sequence', 529),\n",
              " ('away', 528),\n",
              " ('lose', 527),\n",
              " ('least', 527),\n",
              " ('cant', 520),\n",
              " ('rather', 519),\n",
              " ('open', 516),\n",
              " ('quite', 512),\n",
              " ('include', 510),\n",
              " ('course', 510),\n",
              " ('bite', 505),\n",
              " ('three', 504),\n",
              " ('im', 501),\n",
              " ('job', 500),\n",
              " ('fall', 499),\n",
              " ('mean', 495),\n",
              " ('put', 490),\n",
              " ('laugh', 488),\n",
              " ('might', 488),\n",
              " ('must', 488),\n",
              " ('anything', 485),\n",
              " ('far', 484),\n",
              " ('yet', 480),\n",
              " ('didnt', 479),\n",
              " ('sense', 479),\n",
              " ('kind', 479),\n",
              " ('involve', 477),\n",
              " ('reason', 474),\n",
              " ('wife', 468),\n",
              " ('special', 467),\n",
              " ('hollywood', 465),\n",
              " ('meet', 463),\n",
              " ('attempt', 462),\n",
              " ('always', 462),\n",
              " ('fun', 457),\n",
              " ('follow', 453),\n",
              " ('american', 453),\n",
              " ('feature', 451),\n",
              " ('child', 449),\n",
              " ('move', 449),\n",
              " ('home', 447),\n",
              " ('human', 444),\n",
              " ('instead', 443),\n",
              " ('shoot', 443),\n",
              " ('men', 441),\n",
              " ('probably', 441),\n",
              " ('hour', 438),\n",
              " ('create', 436),\n",
              " ('everything', 434),\n",
              " ('alien', 433),\n",
              " ('direct', 428),\n",
              " ('series', 428),\n",
              " ('black', 428),\n",
              " ('fight', 426),\n",
              " ('pretty', 425),\n",
              " ('high', 424),\n",
              " ('together', 424),\n",
              " ('dialogue', 424),\n",
              " ('night', 423),\n",
              " ('believe', 422),\n",
              " ('idea', 422),\n",
              " ('let', 422),\n",
              " ('head', 421),\n",
              " ('kid', 421),\n",
              " ('money', 418),\n",
              " ('war', 415),\n",
              " ('along', 411),\n",
              " ('save', 410),\n",
              " ('city', 405),\n",
              " ('talk', 405),\n",
              " ('sure', 403),\n",
              " ('music', 403),\n",
              " ('hand', 402),\n",
              " ('hard', 401),\n",
              " ('whole', 401),\n",
              " ('force', 394),\n",
              " ('death', 393),\n",
              " ('appear', 393),\n",
              " ('father', 392),\n",
              " ('surprise', 391),\n",
              " ('le', 390),\n",
              " ('mind', 389),\n",
              " ('die', 386),\n",
              " ('face', 386),\n",
              " ('couple', 379),\n",
              " ('brother', 375),\n",
              " ('question', 374),\n",
              " ('expect', 371),\n",
              " ('perhaps', 370),\n",
              " ('relationship', 369),\n",
              " ('boy', 367),\n",
              " ('do', 367),\n",
              " ('eye', 364),\n",
              " ('especially', 364),\n",
              " ('sex', 362),\n",
              " ('everyone', 362),\n",
              " ('jam', 362),\n",
              " ('release', 360),\n",
              " ('whose', 359),\n",
              " ('case', 356),\n",
              " ('simply', 354),\n",
              " ('mother', 353),\n",
              " ('care', 353),\n",
              " ('rest', 350),\n",
              " ('spend', 350),\n",
              " ('next', 349),\n",
              " ('ask', 348),\n",
              " ('decide', 347),\n",
              " ('manage', 347),\n",
              " ('book', 346),\n",
              " ('word', 346),\n",
              " ('change', 346),\n",
              " ('horror', 344),\n",
              " ('completely', 344),\n",
              " ('shes', 341),\n",
              " ('humor', 341),\n",
              " ('second', 339),\n",
              " ('school', 338),\n",
              " ('base', 338),\n",
              " ('suppose', 338),\n",
              " ('several', 336),\n",
              " ('theyre', 335),\n",
              " ('2', 334),\n",
              " ('anyone', 332),\n",
              " ('add', 332),\n",
              " ('break', 329),\n",
              " ('group', 329),\n",
              " ('hit', 328),\n",
              " ('different', 328),\n",
              " ('comic', 328),\n",
              " ('joke', 328),\n",
              " ('entire', 327),\n",
              " ('sound', 327),\n",
              " ('lack', 327),\n",
              " ('entertain', 327),\n",
              " ('mr', 325),\n",
              " ('bore', 325),\n",
              " ('small', 324),\n",
              " ('michael', 323),\n",
              " ('game', 323),\n",
              " ('main', 323),\n",
              " ('someone', 323),\n",
              " ('unfortunately', 322),\n",
              " ('final', 320),\n",
              " ('deal', 320),\n",
              " ('enjoy', 318),\n",
              " ('true', 318),\n",
              " ('either', 317),\n",
              " ('house', 317),\n",
              " ('matter', 316),\n",
              " ('half', 316),\n",
              " ('town', 315),\n",
              " ('present', 311),\n",
              " ('credit', 311),\n",
              " ('viewer', 308),\n",
              " ('later', 306),\n",
              " ('learn', 306),\n",
              " ('ive', 304),\n",
              " ('hear', 303),\n",
              " ('david', 302),\n",
              " ('car', 302),\n",
              " ('wrong', 299),\n",
              " ('evil', 298),\n",
              " ('review', 296),\n",
              " ('fan', 295),\n",
              " ('else', 295),\n",
              " ('behind', 294),\n",
              " ('realize', 294),\n",
              " ('camera', 293),\n",
              " ('element', 292),\n",
              " ('wonder', 292),\n",
              " ('result', 292),\n",
              " ('murder', 292),\n",
              " ('soon', 292),\n",
              " ('return', 290),\n",
              " ('dead', 290),\n",
              " ('stop', 289),\n",
              " ('hero', 288),\n",
              " ('consider', 288),\n",
              " ('support', 288),\n",
              " ('title', 287),\n",
              " ('finally', 287),\n",
              " ('rat', 286),\n",
              " ('tv', 286),\n",
              " ('provide', 286),\n",
              " ('despite', 284),\n",
              " ('nice', 284),\n",
              " ('certainly', 284),\n",
              " ('person', 284),\n",
              " ('maybe', 281),\n",
              " ('team', 279),\n",
              " ('often', 279),\n",
              " ('situation', 278),\n",
              " ('perfect', 278),\n",
              " ('offer', 275),\n",
              " ('side', 275),\n",
              " ('style', 275),\n",
              " ('son', 274),\n",
              " ('experience', 273),\n",
              " ('order', 273),\n",
              " ('view', 273),\n",
              " ('classic', 272),\n",
              " ('theater', 271),\n",
              " ('miss', 270),\n",
              " ('past', 270),\n",
              " ('robert', 270),\n",
              " ('summer', 269),\n",
              " ('hold', 268),\n",
              " ('stand', 268),\n",
              " ('daughter', 266),\n",
              " ('fail', 265),\n",
              " ('scream', 265),\n",
              " ('voice', 264),\n",
              " ('able', 262),\n",
              " ('top', 262),\n",
              " ('dog', 262),\n",
              " ('piece', 261),\n",
              " ('worth', 260),\n",
              " ('production', 258),\n",
              " ('example', 258),\n",
              " ('youre', 258),\n",
              " ('body', 258),\n",
              " ('build', 257),\n",
              " ('violence', 256),\n",
              " ('plan', 256),\n",
              " ('read', 255),\n",
              " ('full', 254),\n",
              " ('throughout', 254),\n",
              " ('screenplay', 254),\n",
              " ('version', 254),\n",
              " ('drama', 254),\n",
              " ('sort', 253),\n",
              " ('dark', 253),\n",
              " ('power', 253),\n",
              " ('video', 253),\n",
              " ('major', 252),\n",
              " ('sit', 252),\n",
              " ('others', 250),\n",
              " ('prove', 250),\n",
              " ('joe', 250),\n",
              " ('close', 249),\n",
              " ('throw', 249),\n",
              " ('event', 249),\n",
              " ('note', 248),\n",
              " ('grow', 246),\n",
              " ('dream', 245),\n",
              " ('heart', 245),\n",
              " ('light', 244),\n",
              " ('thriller', 244),\n",
              " ('worst', 244),\n",
              " ('killer', 244),\n",
              " ('nearly', 244),\n",
              " ('talent', 243),\n",
              " ('kevin', 242),\n",
              " ('direction', 242),\n",
              " ('speak', 241),\n",
              " ('room', 241),\n",
              " ('beautiful', 241),\n",
              " ('writer', 241),\n",
              " ('lee', 240),\n",
              " ('figure', 240),\n",
              " ('simple', 240),\n",
              " ('convince', 239),\n",
              " ('short', 238),\n",
              " ('exactly', 236),\n",
              " ('sometimes', 236),\n",
              " ('upon', 236),\n",
              " ('allow', 235),\n",
              " ('tom', 235),\n",
              " ('state', 235),\n",
              " ('deliver', 234),\n",
              " ('ship', 234),\n",
              " ('discover', 233),\n",
              " ('white', 233),\n",
              " ('jack', 232),\n",
              " ('wasnt', 232),\n",
              " ('level', 231),\n",
              " ('drive', 231),\n",
              " ('early', 231),\n",
              " ('catch', 229),\n",
              " ('already', 227),\n",
              " ('obvious', 227),\n",
              " ('fill', 227),\n",
              " ('member', 227),\n",
              " ('twist', 226),\n",
              " ('truly', 226),\n",
              " ('who', 226),\n",
              " ('touch', 225),\n",
              " ('waste', 225),\n",
              " ('fine', 224),\n",
              " ('cut', 224),\n",
              " ('walk', 224),\n",
              " ('cop', 224),\n",
              " ('guess', 223),\n",
              " ('peter', 223),\n",
              " ('york', 222),\n",
              " ('battle', 222),\n",
              " ('flick', 221),\n",
              " ('wait', 220),\n",
              " ('art', 219),\n",
              " ('number', 218),\n",
              " ('space', 218),\n",
              " ('pull', 217),\n",
              " ('hell', 217),\n",
              " ('remain', 217),\n",
              " ('forget', 217),\n",
              " ('genre', 217),\n",
              " ('filmmaker', 216),\n",
              " ('earth', 216),\n",
              " ('chase', 216),\n",
              " ('stay', 216),\n",
              " ('understand', 215),\n",
              " ('explain', 215),\n",
              " ('god', 215),\n",
              " ('pay', 214),\n",
              " ('age', 214),\n",
              " ('husband', 213),\n",
              " ('four', 213),\n",
              " ('send', 212),\n",
              " ('strong', 212),\n",
              " ('jackie', 212),\n",
              " ('rise', 211),\n",
              " ('charm', 211),\n",
              " ('form', 211),\n",
              " ('detail', 210),\n",
              " ('attention', 210),\n",
              " ('sequel', 210),\n",
              " ('escape', 209),\n",
              " ('romantic', 208),\n",
              " ('carry', 208),\n",
              " ('marry', 206),\n",
              " ('wont', 206),\n",
              " ('disney', 206),\n",
              " ('hope', 205),\n",
              " ('computer', 205),\n",
              " ('remember', 204),\n",
              " ('parent', 203),\n",
              " ('novel', 203),\n",
              " ('extremely', 203),\n",
              " ('stupid', 203),\n",
              " ('quickly', 202),\n",
              " ('emotional', 202),\n",
              " ('image', 202),\n",
              " ('worse', 202),\n",
              " ('arent', 201),\n",
              " ('develop', 201),\n",
              " ('five', 201),\n",
              " ('project', 201),\n",
              " ('de', 200),\n",
              " ('planet', 200),\n",
              " ('career', 200),\n",
              " ('smith', 199),\n",
              " ('trouble', 199),\n",
              " ('material', 197),\n",
              " ('yes', 197),\n",
              " ('alone', 197),\n",
              " ('possible', 196),\n",
              " ('king', 196),\n",
              " ('villain', 196),\n",
              " ('deep', 196),\n",
              " ('song', 195),\n",
              " ('saw', 195),\n",
              " ('police', 195),\n",
              " ('gun', 194),\n",
              " ('draw', 194),\n",
              " ('steal', 194),\n",
              " ('mostly', 193),\n",
              " ('oscar', 193),\n",
              " ('van', 192),\n",
              " ('wild', 192),\n",
              " ('focus', 191),\n",
              " ('score', 191),\n",
              " ('chance', 191),\n",
              " ('win', 190),\n",
              " ('mention', 190),\n",
              " ('television', 190),\n",
              " ('mark', 189),\n",
              " ('complete', 189),\n",
              " ('none', 188),\n",
              " ('paul', 187),\n",
              " ('pas', 187),\n",
              " ('chris', 187),\n",
              " ('whats', 187),\n",
              " ('among', 186),\n",
              " ('type', 186),\n",
              " ('tale', 186),\n",
              " ('vampire', 186),\n",
              " ('rock', 185),\n",
              " ('future', 185),\n",
              " ('quality', 185),\n",
              " ('pace', 185),\n",
              " ('crime', 185),\n",
              " ('easy', 183),\n",
              " ('obviously', 183),\n",
              " ('particularly', 182),\n",
              " ('george', 182),\n",
              " ('girlfriend', 182),\n",
              " ('eventually', 181),\n",
              " ('history', 181),\n",
              " ('bill', 181),\n",
              " ('batman', 181),\n",
              " ('across', 180),\n",
              " ('premise', 180),\n",
              " ('drug', 180),\n",
              " ('except', 179),\n",
              " ('1', 179),\n",
              " ('fiction', 179),\n",
              " ('amaze', 178),\n",
              " ('cause', 178),\n",
              " ('usually', 178),\n",
              " ('subject', 178),\n",
              " ('secret', 178),\n",
              " ('late', 177),\n",
              " ('success', 177),\n",
              " ('robin', 177),\n",
              " ('contain', 176),\n",
              " ('america', 176),\n",
              " ('youll', 175),\n",
              " ('actress', 175),\n",
              " ('serious', 174),\n",
              " ('cool', 174),\n",
              " ('agent', 174),\n",
              " ('aspect', 174),\n",
              " ('stuff', 174),\n",
              " ('apparently', 174),\n",
              " ('single', 173),\n",
              " ('impressive', 173),\n",
              " ('dr', 172),\n",
              " ('doubt', 172),\n",
              " ('reality', 172),\n",
              " ('flaw', 171),\n",
              " ('local', 171),\n",
              " ('annoy', 170),\n",
              " ('important', 169),\n",
              " ('million', 169),\n",
              " ('science', 169),\n",
              " ('ryan', 168),\n",
              " ('entertainment', 168),\n",
              " ('street', 168),\n",
              " ('effort', 168),\n",
              " ('crew', 168),\n",
              " ('choose', 168),\n",
              " ('lie', 168),\n",
              " ('mission', 168),\n",
              " ('somehow', 168),\n",
              " ('basically', 167),\n",
              " ('box', 167),\n",
              " ('reveal', 167),\n",
              " ('rule', 166),\n",
              " ('confuse', 166),\n",
              " ('bear', 166),\n",
              " ('williams', 166),\n",
              " ('within', 166),\n",
              " ('theme', 165),\n",
              " ('introduce', 164),\n",
              " ('whether', 164),\n",
              " ('serve', 164),\n",
              " ('hop', 164),\n",
              " ('poor', 164),\n",
              " ('control', 164),\n",
              " ('party', 164),\n",
              " ('wear', 163),\n",
              " ('certain', 163),\n",
              " ('pick', 163),\n",
              " ('due', 162),\n",
              " ('happy', 162),\n",
              " ('fire', 162),\n",
              " ('recent', 162),\n",
              " ('middle', 162),\n",
              " ('wish', 161),\n",
              " ('motion', 161),\n",
              " ('stick', 160),\n",
              " ('share', 160),\n",
              " ('produce', 160),\n",
              " ('sister', 160),\n",
              " ('screenwriter', 160),\n",
              " ('cover', 160),\n",
              " ('ben', 160),\n",
              " ('william', 160),\n",
              " ('popular', 159),\n",
              " ('presence', 159),\n",
              " ('easily', 159),\n",
              " ('strike', 159),\n",
              " ('answer', 159),\n",
              " ('deserve', 158),\n",
              " ('ago', 158),\n",
              " ('water', 158),\n",
              " ('company', 158),\n",
              " ('giant', 158),\n",
              " ('fly', 158),\n",
              " ('studio', 158),\n",
              " ('message', 157),\n",
              " ('oh', 157),\n",
              " ('critic', 157),\n",
              " ('wouldnt', 157),\n",
              " ('romance', 157),\n",
              " ('ill', 157),\n",
              " ('couldnt', 157),\n",
              " ('clear', 157),\n",
              " ('country', 156),\n",
              " ('fear', 156),\n",
              " ('wonderful', 156),\n",
              " ('previous', 155),\n",
              " ('appeal', 155),\n",
              " ('hilarious', 155),\n",
              " ('youve', 154),\n",
              " ('somewhat', 154),\n",
              " ('business', 154),\n",
              " ('blood', 154),\n",
              " ('general', 154),\n",
              " ('dramatic', 154),\n",
              " ('difficult', 154),\n",
              " ('toy', 154),\n",
              " ('absolutely', 153),\n",
              " ('mystery', 153),\n",
              " ('slow', 152),\n",
              " ('effective', 152),\n",
              " ('choice', 152),\n",
              " ('suffer', 152),\n",
              " ('visual', 152),\n",
              " ('continue', 152),\n",
              " ('anyway', 152),\n",
              " ('3', 152),\n",
              " ('bond', 152),\n",
              " ('adult', 152),\n",
              " ('personal', 151),\n",
              " ('powerful', 151),\n",
              " ('producer', 151),\n",
              " ('park', 150),\n",
              " ('office', 150),\n",
              " ('carter', 149),\n",
              " ('portray', 149),\n",
              " ('bunch', 149),\n",
              " ('intelligent', 149),\n",
              " ('excite', 149),\n",
              " ('truman', 149),\n",
              " ('murphy', 148),\n",
              " ('bob', 148),\n",
              " ('suspense', 148),\n",
              " ('attack', 147),\n",
              " ('sexual', 147),\n",
              " ('jim', 147),\n",
              " ('approach', 147),\n",
              " ('successful', 147),\n",
              " ('destroy', 146),\n",
              " ('capture', 146),\n",
              " ('beyond', 146),\n",
              " ('ability', 146),\n",
              " ('towards', 145),\n",
              " ('teen', 145),\n",
              " ('prison', 145),\n",
              " ('trailer', 145),\n",
              " ('seriously', 145),\n",
              " ('surprisingly', 144),\n",
              " ('promise', 144),\n",
              " ('date', 144),\n",
              " ('la', 144),\n",
              " ('excellent', 143),\n",
              " ('strange', 143),\n",
              " ('shock', 143),\n",
              " ('train', 143),\n",
              " ('latest', 143),\n",
              " ('emotion', 143),\n",
              " ('cinema', 143),\n",
              " ('sam', 143),\n",
              " ('hide', 142),\n",
              " ('smart', 142),\n",
              " ('shot', 142),\n",
              " ('join', 141),\n",
              " ('favorite', 141),\n",
              " ('clever', 141),\n",
              " ('felt', 140),\n",
              " ('similar', 140),\n",
              " ('former', 140),\n",
              " ('ape', 140),\n",
              " ('angel', 140),\n",
              " ('harry', 140),\n",
              " ('musical', 139),\n",
              " ('rich', 139),\n",
              " ('describe', 139),\n",
              " ('third', 139),\n",
              " ('disappoint', 139),\n",
              " ('large', 139),\n",
              " ('enjoyable', 139),\n",
              " ('familiar', 139),\n",
              " ('buy', 139),\n",
              " ('suspect', 139),\n",
              " ('definitely', 138),\n",
              " ('sweet', 138),\n",
              " ('amount', 138),\n",
              " ('predictable', 138),\n",
              " ('straight', 137),\n",
              " ('nature', 137),\n",
              " ('search', 137),\n",
              " ('track', 137),\n",
              " ('near', 137),\n",
              " ('huge', 137),\n",
              " ('jones', 137),\n",
              " ('usual', 137),\n",
              " ('handle', 136),\n",
              " ('victim', 136),\n",
              " ('red', 136),\n",
              " ('appearance', 136),\n",
              " ('immediately', 136),\n",
              " ('land', 136),\n",
              " ('likely', 136),\n",
              " ('blow', 135),\n",
              " ('truth', 135),\n",
              " ('tone', 135),\n",
              " ('mess', 135),\n",
              " ('sign', 135),\n",
              " ('max', 135),\n",
              " ('reach', 134),\n",
              " ('scott', 134),\n",
              " ('simon', 134),\n",
              " ('beat', 134),\n",
              " ('thank', 133),\n",
              " ('wed', 133),\n",
              " ('potential', 133),\n",
              " ('bruce', 133),\n",
              " ('grace', 133),\n",
              " ('id', 133),\n",
              " ('overall', 132),\n",
              " ('succeed', 132),\n",
              " ('perfectly', 132),\n",
              " ('allen', 132),\n",
              " ('student', 131),\n",
              " ('ten', 131),\n",
              " ('master', 131),\n",
              " ('impossible', 131),\n",
              " ('brilliant', 131),\n",
              " ('solid', 130),\n",
              " ('treat', 130),\n",
              " ('sight', 130),\n",
              " ('air', 130),\n",
              " ('particular', 129),\n",
              " ('engage', 129),\n",
              " ('monster', 129),\n",
              " ('adam', 129),\n",
              " ('tim', 129),\n",
              " ('frank', 128),\n",
              " ('admit', 128),\n",
              " ('kiss', 128),\n",
              " ('design', 128),\n",
              " ('law', 128),\n",
              " ('richard', 128),\n",
              " ('free', 127),\n",
              " ('hank', 127),\n",
              " ('r', 127),\n",
              " ('slightly', 127),\n",
              " ('dance', 127),\n",
              " ('class', 127),\n",
              " ('steve', 127),\n",
              " ('travel', 127),\n",
              " ('stone', 126),\n",
              " ('martin', 126),\n",
              " ('private', 126),\n",
              " ('purpose', 125),\n",
              " ('struggle', 125),\n",
              " ('raise', 125),\n",
              " ('amuse', 125),\n",
              " ('mix', 125),\n",
              " ('queen', 125),\n",
              " ('english', 125),\n",
              " ('player', 125),\n",
              " ('inside', 124),\n",
              " ('decent', 124),\n",
              " ('today', 124),\n",
              " ('otherwise', 124),\n",
              " ('blue', 124),\n",
              " ('dumb', 124),\n",
              " ('4', 124),\n",
              " ('foot', 123),\n",
              " ('merely', 123),\n",
              " ('race', 123),\n",
              " ('imagine', 123),\n",
              " ('greatest', 123),\n",
              " ('talented', 123),\n",
              " ('scary', 123),\n",
              " ('hunt', 123),\n",
              " ('gag', 123),\n",
              " ('unlike', 123),\n",
              " ('cold', 122),\n",
              " ('roll', 122),\n",
              " ('issue', 122),\n",
              " ('soundtrack', 122),\n",
              " ('adventure', 122),\n",
              " ('ultimately', 122),\n",
              " ('club', 122),\n",
              " ('development', 122),\n",
              " ('various', 122),\n",
              " ('depth', 122),\n",
              " ('tarzan', 122),\n",
              " ('notice', 122),\n",
              " ('haunt', 122),\n",
              " ('trek', 122),\n",
              " ('count', 121),\n",
              " ('thrill', 121),\n",
              " ('government', 121),\n",
              " ('wood', 121),\n",
              " ('require', 121),\n",
              " ('bug', 121),\n",
              " ('grant', 120),\n",
              " ('society', 120),\n",
              " ('personality', 120),\n",
              " ('list', 120),\n",
              " ('doctor', 120),\n",
              " ('occur', 120),\n",
              " ('baby', 120),\n",
              " ('pop', 120),\n",
              " ('l', 120),\n",
              " ('arrive', 119),\n",
              " ('animate', 119),\n",
              " ('10', 119),\n",
              " ('earlier', 119),\n",
              " ('neither', 119),\n",
              " ('opportunity', 119),\n",
              " ('week', 118),\n",
              " ('impact', 118),\n",
              " ('compare', 118),\n",
              " ('month', 118),\n",
              " ('cliche', 118),\n",
              " ('survive', 118),\n",
              " ('remind', 117),\n",
              " ('jump', 117),\n",
              " ('background', 117),\n",
              " ('terrible', 117),\n",
              " ('costume', 117),\n",
              " ('silly', 117),\n",
              " ('90', 117),\n",
              " ('west', 117),\n",
              " ('biggest', 117),\n",
              " ('cannot', 117),\n",
              " ('whatever', 116),\n",
              " ('avoid', 116),\n",
              " ('constantly', 116),\n",
              " ('havent', 116),\n",
              " ('term', 116),\n",
              " ('trip', 116),\n",
              " ('detective', 116),\n",
              " ('suggest', 116),\n",
              " ('woody', 116),\n",
              " ('step', 116),\n",
              " ('fast', 115),\n",
              " ('door', 115),\n",
              " ('outside', 115),\n",
              " ('mary', 115),\n",
              " ('please', 115),\n",
              " ('animation', 115),\n",
              " ('e', 115),\n",
              " ('indeed', 115),\n",
              " ('female', 115),\n",
              " ('memorable', 115),\n",
              " ('key', 115),\n",
              " ('sing', 114),\n",
              " ('suddenly', 114),\n",
              " ('rescue', 114),\n",
              " ('fairly', 114),\n",
              " ('episode', 114),\n",
              " ('atmosphere', 114),\n",
              " ('tension', 114),\n",
              " ('political', 114),\n",
              " ('budget', 114),\n",
              " ('soldier', 114),\n",
              " ('british', 114),\n",
              " ('meanwhile', 113),\n",
              " ('willis', 113),\n",
              " ('enter', 113),\n",
              " ('inspire', 113),\n",
              " ('quick', 113),\n",
              " ('ridiculous', 113),\n",
              " ('agree', 113),\n",
              " ('rob', 113),\n",
              " ('cheap', 112),\n",
              " ('accept', 112),\n",
              " ('fit', 112),\n",
              " ('beauty', 112),\n",
              " ('island', 112),\n",
              " ('typical', 112),\n",
              " ('brief', 112),\n",
              " ('color', 112),\n",
              " ('dollar', 112),\n",
              " ('creature', 112),\n",
              " ('front', 111),\n",
              " ('leader', 111),\n",
              " ('fantasy', 111),\n",
              " ('totally', 111),\n",
              " ('respect', 110),\n",
              " ('drop', 110),\n",
              " ('cinematography', 110),\n",
              " ('cross', 110),\n",
              " ('frighten', 110),\n",
              " ('steven', 110),\n",
              " ('warn', 110),\n",
              " ('eat', 110),\n",
              " ('godzilla', 110),\n",
              " ('hang', 109),\n",
              " ('menace', 109),\n",
              " ('band', 109),\n",
              " ('believable', 109),\n",
              " ('standard', 109),\n",
              " ('lover', 108),\n",
              " ('disturb', 108),\n",
              " ('recommend', 108),\n",
              " ('eddie', 108),\n",
              " ('possibly', 108),\n",
              " ('exception', 108),\n",
              " ('ride', 108),\n",
              " ('brown', 108),\n",
              " ('seven', 108),\n",
              " ('exist', 108),\n",
              " ('minor', 108),\n",
              " ('drink', 108),\n",
              " ('dull', 108),\n",
              " ('disaster', 108),\n",
              " ('hill', 108),\n",
              " ('aside', 107),\n",
              " ('pair', 107),\n",
              " ('apartment', 107),\n",
              " ('suit', 107),\n",
              " ('subtle', 107),\n",
              " ('road', 107),\n",
              " ('animal', 107),\n",
              " ('rush', 107),\n",
              " ('partner', 107),\n",
              " ('common', 106),\n",
              " ('complex', 106),\n",
              " ('officer', 106),\n",
              " ('dress', 106),\n",
              " ('cameo', 106),\n",
              " ('hire', 106),\n",
              " ('mistake', 106),\n",
              " ('somewhere', 105),\n",
              " ('actual', 105),\n",
              " ('highly', 105),\n",
              " ('president', 104),\n",
              " ('storyline', 104),\n",
              " ('concern', 104),\n",
              " ('cage', 104),\n",
              " ('crash', 104),\n",
              " ('sell', 104),\n",
              " ('witch', 104),\n",
              " ('edit', 104),\n",
              " ('cute', 103),\n",
              " ('chemistry', 103),\n",
              " ('subplot', 103),\n",
              " ('cinematic', 103),\n",
              " ('plenty', 103),\n",
              " ('slowly', 103),\n",
              " ('criminal', 103),\n",
              " ('language', 102),\n",
              " ('display', 102),\n",
              " ('recently', 102),\n",
              " ('basic', 102),\n",
              " ('awful', 102),\n",
              " ('climax', 102),\n",
              " ('difference', 101),\n",
              " ('store', 101),\n",
              " ('spot', 101),\n",
              " ('modern', 101)]"
            ]
          },
          "execution_count": 20,
          "metadata": {},
          "output_type": "execute_result"
        }
      ]
    },
    {
      "cell_type": "markdown",
      "metadata": {
        "id": "ODkm820YUXOK"
      },
      "source": [
        " function that reads in a document and outputs the feature list. Remember that each document should have the same sized feature list."
      ]
    },
    {
      "cell_type": "code",
      "metadata": {
        "colab": {
          "base_uri": "https://localhost:8080/"
        },
        "id": "eNBtO3RsavGd",
        "outputId": "333ba4fb-bb47-4f3e-ea2e-49abd46afd34"
      },
      "source": [
        "from sklearn.feature_extraction.text import CountVectorizer, TfidfVectorizer,TfidfTransformer\n",
        "x=df['text']\n",
        "y=df['label']\n",
        "count_vect = CountVectorizer()\n",
        "x = count_vect.fit_transform(x)\n",
        "tfidf_transformer = TfidfTransformer()\n",
        "x= tfidf_transformer.fit_transform(x)\n",
        "from sklearn.preprocessing import LabelEncoder\n",
        "label=LabelEncoder()\n",
        "y=label.fit_transform(y)\n",
        "\n",
        "train_x,test_x,train_y,test_y = train_test_split(x,y, random_state = 56,test_size=0.2,stratify=y)\n",
        "train_x=train_x.toarray()\n",
        "test_x=test_x.toarray()\n",
        "train_x.shape,test_x.shape,train_y.shape,test_y.shape"
      ],
      "execution_count": null,
      "outputs": [
        {
          "data": {
            "text/plain": [
              "((1600, 36907), (400, 36907), (1600,), (400,))"
            ]
          },
          "execution_count": 21,
          "metadata": {},
          "output_type": "execute_result"
        }
      ]
    },
    {
      "cell_type": "markdown",
      "metadata": {
        "id": "G8x51bHnbvo9"
      },
      "source": [
        "The next task is to implement a sigmoid function that takes a number and outputs a score between 0 and 1"
      ]
    },
    {
      "cell_type": "code",
      "metadata": {
        "colab": {
          "base_uri": "https://localhost:8080/"
        },
        "id": "u2LwsqHlbp_8",
        "outputId": "882864c3-09f2-4bf7-aa32-14ede1124223"
      },
      "source": [
        "def sigmoid(z):\n",
        "  return 1/(1 + np.exp(-z))\n",
        "sigmoid(2)"
      ],
      "execution_count": null,
      "outputs": [
        {
          "data": {
            "text/plain": [
              "0.8807970779778823"
            ]
          },
          "execution_count": 22,
          "metadata": {},
          "output_type": "execute_result"
        }
      ]
    },
    {
      "cell_type": "code",
      "metadata": {
        "id": "dS0f17QkgOl0"
      },
      "source": [
        "from sklearn import metrics\n",
        "def get_metrics(predictions, test_data_y):\n",
        "  accuracy = metrics.accuracy_score(predictions, test_data_y)\n",
        "  precision = metrics.precision_score(predictions, test_data_y, pos_label='positive', average='micro')\n",
        "  recall = metrics.recall_score(predictions, test_data_y, pos_label='positive', average='micro')\n",
        "  f1 = metrics.f1_score(predictions, test_data_y, pos_label='positive', average='micro')\n",
        "  return accuracy, precision, recall, f1"
      ],
      "execution_count": null,
      "outputs": []
    },
    {
      "cell_type": "code",
      "metadata": {
        "colab": {
          "base_uri": "https://localhost:8080/"
        },
        "id": "6KuZM_higWnl",
        "outputId": "9e12ab5f-5b13-4431-a570-6e73071d4da0"
      },
      "source": [
        "sgd = SGDClassifier(eta0=0.0001, alpha=0.01, loss='log',random_state=15, penalty='l2', tol=1e-3,learning_rate='constant')\n",
        "sgd.fit(train_x, train_y)\n",
        "Sigmoid_predictions_validation_data = sgd.predict(test_x)\n",
        "accuracy, precision, recall, f1 = get_metrics(Sigmoid_predictions_validation_data, test_y)\n",
        "wv=np.array([[i] for i in np.append(np.array([[i] for i in sgd.coef_[0]]),[0])])\n",
        "print(\"Accuracy is {0}\\nPrecision is {1}\\nRecall is {2}\\nF1 is {3}\".format(accuracy, precision, recall, f1))"
      ],
      "execution_count": null,
      "outputs": [
        {
          "name": "stderr",
          "output_type": "stream",
          "text": [
            "/usr/local/lib/python3.7/dist-packages/sklearn/metrics/_classification.py:1321: UserWarning: Note that pos_label (set to 'positive') is ignored when average != 'binary' (got 'micro'). You may use labels=[pos_label] to specify a single positive class.\n",
            "  % (pos_label, average), UserWarning)\n"
          ]
        },
        {
          "name": "stdout",
          "output_type": "stream",
          "text": [
            "Accuracy is 0.77\n",
            "Precision is 0.77\n",
            "Recall is 0.77\n",
            "F1 is 0.7699999999999999\n"
          ]
        }
      ]
    },
    {
      "cell_type": "code",
      "metadata": {
        "id": "pZJmRZj8kcQI"
      },
      "source": [
        "\n",
        "def logloss(y_true,y_pred):\n",
        "  ## function to compute log loss \n",
        "  loss=0\n",
        "  for i in range(len(y_true)):\n",
        "    loss+=((y_true[i]*math.log10(y_pred[i]))+((1-y_true[i])*math.log10(1-y_pred[i])))\n",
        "  loss=-1*(1/len(y_true))*loss\n",
        "  return loss\n",
        "import math\n",
        "def gradient(x, y, W):\n",
        "  y = y.reshape(-1, 1)\n",
        "  return ( x * (y - sigmoid(x @ W)) ).T\n",
        "def pred(w,b, X):\n",
        "    N = len(X)\n",
        "    predict = []\n",
        "    for i in range(N):\n",
        "        z=np.dot(w,X[i])+b\n",
        "        if sigmoid(z) >= 0.5:\n",
        "            predict.append(1)\n",
        "        else:\n",
        "            predict.append(0)\n",
        "    return np.array(predict)"
      ],
      "execution_count": null,
      "outputs": []
    },
    {
      "cell_type": "code",
      "metadata": {
        "colab": {
          "base_uri": "https://localhost:8080/"
        },
        "id": "Oo6BsNQ0EVMr",
        "outputId": "810a7846-8ced-4f81-e2e0-c9e7e6cd1ed2"
      },
      "source": [
        "def train(train_x,train_y,test_x,test_y,epochs,alpha,eta0,batch_size=1):\n",
        "  loss_of_train, loss_of_test = [], []\n",
        "  train_x = np.c_[np.ones(train_x.shape[0]), train_x]\n",
        "  test_x = np.c_[np.ones(test_x.shape[0]), test_x]\n",
        "  weights = np.zeros((train_x.shape[1], 1))\n",
        "  loss_of_train.append(logloss(train_y, sigmoid(train_x @ weights)))\n",
        "  for _ in tqdm(range(epochs)):\n",
        "    r = np.random.randint(0,len(train_x),batch_size)\n",
        "    random_x, random_y = train_x[r], train_y[r]\n",
        "    weights += eta0 * ( random_x * (random_y.reshape(-1, 1) - sigmoid(random_x @ weights)) ).T\n",
        "    weights[1:] -= eta0 * alpha * np.sqrt(weights[1:] ** 2) / train_x.shape[0]\n",
        "    loss_of_train.append(logloss(train_y, sigmoid(train_x @ weights)))\n",
        "    loss_of_test.append(logloss(test_y, sigmoid(test_x @ weights)))\n",
        "  return weights,weights[1:] ,loss_of_train, loss_of_test\n",
        "from tqdm import tqdm\n",
        "alpha=0.01\n",
        "eta0=0.0001\n",
        "N=len(train_x)\n",
        "epochs=400\n",
        "w,b,loss_of_train, loss_of_test=train(train_x,train_y,test_x,test_y,epochs,alpha,eta0,batch_size=1)\n",
        "print(b)\n",
        "print(w)"
      ],
      "execution_count": null,
      "outputs": [
        {
          "name": "stderr",
          "output_type": "stream",
          "text": [
            "100%|██████████| 400/400 [00:33<00:00, 12.00it/s]"
          ]
        },
        {
          "name": "stdout",
          "output_type": "stream",
          "text": [
            "[[-6.72819978e-06]\n",
            " [-1.82028108e-05]\n",
            " [ 0.00000000e+00]\n",
            " ...\n",
            " [-4.55033832e-06]\n",
            " [-3.42294857e-06]\n",
            " [ 0.00000000e+00]]\n",
            "[[-2.99718879e-04]\n",
            " [-6.72819978e-06]\n",
            " [-1.82028108e-05]\n",
            " ...\n",
            " [-4.55033832e-06]\n",
            " [-3.42294857e-06]\n",
            " [ 0.00000000e+00]]\n"
          ]
        },
        {
          "name": "stderr",
          "output_type": "stream",
          "text": [
            "\n"
          ]
        }
      ]
    },
    {
      "cell_type": "code",
      "metadata": {
        "colab": {
          "base_uri": "https://localhost:8080/",
          "height": 295
        },
        "id": "bFBDvNqf_sNu",
        "outputId": "62089f5d-d5bb-4b7e-9ca4-ef5eda1966f6"
      },
      "source": [
        "plt.plot(np.log(range(1, epochs + 2)), loss_of_train)\n",
        "plt.plot(np.log(range(1, epochs+1)), loss_of_test, '-.', alpha=0.75)\n",
        "plt.title('train loss vs test loss')\n",
        "plt.xlabel('log epochs')\n",
        "plt.ylabel('loss')\n",
        "plt.legend(['train loss'], loc='upper right')\n",
        "plt.show()"
      ],
      "execution_count": null,
      "outputs": [
        {
          "data": {
            "image/png": "[encoded data removed]",
            "text/plain": [
              "<Figure size 432x288 with 1 Axes>"
            ]
          },
          "metadata": {},
          "output_type": "display_data"
        }
      ]
    },
    {
      "cell_type": "markdown",
      "metadata": {
        "id": "W4JzpkyNWzqe"
      },
      "source": [
        "mini-batch With batch size 32"
      ]
    },
    {
      "cell_type": "code",
      "metadata": {
        "colab": {
          "background_save": true,
          "base_uri": "https://localhost:8080/",
          "height": 503
        },
        "id": "OpoKa9VrUfoq",
        "outputId": "da8dfc46-4169-485f-9de6-d528685e64af"
      },
      "source": [
        "p = sigmoid(test_x @ w[:-1])\n",
        "print(f'train accuracy: {accuracy_score(test_y, p >= 0.5)}')\n",
        "print(f'train log loss: {log_loss(test_y, p)}')\n",
        "print(accuracy_score(test_y, p >= 0.5))\n",
        "print(classification_report(test_y, p >= 0.5))\n",
        "print(confusion_matrix(test_y, p >= 0.5))\n",
        "precision, recall, fscore, support = precision_recall_fscore_support(test_y, p >= 0.5, average='binary')\n",
        "print('Precision = ',round(precision,4),'\\nRecall = ', round(recall,4), '\\nF-Score = ',round(fscore,4))\n",
        "\n",
        "print(1-np.sum(train_y - pred(c,b,train_x))/len(train_x))\n",
        "print(1-np.sum(test_y - pred(c,b,test_x))/len(test_x))"
      ],
      "execution_count": null,
      "outputs": [
        {
          "ename": "NameError",
          "evalue": "ignored",
          "output_type": "error",
          "traceback": [
            "\u001b[0;31m---------------------------------------------------------------------------\u001b[0m",
            "\u001b[0;31mNameError\u001b[0m                                 Traceback (most recent call last)",
            "\u001b[0;32m<ipython-input-1-09a74154b9a6>\u001b[0m in \u001b[0;36m<module>\u001b[0;34m()\u001b[0m\n\u001b[0;32m----> 1\u001b[0;31m \u001b[0mp\u001b[0m \u001b[0;34m=\u001b[0m \u001b[0msigmoid\u001b[0m\u001b[0;34m(\u001b[0m\u001b[0mtest_x\u001b[0m \u001b[0;34m@\u001b[0m \u001b[0mw\u001b[0m\u001b[0;34m[\u001b[0m\u001b[0;34m:\u001b[0m\u001b[0;34m-\u001b[0m\u001b[0;36m1\u001b[0m\u001b[0;34m]\u001b[0m\u001b[0;34m)\u001b[0m\u001b[0;34m\u001b[0m\u001b[0;34m\u001b[0m\u001b[0m\n\u001b[0m\u001b[1;32m      2\u001b[0m \u001b[0mprint\u001b[0m\u001b[0;34m(\u001b[0m\u001b[0;34mf'train accuracy: {accuracy_score(test_y, p >= 0.5)}'\u001b[0m\u001b[0;34m)\u001b[0m\u001b[0;34m\u001b[0m\u001b[0;34m\u001b[0m\u001b[0m\n\u001b[1;32m      3\u001b[0m \u001b[0mprint\u001b[0m\u001b[0;34m(\u001b[0m\u001b[0;34mf'train log loss: {log_loss(test_y, p)}'\u001b[0m\u001b[0;34m)\u001b[0m\u001b[0;34m\u001b[0m\u001b[0;34m\u001b[0m\u001b[0m\n\u001b[1;32m      4\u001b[0m \u001b[0mprint\u001b[0m\u001b[0;34m(\u001b[0m\u001b[0maccuracy_score\u001b[0m\u001b[0;34m(\u001b[0m\u001b[0mtest_y\u001b[0m\u001b[0;34m,\u001b[0m \u001b[0mp\u001b[0m \u001b[0;34m>=\u001b[0m \u001b[0;36m0.5\u001b[0m\u001b[0;34m)\u001b[0m\u001b[0;34m)\u001b[0m\u001b[0;34m\u001b[0m\u001b[0;34m\u001b[0m\u001b[0m\n\u001b[1;32m      5\u001b[0m \u001b[0mprint\u001b[0m\u001b[0;34m(\u001b[0m\u001b[0mclassification_report\u001b[0m\u001b[0;34m(\u001b[0m\u001b[0mtest_y\u001b[0m\u001b[0;34m,\u001b[0m \u001b[0mp\u001b[0m \u001b[0;34m>=\u001b[0m \u001b[0;36m0.5\u001b[0m\u001b[0;34m)\u001b[0m\u001b[0;34m)\u001b[0m\u001b[0;34m\u001b[0m\u001b[0;34m\u001b[0m\u001b[0m\n",
            "\u001b[0;31mNameError\u001b[0m: name 'sigmoid' is not defined"
          ]
        }
      ]
    },
    {
      "cell_type": "code",
      "metadata": {
        "id": "w13t2YIXVakQ"
      },
      "source": [
        "def logloss1(y_true, y_pred, eps=1e-15):\n",
        "    y_pred = np.clip(y_pred, eps, 1 - eps)\n",
        "    return -(np.dot(y_true , np.log(y_pred))).sum(axis=1).mean()\n",
        "def train(train_x,train_y,test_x,y_test,epochs,alpha,eta0,batch_size=1):\n",
        "  loss_of_train, loss_of_test = [], []\n",
        "  train_x = np.c_[np.ones(train_x.shape[0]), train_x]\n",
        "  test_x = np.c_[np.ones(test_x.shape[0]), train_x]\n",
        "  weights = np.zeros((train_x.shape[1], batch_size))\n",
        "  for _ in tqdm(range(epochs)):\n",
        "    r = np.random.randint(0,len(train_x),batch_size)\n",
        "    r1 = np.random.randint(0,len(test_x),batch_size)\n",
        "    random_x, random_y = train_x[r], train_y[r]\n",
        "    random_x1, random_y1 = test_x[r1], y_test[r1]\n",
        "    weights += eta0 * np.dot(random_x.T,random_y - sigmoid(random_x @ weights))\n",
        "    weights[1:] -= eta0 * alpha * np.sqrt(weights[1:] ** 2) / train_x.shape[0]\n",
        "    loss_of_train.append(logloss1(random_x.T, sigmoid(random_x @ weights)))\n",
        "    loss_of_test.append(logloss1(random_x1.T, sigmoid(random_x1 @ weights)))\n",
        "  return weights,weights[1:] ,loss_of_train, loss_of_test\n",
        "from tqdm import tqdm\n",
        "alpha=0.01\n",
        "eta0=0.0001\n",
        "N=len(train_x)\n",
        "epochs=400\n",
        "w,b,loss_of_train, loss_of_test=train(train_x,train_y,test_x,test_y,epochs,alpha,eta0,batch_size=32)\n",
        "print(b)\n",
        "print(w)"
      ],
      "execution_count": null,
      "outputs": []
    },
    {
      "cell_type": "code",
      "metadata": {
        "id": "UMN240xHRbOj"
      },
      "source": [
        "p = sigmoid(test_x @ w[:-1])\n",
        "print(f'train accuracy: {accuracy_score(test_y, p >= 0.5)}')\n",
        "print(f'train log loss: {log_loss(test_y, p)}')\n",
        "print(accuracy_score(test_y, p >= 0.5))\n",
        "print(classification_report(test_y, p >= 0.5))\n",
        "print(confusion_matrix(test_y, p >= 0.5))\n",
        "precision, recall, fscore, support = precision_recall_fscore_support(test_y, p >= 0.5, average='binary')\n",
        "print('Precision = ',round(precision,4),'\\nRecall = ', round(recall,4), '\\nF-Score = ',round(fscore,4))\n",
        "print(1-np.sum(train_y - pred(w,b,train_x))/len(train_x))\n",
        "print(1-np.sum(test_y - pred(w,b,test_x))/len(test_x))"
      ],
      "execution_count": null,
      "outputs": []
    },
    {
      "cell_type": "code",
      "metadata": {
        "id": "Uk8v9NLnYmZE"
      },
      "source": [
        "vector_W = [np.mean(i) for i in wv[::-1]]\n",
        "vector_f=[i for i in fdist.keys()][:36861]\n",
        "fw={}\n",
        "for i,j in zip(vector_W,vector_f):\n",
        "  fw[j]=i\n",
        "fw"
      ],
      "execution_count": null,
      "outputs": []
    }
  ]
}