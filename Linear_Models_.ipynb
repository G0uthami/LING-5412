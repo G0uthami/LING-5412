{
  "nbformat": 4,
  "nbformat_minor": 0,
  "metadata": {
    "colab": {
      "name": "Copy_of_Linear_Models_Assignment.ipynb",
      "provenance": [],
      "collapsed_sections": []
    },
    "kernelspec": {
      "name": "python3",
      "display_name": "Python 3"
    },
    "language_info": {
      "name": "python"
    }
  },
  "cells": [
    {
      "cell_type": "markdown",
      "metadata": {
        "id": "Mu05ewVwiYE4"
      },
      "source": [
        "Extracting Data"
      ]
    },
    {
      "cell_type": "code",
      "metadata": {
        "colab": {
          "base_uri": "https://localhost:8080/"
        },
        "id": "TKZ2GUAHfGVx",
        "outputId": "c173f0bd-0dde-412b-e76a-6c9509074204"
      },
      "source": [
        "import pandas as pd\n",
        "file = \"http://www.cs.cornell.edu/people/pabo/movie-review-data/scale_data.tar.gz\"\n",
        "!pip install wget\n",
        "import wget\n",
        "wget.download(file)\n",
        "import tarfile\n",
        "\n",
        "tf = tarfile.open(\"scale_data.tar.gz\")\n",
        "file = tf.extractall(r\"/content/C:\\Users\\16197\\Documents\\NLP week 3\")"
      ],
      "execution_count": null,
      "outputs": [
        {
          "output_type": "stream",
          "name": "stdout",
          "text": [
            "Requirement already satisfied: wget in /usr/local/lib/python3.7/dist-packages (3.2)\n"
          ]
        }
      ]
    },
    {
      "cell_type": "markdown",
      "metadata": {
        "id": "rQ2FXYBtieyq"
      },
      "source": [
        "Importing all Required Libraries"
      ]
    },
    {
      "cell_type": "code",
      "metadata": {
        "colab": {
          "base_uri": "https://localhost:8080/"
        },
        "id": "O1zg01N1tEft",
        "outputId": "9ae07eb4-d172-450b-b897-ecd0ea8d20ed"
      },
      "source": [
        "import tarfile\n",
        "import os\n",
        "import pandas as pd\n",
        "import string\n",
        "import numpy as np\n",
        "import matplotlib.pyplot as plt\n",
        "punctuations= string.punctuation\n",
        "import nltk\n",
        "nltk.download('stopwords')\n",
        "nltk.download('wordnet')\n",
        "from nltk.corpus import stopwords\n",
        "stopword_list = stopwords.words(\"english\")\n",
        "from nltk.stem.wordnet import WordNetLemmatizer\n",
        "lem = WordNetLemmatizer()\n",
        "from nltk.tokenize import word_tokenize\n",
        "nltk.download('punkt')\n",
        "from sklearn.feature_extraction.text import CountVectorizer, TfidfVectorizer,TfidfTransformer\n",
        "from sklearn.metrics import accuracy_score,classification_report, confusion_matrix,f1_score,precision_recall_fscore_support,log_loss\n",
        "from sklearn.linear_model import Lasso, SGDClassifier,LogisticRegression as LR\n",
        "from sklearn.feature_selection import SelectFromModel\n",
        "from sklearn.model_selection import train_test_split,GridSearchCV\n",
        "from sklearn.decomposition import PCA,TruncatedSVD\n",
        "from sklearn.datasets import make_blobs\n",
        "from sklearn.neural_network import MLPClassifier\n",
        "from tqdm import tqdm\n",
        "from sklearn.svm import SVC\n",
        "import seaborn as sns\n",
        "import pylab as pl\n"
      ],
      "execution_count": null,
      "outputs": [
        {
          "output_type": "stream",
          "name": "stdout",
          "text": [
            "[nltk_data] Downloading package stopwords to /root/nltk_data...\n",
            "[nltk_data]   Unzipping corpora/stopwords.zip.\n",
            "[nltk_data] Downloading package wordnet to /root/nltk_data...\n",
            "[nltk_data]   Unzipping corpora/wordnet.zip.\n",
            "[nltk_data] Downloading package punkt to /root/nltk_data...\n",
            "[nltk_data]   Unzipping tokenizers/punkt.zip.\n"
          ]
        }
      ]
    },
    {
      "cell_type": "code",
      "metadata": {
        "colab": {
          "base_uri": "https://localhost:8080/",
          "height": 204
        },
        "id": "1qkAG6ZSmjt_",
        "outputId": "c58a473d-a727-4311-faa2-68122620912e"
      },
      "source": [
        "import re\n",
        "data_dir = r'/content/C:\\Users\\16197\\Documents\\NLP week 3/scaledata'\n",
        "labels, cleaned_documents = [], []\n",
        "for dr in os.listdir(data_dir):\n",
        "    path1 = data_dir + '/' + dr\n",
        "    for doc_name in os.listdir(path1):\n",
        "      file_path = path1 + '/' + doc_name\n",
        "      if re.findall('subj',file_path) != []:\n",
        "        with open(file_path, encoding='utf8', errors='ignore') as f:\n",
        "          doc = f.read()\n",
        "        cleaned_documents.append(doc)\n",
        "      elif re.findall('label.3class',file_path) != []:\n",
        "        with open(file_path, encoding='utf8', errors='ignore') as f:\n",
        "          string = f.read()\n",
        "        labels.append(string)\n",
        "      #break\n",
        "for i in range(len(cleaned_documents)):\n",
        "  df1 = pd.DataFrame({'text': cleaned_documents[i].split('\\n'),'label':labels[i].split('\\n')[:len(cleaned_documents[i])]})\n",
        "  #df= df.append(df)\n",
        "  break\n",
        "df1.head()"
      ],
      "execution_count": null,
      "outputs": [
        {
          "output_type": "execute_result",
          "data": {
            "text/html": [
              "<div>\n",
              "<style scoped>\n",
              "    .dataframe tbody tr th:only-of-type {\n",
              "        vertical-align: middle;\n",
              "    }\n",
              "\n",
              "    .dataframe tbody tr th {\n",
              "        vertical-align: top;\n",
              "    }\n",
              "\n",
              "    .dataframe thead th {\n",
              "        text-align: right;\n",
              "    }\n",
              "</style>\n",
              "<table border=\"1\" class=\"dataframe\">\n",
              "  <thead>\n",
              "    <tr style=\"text-align: right;\">\n",
              "      <th></th>\n",
              "      <th>text</th>\n",
              "      <th>label</th>\n",
              "    </tr>\n",
              "  </thead>\n",
              "  <tbody>\n",
              "    <tr>\n",
              "      <th>0</th>\n",
              "      <td>in my opinion , a movie reviewer's most import...</td>\n",
              "      <td>0</td>\n",
              "    </tr>\n",
              "    <tr>\n",
              "      <th>1</th>\n",
              "      <td>you can watch this movie , that is based on a ...</td>\n",
              "      <td>0</td>\n",
              "    </tr>\n",
              "    <tr>\n",
              "      <th>2</th>\n",
              "      <td>this is asking a lot to believe , and though i...</td>\n",
              "      <td>0</td>\n",
              "    </tr>\n",
              "    <tr>\n",
              "      <th>3</th>\n",
              "      <td>no heroes and no story are the main attributes...</td>\n",
              "      <td>0</td>\n",
              "    </tr>\n",
              "    <tr>\n",
              "      <th>4</th>\n",
              "      <td>this is not an art movie , yet i saw it an art...</td>\n",
              "      <td>0</td>\n",
              "    </tr>\n",
              "  </tbody>\n",
              "</table>\n",
              "</div>"
            ],
            "text/plain": [
              "                                                text label\n",
              "0  in my opinion , a movie reviewer's most import...     0\n",
              "1  you can watch this movie , that is based on a ...     0\n",
              "2  this is asking a lot to believe , and though i...     0\n",
              "3  no heroes and no story are the main attributes...     0\n",
              "4  this is not an art movie , yet i saw it an art...     0"
            ]
          },
          "metadata": {},
          "execution_count": 16
        }
      ]
    },
    {
      "cell_type": "markdown",
      "metadata": {
        "id": "vyUcs7dOqZiv"
      },
      "source": [
        "1. What is the default loss function used in the SGD classifier? https://scikit-learn.org/stable/modules/sgd.html#sgd\n",
        "2. As in the other assignments, create a single dataset for classification based on the IDs available. An example ID name is \"id.Dennis+Schwartz\". The data file is \"subj.Dennis+Schwartz\". The ratings file is \"rating.Dennis+Schwartz\". The ratings are converted to 3 classes as described in the README file."
      ]
    },
    {
      "cell_type": "code",
      "metadata": {
        "colab": {
          "base_uri": "https://localhost:8080/",
          "height": 204
        },
        "id": "oJiwnjYIOuSw",
        "outputId": "7fa90c29-990f-4924-c791-ca1b9607b5f8"
      },
      "source": [
        "with open(r'/content/C:\\Users\\16197\\Documents\\NLP week 3/scaledata/Dennis+Schwartz/subj.Dennis+Schwartz') as f:\n",
        "    doc = f.read()\n",
        "with open(r'/content/C:\\Users\\16197\\Documents\\NLP week 3/scaledata/Dennis+Schwartz/label.3class.Dennis+Schwartz', encoding='utf8', errors='ignore') as f:\n",
        "    c3 = f.read()\n",
        "df1 = pd.DataFrame({'text': doc.split('\\n'),'label':c3.split('\\n')[:len(doc.split('\\n'))]})\n",
        "with open(r'/content/C:\\Users\\16197\\Documents\\NLP week 3/scaledata/James+Berardinelli/subj.James+Berardinelli') as f:\n",
        "    doc = f.read()\n",
        "with open(r'/content/C:\\Users\\16197\\Documents\\NLP week 3/scaledata/James+Berardinelli/label.3class.James+Berardinelli', encoding='utf8', errors='ignore') as f:\n",
        "    c3 = f.read()\n",
        "df2 = pd.DataFrame({'text': doc.split('\\n'),'label':c3.split('\\n')[:len(doc.split('\\n'))]})\n",
        "with open(r'/content/C:\\Users\\16197\\Documents\\NLP week 3/scaledata/Scott+Renshaw/subj.Scott+Renshaw') as f:\n",
        "    doc = f.read()\n",
        "with open(r'/content/C:\\Users\\16197\\Documents\\NLP week 3/scaledata/Scott+Renshaw/label.3class.Scott+Renshaw', encoding='utf8', errors='ignore') as f:\n",
        "    c3 = f.read()\n",
        "df3 = pd.DataFrame({'text': doc.split('\\n'),'label':c3.split('\\n')[:len(doc.split('\\n'))]})\n",
        "with open(r'/content/C:\\Users\\16197\\Documents\\NLP week 3/scaledata/Steve+Rhodes/subj.Steve+Rhodes') as f:\n",
        "    doc = f.read()\n",
        "with open(r'/content/C:\\Users\\16197\\Documents\\NLP week 3/scaledata/Steve+Rhodes/label.3class.Steve+Rhodes', encoding='utf8', errors='ignore') as f:\n",
        "    c3 = f.read()\n",
        "df4 = pd.DataFrame({'text': doc.split('\\n'),'label':c3.split('\\n')[:len(doc.split('\\n'))]})\n",
        "df = pd.concat([df1,df2,df3,df4])\n",
        "df.replace(\"\", float(\"NaN\"), inplace=True)\n",
        "df.replace(\" \", float(\"NaN\"), inplace=True)\n",
        "df.dropna(subset = [\"label\"], inplace=True)\n",
        "df.head()"
      ],
      "execution_count": null,
      "outputs": [
        {
          "output_type": "execute_result",
          "data": {
            "text/html": [
              "<div>\n",
              "<style scoped>\n",
              "    .dataframe tbody tr th:only-of-type {\n",
              "        vertical-align: middle;\n",
              "    }\n",
              "\n",
              "    .dataframe tbody tr th {\n",
              "        vertical-align: top;\n",
              "    }\n",
              "\n",
              "    .dataframe thead th {\n",
              "        text-align: right;\n",
              "    }\n",
              "</style>\n",
              "<table border=\"1\" class=\"dataframe\">\n",
              "  <thead>\n",
              "    <tr style=\"text-align: right;\">\n",
              "      <th></th>\n",
              "      <th>text</th>\n",
              "      <th>label</th>\n",
              "    </tr>\n",
              "  </thead>\n",
              "  <tbody>\n",
              "    <tr>\n",
              "      <th>0</th>\n",
              "      <td>in my opinion , a movie reviewer's most import...</td>\n",
              "      <td>0</td>\n",
              "    </tr>\n",
              "    <tr>\n",
              "      <th>1</th>\n",
              "      <td>you can watch this movie , that is based on a ...</td>\n",
              "      <td>0</td>\n",
              "    </tr>\n",
              "    <tr>\n",
              "      <th>2</th>\n",
              "      <td>this is asking a lot to believe , and though i...</td>\n",
              "      <td>0</td>\n",
              "    </tr>\n",
              "    <tr>\n",
              "      <th>3</th>\n",
              "      <td>no heroes and no story are the main attributes...</td>\n",
              "      <td>0</td>\n",
              "    </tr>\n",
              "    <tr>\n",
              "      <th>4</th>\n",
              "      <td>this is not an art movie , yet i saw it an art...</td>\n",
              "      <td>0</td>\n",
              "    </tr>\n",
              "  </tbody>\n",
              "</table>\n",
              "</div>"
            ],
            "text/plain": [
              "                                                text label\n",
              "0  in my opinion , a movie reviewer's most import...     0\n",
              "1  you can watch this movie , that is based on a ...     0\n",
              "2  this is asking a lot to believe , and though i...     0\n",
              "3  no heroes and no story are the main attributes...     0\n",
              "4  this is not an art movie , yet i saw it an art...     0"
            ]
          },
          "metadata": {},
          "execution_count": 11
        }
      ]
    },
    {
      "cell_type": "code",
      "metadata": {
        "colab": {
          "base_uri": "https://localhost:8080/"
        },
        "id": "calXHZK5V6Sn",
        "outputId": "a075b5f3-5e2a-4b1d-d851-cf4b40962602"
      },
      "source": [
        "df.shape"
      ],
      "execution_count": null,
      "outputs": [
        {
          "output_type": "execute_result",
          "data": {
            "text/plain": [
              "(5006, 2)"
            ]
          },
          "metadata": {},
          "execution_count": 12
        }
      ]
    },
    {
      "cell_type": "code",
      "metadata": {
        "colab": {
          "base_uri": "https://localhost:8080/"
        },
        "id": "JECWDAP0uwsm",
        "outputId": "b1e31925-1cab-4bf7-a286-16c0022e7775"
      },
      "source": [
        "df['label'].value_counts()"
      ],
      "execution_count": null,
      "outputs": [
        {
          "output_type": "execute_result",
          "data": {
            "text/plain": [
              "1    1915\n",
              "2    1894\n",
              "0    1197\n",
              "Name: label, dtype: int64"
            ]
          },
          "metadata": {},
          "execution_count": 13
        }
      ]
    },
    {
      "cell_type": "code",
      "metadata": {
        "colab": {
          "base_uri": "https://localhost:8080/"
        },
        "id": "ZUa6Qng2VdX5",
        "outputId": "48d271a7-53c1-4945-b445-05e1dabdfcb6"
      },
      "source": [
        "def clean_text(text,stop_words=True):\n",
        "    cleaned_text = text.lower()\n",
        "    cleaned_text = \"\".join(c for c in cleaned_text if c not in punctuations)\n",
        "    words = cleaned_text.split()\n",
        "    if stop_words==True:\n",
        "      words = [w for w in words if w not in stopword_list]\n",
        "    words = [lem.lemmatize(word, \"v\") for word in words]\n",
        "    words = [lem.lemmatize(word, \"n\") for word in words]\n",
        "    cleaned_text = \" \".join(words)\n",
        "    return cleaned_text\n",
        "from nltk import FreqDist\n",
        "df['text'] = df['text'].apply(clean_text)\n",
        "words = [word for i in df['text'] for word in i.split()]\n",
        "print(len(words))\n",
        "fdist = FreqDist(words)"
      ],
      "execution_count": null,
      "outputs": [
        {
          "output_type": "stream",
          "name": "stdout",
          "text": [
            "1023957\n"
          ]
        }
      ]
    },
    {
      "cell_type": "markdown",
      "metadata": {
        "id": "Ik6xdPQxi2fK"
      },
      "source": [
        "splitting the Data into Training and Testing Set 80:20"
      ]
    },
    {
      "cell_type": "markdown",
      "metadata": {
        "id": "GZ3150xbqvst"
      },
      "source": [
        "3. Split the data into training and test datasets (80/20 ratio). Are the labels balanced between training and testing datasets?\n",
        "4. You can vectorize the documents using a vectorizer of your choice. CountVectorizer is the simplest one that can be used. Set the feature values to binary so that only presence or absence matters.\n",
        "IMPORTANT: Always look for random_state option and set it to a fixed number of your choice."
      ]
    },
    {
      "cell_type": "code",
      "metadata": {
        "colab": {
          "base_uri": "https://localhost:8080/"
        },
        "id": "qYAwLwTnri2U",
        "outputId": "e161f1b8-f799-4ab4-ef9e-ed47173dbb56"
      },
      "source": [
        "def get_feature_list(x,y,pca=0):\n",
        "  tfidf_transformer1 = TfidfVectorizer()\n",
        "  x1= tfidf_transformer1.fit_transform(x)\n",
        "  feature_array = np.array(tfidf_transformer1.get_feature_names())\n",
        "  x1 = x1.toarray()\n",
        "  if pca !=0:\n",
        "    pcas = PCA(pca).fit(x1)\n",
        "    x1 = pcas.transform(x1)\n",
        "  train_x,test_x,train_y,test_y = train_test_split(x1,y, random_state = 56,test_size=0.2,stratify=y)\n",
        "  return train_x,test_x,train_y,test_y,feature_array\n",
        "x=df['text']\n",
        "y=df['label']\n",
        "train_x,test_x,train_y,test_y,feature_array = get_feature_list(x,y,pca=500)\n",
        "train_x.shape,test_x.shape,train_y.shape,test_y.shape"
      ],
      "execution_count": null,
      "outputs": [
        {
          "output_type": "execute_result",
          "data": {
            "text/plain": [
              "((4004, 500), (1002, 500), (4004,), (1002,))"
            ]
          },
          "metadata": {},
          "execution_count": 15
        }
      ]
    },
    {
      "cell_type": "code",
      "metadata": {
        "colab": {
          "base_uri": "https://localhost:8080/"
        },
        "id": "SrU9Kfh0sFDK",
        "outputId": "8b1dbd94-a1da-49b7-c3e9-27ef667bc9d8"
      },
      "source": [
        "def get_tfidf_top_features(corpus,n_top=10):\n",
        "  tfidf_vectorizer = TfidfVectorizer(max_df=0.95, min_df=2, max_features=10000, stop_words='english')\n",
        "  tfidf = tfidf_vectorizer.fit_transform(corpus)\n",
        "  importance_values = np.argsort(np.asarray(tfidf.sum(axis=0)).ravel())[::-1]\n",
        "  tfidf_feature_names = np.array(tfidf_vectorizer.get_feature_names())\n",
        "  values = [np.mean(i) for i in tfidf.toarray()[::-1]]\n",
        "  top_features = tfidf_feature_names[importance_values[:n_top]]\n",
        "  return top_features,importance_values,values\n",
        "\n",
        "a,importance,k=get_tfidf_top_features(x,n_top=10)\n",
        "sorted(dict(zip(a, k)).items(), key=lambda x: x[1],reverse=True) "
      ],
      "execution_count": null,
      "outputs": [
        {
          "output_type": "execute_result",
          "data": {
            "text/plain": [
              "[('time', 0.0013958759327078855),\n",
              " ('like', 0.001368472930319365),\n",
              " ('story', 0.001349943361457418),\n",
              " ('movie', 0.0012478725760368483),\n",
              " ('make', 0.0012267969047380436),\n",
              " ('film', 0.0012102276737803088),\n",
              " ('picture', 0.0011048185656527634),\n",
              " ('character', 0.001064756597328637),\n",
              " ('look', 0.001051944253969306),\n",
              " ('scene', 0.0009353823637876073)]"
            ]
          },
          "metadata": {},
          "execution_count": 17
        }
      ]
    },
    {
      "cell_type": "code",
      "metadata": {
        "colab": {
          "base_uri": "https://localhost:8080/",
          "height": 253
        },
        "id": "1k88wXW33qj8",
        "outputId": "ca59b6ac-1704-4aff-fede-3a340f187bc5"
      },
      "source": [
        "df5 = pd.DataFrame(test_x)\n",
        "y1=[i for i in  test_y]\n",
        "df5['labels'] = y1\n",
        "df5.head()"
      ],
      "execution_count": null,
      "outputs": [
        {
          "output_type": "execute_result",
          "data": {
            "text/html": [
              "<div>\n",
              "<style scoped>\n",
              "    .dataframe tbody tr th:only-of-type {\n",
              "        vertical-align: middle;\n",
              "    }\n",
              "\n",
              "    .dataframe tbody tr th {\n",
              "        vertical-align: top;\n",
              "    }\n",
              "\n",
              "    .dataframe thead th {\n",
              "        text-align: right;\n",
              "    }\n",
              "</style>\n",
              "<table border=\"1\" class=\"dataframe\">\n",
              "  <thead>\n",
              "    <tr style=\"text-align: right;\">\n",
              "      <th></th>\n",
              "      <th>0</th>\n",
              "      <th>1</th>\n",
              "      <th>2</th>\n",
              "      <th>3</th>\n",
              "      <th>4</th>\n",
              "      <th>5</th>\n",
              "      <th>6</th>\n",
              "      <th>7</th>\n",
              "      <th>8</th>\n",
              "      <th>9</th>\n",
              "      <th>10</th>\n",
              "      <th>11</th>\n",
              "      <th>12</th>\n",
              "      <th>13</th>\n",
              "      <th>14</th>\n",
              "      <th>15</th>\n",
              "      <th>16</th>\n",
              "      <th>17</th>\n",
              "      <th>18</th>\n",
              "      <th>19</th>\n",
              "      <th>20</th>\n",
              "      <th>21</th>\n",
              "      <th>22</th>\n",
              "      <th>23</th>\n",
              "      <th>24</th>\n",
              "      <th>25</th>\n",
              "      <th>26</th>\n",
              "      <th>27</th>\n",
              "      <th>28</th>\n",
              "      <th>29</th>\n",
              "      <th>30</th>\n",
              "      <th>31</th>\n",
              "      <th>32</th>\n",
              "      <th>33</th>\n",
              "      <th>34</th>\n",
              "      <th>35</th>\n",
              "      <th>36</th>\n",
              "      <th>37</th>\n",
              "      <th>38</th>\n",
              "      <th>39</th>\n",
              "      <th>...</th>\n",
              "      <th>461</th>\n",
              "      <th>462</th>\n",
              "      <th>463</th>\n",
              "      <th>464</th>\n",
              "      <th>465</th>\n",
              "      <th>466</th>\n",
              "      <th>467</th>\n",
              "      <th>468</th>\n",
              "      <th>469</th>\n",
              "      <th>470</th>\n",
              "      <th>471</th>\n",
              "      <th>472</th>\n",
              "      <th>473</th>\n",
              "      <th>474</th>\n",
              "      <th>475</th>\n",
              "      <th>476</th>\n",
              "      <th>477</th>\n",
              "      <th>478</th>\n",
              "      <th>479</th>\n",
              "      <th>480</th>\n",
              "      <th>481</th>\n",
              "      <th>482</th>\n",
              "      <th>483</th>\n",
              "      <th>484</th>\n",
              "      <th>485</th>\n",
              "      <th>486</th>\n",
              "      <th>487</th>\n",
              "      <th>488</th>\n",
              "      <th>489</th>\n",
              "      <th>490</th>\n",
              "      <th>491</th>\n",
              "      <th>492</th>\n",
              "      <th>493</th>\n",
              "      <th>494</th>\n",
              "      <th>495</th>\n",
              "      <th>496</th>\n",
              "      <th>497</th>\n",
              "      <th>498</th>\n",
              "      <th>499</th>\n",
              "      <th>labels</th>\n",
              "    </tr>\n",
              "  </thead>\n",
              "  <tbody>\n",
              "    <tr>\n",
              "      <th>0</th>\n",
              "      <td>-0.070152</td>\n",
              "      <td>-0.012000</td>\n",
              "      <td>-0.041002</td>\n",
              "      <td>-0.063222</td>\n",
              "      <td>0.011679</td>\n",
              "      <td>-0.004869</td>\n",
              "      <td>0.009553</td>\n",
              "      <td>-0.027905</td>\n",
              "      <td>-0.023459</td>\n",
              "      <td>0.017184</td>\n",
              "      <td>-0.029888</td>\n",
              "      <td>-0.003632</td>\n",
              "      <td>0.024782</td>\n",
              "      <td>-0.018248</td>\n",
              "      <td>0.004503</td>\n",
              "      <td>0.015132</td>\n",
              "      <td>0.000723</td>\n",
              "      <td>-0.017303</td>\n",
              "      <td>-0.003114</td>\n",
              "      <td>-0.009737</td>\n",
              "      <td>-0.008511</td>\n",
              "      <td>-0.018196</td>\n",
              "      <td>-0.000662</td>\n",
              "      <td>0.008071</td>\n",
              "      <td>0.028349</td>\n",
              "      <td>-0.009127</td>\n",
              "      <td>0.006890</td>\n",
              "      <td>-0.000654</td>\n",
              "      <td>0.003110</td>\n",
              "      <td>-0.015611</td>\n",
              "      <td>-0.031532</td>\n",
              "      <td>-0.004220</td>\n",
              "      <td>-0.023477</td>\n",
              "      <td>0.005750</td>\n",
              "      <td>-0.036039</td>\n",
              "      <td>0.006367</td>\n",
              "      <td>-0.031131</td>\n",
              "      <td>-0.003078</td>\n",
              "      <td>0.018275</td>\n",
              "      <td>-0.003175</td>\n",
              "      <td>...</td>\n",
              "      <td>-0.032830</td>\n",
              "      <td>-0.000478</td>\n",
              "      <td>-0.027478</td>\n",
              "      <td>0.012070</td>\n",
              "      <td>-0.001363</td>\n",
              "      <td>-0.021424</td>\n",
              "      <td>-0.008338</td>\n",
              "      <td>-0.003187</td>\n",
              "      <td>-0.042811</td>\n",
              "      <td>0.000672</td>\n",
              "      <td>0.003267</td>\n",
              "      <td>-0.002014</td>\n",
              "      <td>-0.037124</td>\n",
              "      <td>-0.010876</td>\n",
              "      <td>0.038412</td>\n",
              "      <td>0.012319</td>\n",
              "      <td>0.015424</td>\n",
              "      <td>0.002363</td>\n",
              "      <td>-0.008633</td>\n",
              "      <td>-0.033591</td>\n",
              "      <td>0.010554</td>\n",
              "      <td>0.019828</td>\n",
              "      <td>0.010162</td>\n",
              "      <td>-0.001141</td>\n",
              "      <td>0.004599</td>\n",
              "      <td>-0.017098</td>\n",
              "      <td>-0.016407</td>\n",
              "      <td>0.023866</td>\n",
              "      <td>0.019900</td>\n",
              "      <td>0.028654</td>\n",
              "      <td>0.005652</td>\n",
              "      <td>-0.010464</td>\n",
              "      <td>-0.005720</td>\n",
              "      <td>-0.008722</td>\n",
              "      <td>0.030867</td>\n",
              "      <td>-0.019058</td>\n",
              "      <td>0.015263</td>\n",
              "      <td>-0.000082</td>\n",
              "      <td>0.007425</td>\n",
              "      <td>2</td>\n",
              "    </tr>\n",
              "    <tr>\n",
              "      <th>1</th>\n",
              "      <td>-0.031871</td>\n",
              "      <td>-0.009251</td>\n",
              "      <td>-0.065786</td>\n",
              "      <td>0.061873</td>\n",
              "      <td>-0.061906</td>\n",
              "      <td>0.040687</td>\n",
              "      <td>0.041486</td>\n",
              "      <td>0.048684</td>\n",
              "      <td>-0.010866</td>\n",
              "      <td>0.016708</td>\n",
              "      <td>-0.024241</td>\n",
              "      <td>0.044807</td>\n",
              "      <td>0.030070</td>\n",
              "      <td>-0.030045</td>\n",
              "      <td>0.039030</td>\n",
              "      <td>0.022199</td>\n",
              "      <td>0.002693</td>\n",
              "      <td>-0.011249</td>\n",
              "      <td>-0.021912</td>\n",
              "      <td>0.028854</td>\n",
              "      <td>-0.017027</td>\n",
              "      <td>0.015701</td>\n",
              "      <td>0.004027</td>\n",
              "      <td>-0.000357</td>\n",
              "      <td>-0.045464</td>\n",
              "      <td>0.010590</td>\n",
              "      <td>0.008359</td>\n",
              "      <td>0.014543</td>\n",
              "      <td>-0.003130</td>\n",
              "      <td>-0.005380</td>\n",
              "      <td>0.024462</td>\n",
              "      <td>0.005425</td>\n",
              "      <td>-0.022407</td>\n",
              "      <td>-0.009092</td>\n",
              "      <td>0.006210</td>\n",
              "      <td>0.018399</td>\n",
              "      <td>0.004516</td>\n",
              "      <td>-0.016217</td>\n",
              "      <td>-0.028701</td>\n",
              "      <td>-0.012109</td>\n",
              "      <td>...</td>\n",
              "      <td>-0.005795</td>\n",
              "      <td>0.018966</td>\n",
              "      <td>0.014852</td>\n",
              "      <td>0.004877</td>\n",
              "      <td>-0.003701</td>\n",
              "      <td>0.013409</td>\n",
              "      <td>-0.000399</td>\n",
              "      <td>-0.002444</td>\n",
              "      <td>0.040605</td>\n",
              "      <td>-0.018856</td>\n",
              "      <td>0.024782</td>\n",
              "      <td>-0.008923</td>\n",
              "      <td>-0.008508</td>\n",
              "      <td>0.015877</td>\n",
              "      <td>-0.016044</td>\n",
              "      <td>-0.003777</td>\n",
              "      <td>-0.005276</td>\n",
              "      <td>-0.010955</td>\n",
              "      <td>-0.004919</td>\n",
              "      <td>0.004237</td>\n",
              "      <td>0.011577</td>\n",
              "      <td>-0.004419</td>\n",
              "      <td>0.007379</td>\n",
              "      <td>-0.040335</td>\n",
              "      <td>-0.000461</td>\n",
              "      <td>-0.002960</td>\n",
              "      <td>-0.021753</td>\n",
              "      <td>0.016953</td>\n",
              "      <td>-0.013592</td>\n",
              "      <td>-0.030125</td>\n",
              "      <td>0.016970</td>\n",
              "      <td>0.001697</td>\n",
              "      <td>-0.002721</td>\n",
              "      <td>0.024026</td>\n",
              "      <td>-0.011281</td>\n",
              "      <td>0.018752</td>\n",
              "      <td>0.022309</td>\n",
              "      <td>-0.016884</td>\n",
              "      <td>0.001916</td>\n",
              "      <td>1</td>\n",
              "    </tr>\n",
              "    <tr>\n",
              "      <th>2</th>\n",
              "      <td>-0.073061</td>\n",
              "      <td>0.045518</td>\n",
              "      <td>0.008600</td>\n",
              "      <td>-0.028972</td>\n",
              "      <td>0.053429</td>\n",
              "      <td>0.003130</td>\n",
              "      <td>-0.064403</td>\n",
              "      <td>-0.041918</td>\n",
              "      <td>-0.033261</td>\n",
              "      <td>-0.053738</td>\n",
              "      <td>-0.018170</td>\n",
              "      <td>0.005680</td>\n",
              "      <td>-0.035300</td>\n",
              "      <td>0.026764</td>\n",
              "      <td>0.016938</td>\n",
              "      <td>0.003041</td>\n",
              "      <td>0.036471</td>\n",
              "      <td>-0.001173</td>\n",
              "      <td>-0.022253</td>\n",
              "      <td>0.070184</td>\n",
              "      <td>0.035621</td>\n",
              "      <td>0.027253</td>\n",
              "      <td>-0.020790</td>\n",
              "      <td>0.011245</td>\n",
              "      <td>-0.000651</td>\n",
              "      <td>0.016737</td>\n",
              "      <td>-0.010782</td>\n",
              "      <td>0.008889</td>\n",
              "      <td>0.001106</td>\n",
              "      <td>0.005948</td>\n",
              "      <td>-0.038898</td>\n",
              "      <td>0.003012</td>\n",
              "      <td>0.000700</td>\n",
              "      <td>0.013578</td>\n",
              "      <td>-0.038669</td>\n",
              "      <td>0.036994</td>\n",
              "      <td>0.013962</td>\n",
              "      <td>-0.011855</td>\n",
              "      <td>-0.009697</td>\n",
              "      <td>-0.003139</td>\n",
              "      <td>...</td>\n",
              "      <td>-0.005425</td>\n",
              "      <td>-0.047201</td>\n",
              "      <td>-0.019465</td>\n",
              "      <td>0.012820</td>\n",
              "      <td>0.025052</td>\n",
              "      <td>-0.026273</td>\n",
              "      <td>0.014689</td>\n",
              "      <td>0.000268</td>\n",
              "      <td>-0.023919</td>\n",
              "      <td>0.018594</td>\n",
              "      <td>0.000115</td>\n",
              "      <td>-0.009755</td>\n",
              "      <td>-0.021771</td>\n",
              "      <td>-0.020467</td>\n",
              "      <td>-0.035581</td>\n",
              "      <td>-0.021224</td>\n",
              "      <td>0.010154</td>\n",
              "      <td>-0.040035</td>\n",
              "      <td>-0.022989</td>\n",
              "      <td>0.008266</td>\n",
              "      <td>0.011809</td>\n",
              "      <td>0.053831</td>\n",
              "      <td>0.025075</td>\n",
              "      <td>0.006251</td>\n",
              "      <td>0.009365</td>\n",
              "      <td>-0.016055</td>\n",
              "      <td>-0.030003</td>\n",
              "      <td>0.003417</td>\n",
              "      <td>0.044974</td>\n",
              "      <td>0.047637</td>\n",
              "      <td>0.017087</td>\n",
              "      <td>-0.014612</td>\n",
              "      <td>0.001184</td>\n",
              "      <td>-0.036855</td>\n",
              "      <td>-0.005689</td>\n",
              "      <td>-0.022400</td>\n",
              "      <td>0.000693</td>\n",
              "      <td>-0.016413</td>\n",
              "      <td>0.006015</td>\n",
              "      <td>0</td>\n",
              "    </tr>\n",
              "    <tr>\n",
              "      <th>3</th>\n",
              "      <td>0.022710</td>\n",
              "      <td>0.012085</td>\n",
              "      <td>-0.057017</td>\n",
              "      <td>0.073921</td>\n",
              "      <td>-0.091811</td>\n",
              "      <td>0.082891</td>\n",
              "      <td>0.088594</td>\n",
              "      <td>0.001855</td>\n",
              "      <td>-0.022508</td>\n",
              "      <td>-0.000379</td>\n",
              "      <td>-0.029960</td>\n",
              "      <td>-0.051424</td>\n",
              "      <td>0.066030</td>\n",
              "      <td>-0.039878</td>\n",
              "      <td>0.019459</td>\n",
              "      <td>0.007016</td>\n",
              "      <td>-0.020436</td>\n",
              "      <td>-0.019973</td>\n",
              "      <td>-0.007014</td>\n",
              "      <td>0.012148</td>\n",
              "      <td>-0.053176</td>\n",
              "      <td>-0.030975</td>\n",
              "      <td>0.034632</td>\n",
              "      <td>0.004644</td>\n",
              "      <td>-0.026536</td>\n",
              "      <td>-0.000261</td>\n",
              "      <td>-0.022850</td>\n",
              "      <td>0.042178</td>\n",
              "      <td>-0.003845</td>\n",
              "      <td>-0.026072</td>\n",
              "      <td>-0.007871</td>\n",
              "      <td>-0.024164</td>\n",
              "      <td>0.010509</td>\n",
              "      <td>-0.002405</td>\n",
              "      <td>-0.005289</td>\n",
              "      <td>0.076876</td>\n",
              "      <td>0.046842</td>\n",
              "      <td>-0.056034</td>\n",
              "      <td>-0.035293</td>\n",
              "      <td>-0.070520</td>\n",
              "      <td>...</td>\n",
              "      <td>-0.002031</td>\n",
              "      <td>-0.015586</td>\n",
              "      <td>-0.035727</td>\n",
              "      <td>-0.035079</td>\n",
              "      <td>-0.015282</td>\n",
              "      <td>-0.015251</td>\n",
              "      <td>0.023529</td>\n",
              "      <td>0.035837</td>\n",
              "      <td>0.001088</td>\n",
              "      <td>-0.021807</td>\n",
              "      <td>0.010332</td>\n",
              "      <td>0.012466</td>\n",
              "      <td>-0.016825</td>\n",
              "      <td>0.011283</td>\n",
              "      <td>-0.029107</td>\n",
              "      <td>0.019862</td>\n",
              "      <td>0.009789</td>\n",
              "      <td>-0.021428</td>\n",
              "      <td>0.020036</td>\n",
              "      <td>-0.020521</td>\n",
              "      <td>-0.016037</td>\n",
              "      <td>0.009628</td>\n",
              "      <td>-0.004411</td>\n",
              "      <td>0.015666</td>\n",
              "      <td>-0.011463</td>\n",
              "      <td>0.010861</td>\n",
              "      <td>0.009263</td>\n",
              "      <td>0.027747</td>\n",
              "      <td>0.026588</td>\n",
              "      <td>-0.023450</td>\n",
              "      <td>-0.006155</td>\n",
              "      <td>-0.045496</td>\n",
              "      <td>0.007689</td>\n",
              "      <td>0.001118</td>\n",
              "      <td>0.008642</td>\n",
              "      <td>0.002167</td>\n",
              "      <td>-0.006367</td>\n",
              "      <td>0.004545</td>\n",
              "      <td>-0.002700</td>\n",
              "      <td>1</td>\n",
              "    </tr>\n",
              "    <tr>\n",
              "      <th>4</th>\n",
              "      <td>0.045642</td>\n",
              "      <td>-0.034023</td>\n",
              "      <td>0.038108</td>\n",
              "      <td>-0.002828</td>\n",
              "      <td>-0.063109</td>\n",
              "      <td>0.039769</td>\n",
              "      <td>0.004979</td>\n",
              "      <td>0.049969</td>\n",
              "      <td>-0.003518</td>\n",
              "      <td>0.058817</td>\n",
              "      <td>-0.038703</td>\n",
              "      <td>-0.076162</td>\n",
              "      <td>0.062855</td>\n",
              "      <td>0.049717</td>\n",
              "      <td>-0.073437</td>\n",
              "      <td>-0.011102</td>\n",
              "      <td>-0.004255</td>\n",
              "      <td>-0.024808</td>\n",
              "      <td>0.019987</td>\n",
              "      <td>0.033913</td>\n",
              "      <td>0.051731</td>\n",
              "      <td>0.015560</td>\n",
              "      <td>-0.090412</td>\n",
              "      <td>-0.009813</td>\n",
              "      <td>0.032385</td>\n",
              "      <td>-0.005832</td>\n",
              "      <td>0.005749</td>\n",
              "      <td>0.029404</td>\n",
              "      <td>0.021425</td>\n",
              "      <td>0.021619</td>\n",
              "      <td>0.101922</td>\n",
              "      <td>0.003199</td>\n",
              "      <td>-0.017022</td>\n",
              "      <td>0.001084</td>\n",
              "      <td>-0.043769</td>\n",
              "      <td>-0.000913</td>\n",
              "      <td>0.043812</td>\n",
              "      <td>-0.020607</td>\n",
              "      <td>-0.021782</td>\n",
              "      <td>-0.000805</td>\n",
              "      <td>...</td>\n",
              "      <td>0.003176</td>\n",
              "      <td>0.010272</td>\n",
              "      <td>-0.001548</td>\n",
              "      <td>-0.002164</td>\n",
              "      <td>-0.028521</td>\n",
              "      <td>-0.008196</td>\n",
              "      <td>-0.004188</td>\n",
              "      <td>-0.021109</td>\n",
              "      <td>0.013744</td>\n",
              "      <td>-0.000770</td>\n",
              "      <td>-0.014964</td>\n",
              "      <td>-0.028782</td>\n",
              "      <td>-0.007354</td>\n",
              "      <td>0.014429</td>\n",
              "      <td>0.016363</td>\n",
              "      <td>-0.019593</td>\n",
              "      <td>0.016842</td>\n",
              "      <td>-0.003240</td>\n",
              "      <td>0.009400</td>\n",
              "      <td>-0.008221</td>\n",
              "      <td>-0.046026</td>\n",
              "      <td>-0.031594</td>\n",
              "      <td>0.014892</td>\n",
              "      <td>-0.004070</td>\n",
              "      <td>-0.029663</td>\n",
              "      <td>0.012067</td>\n",
              "      <td>-0.020141</td>\n",
              "      <td>-0.006840</td>\n",
              "      <td>0.026652</td>\n",
              "      <td>0.013273</td>\n",
              "      <td>-0.000940</td>\n",
              "      <td>-0.017149</td>\n",
              "      <td>0.035790</td>\n",
              "      <td>-0.043366</td>\n",
              "      <td>-0.018417</td>\n",
              "      <td>0.004100</td>\n",
              "      <td>-0.002911</td>\n",
              "      <td>-0.010758</td>\n",
              "      <td>0.003467</td>\n",
              "      <td>2</td>\n",
              "    </tr>\n",
              "  </tbody>\n",
              "</table>\n",
              "<p>5 rows × 501 columns</p>\n",
              "</div>"
            ],
            "text/plain": [
              "          0         1         2         3  ...       497       498       499  labels\n",
              "0 -0.070152 -0.012000 -0.041002 -0.063222  ...  0.015263 -0.000082  0.007425       2\n",
              "1 -0.031871 -0.009251 -0.065786  0.061873  ...  0.022309 -0.016884  0.001916       1\n",
              "2 -0.073061  0.045518  0.008600 -0.028972  ...  0.000693 -0.016413  0.006015       0\n",
              "3  0.022710  0.012085 -0.057017  0.073921  ... -0.006367  0.004545 -0.002700       1\n",
              "4  0.045642 -0.034023  0.038108 -0.002828  ... -0.002911 -0.010758  0.003467       2\n",
              "\n",
              "[5 rows x 501 columns]"
            ]
          },
          "metadata": {},
          "execution_count": 18
        }
      ]
    },
    {
      "cell_type": "markdown",
      "metadata": {
        "id": "N7UwxIKkKaBO"
      },
      "source": [
        "5. Now answer the following questions for the model classification:\n",
        "What is the performance of the trained classifier on the test dataset?\n",
        "Which regularization is performing the best on the test dataset: L1 or L2? Use the default settings.\n",
        "We will use cross-validation to get the best value of the α parameter for regularization. What is the value of the α? Is regularization important? You can use 5-fold cross validation. Note that the cross-validation should be used ONLY on the training dataset. You can read more here: https://scikit-learn.org/stable/modules/grid_search.html# (Links to an external site.)\n",
        "What kind of multi-class strategy does SGDClassifier use?\n",
        "In any regularization: which features are ranked the highest? You can sort the feature weights.\n",
        "How does the hyperplane of the classifier look like? \n",
        "Choose a different loss function. The default option is \"hinge\". Now train and test the different classifier to compare against the default one. Is it better or worse?"
      ]
    },
    {
      "cell_type": "markdown",
      "metadata": {
        "id": "j0fU4B0vurRw"
      },
      "source": [
        "**SGD with Loss**"
      ]
    },
    {
      "cell_type": "code",
      "metadata": {
        "colab": {
          "base_uri": "https://localhost:8080/"
        },
        "id": "zQgBeFJYJoPa",
        "outputId": "4e0cff56-a574-43ca-980b-e824c79ac130"
      },
      "source": [
        "def confuson_matrices(y, yp):\n",
        "  #k = sorted(y.unique())\n",
        "  k = sorted(list(set(y)))\n",
        "  df = pd.DataFrame(index=k, columns=k)\n",
        "  df.fillna(0, inplace=True)\n",
        "  for i, j in zip(y, yp):\n",
        "    df.loc[i, j] += 1\n",
        "  sns.heatmap(df, annot=True)\n",
        "  plt.plot()\n",
        "X_train,y_train,X_test,y_test=train_x,train_y,test_x,test_y\n",
        "sgd = SGDClassifier(eta0=0.0001, alpha=0.01, loss='log',random_state=15, penalty='elasticnet', tol=1e-3,learning_rate='optimal')\n",
        "sgd.fit(X_train, y_train)\n",
        "print(f'train accuracy: {sgd.score(X_train, y_train)}')\n",
        "accuracy = accuracy_score(y_test, sgd.predict(X_test))\n",
        "con_matrx = confusion_matrix(y_test,sgd.predict(X_test))\n",
        "c=np.array([[i] for i in np.append(np.array([[i] for i in sgd.coef_[0]]),[0])])\n",
        "print(\"The accuracy of the model is :\", round(accuracy,3)*100,\"%\")\n",
        "print(\"Confusion Matrix:\\n\",con_matrx)\n",
        "precision, recall, fscore, support = precision_recall_fscore_support(y_test,sgd.predict(X_test), average='weighted')\n",
        "print('Precision = ',round(precision,4),'\\nRecall = ', round(recall,4), '\\nF-Score = ',round(fscore,4))"
      ],
      "execution_count": null,
      "outputs": [
        {
          "output_type": "stream",
          "name": "stdout",
          "text": [
            "train accuracy: 0.514985014985015\n",
            "The accuracy of the model is : 51.1 %\n",
            "Confusion Matrix:\n",
            " [[  0 234   6]\n",
            " [  0 342  41]\n",
            " [  0 209 170]]\n",
            "Precision =  0.4628 \n",
            "Recall =  0.511 \n",
            "F-Score =  0.4396\n"
          ]
        },
        {
          "output_type": "stream",
          "name": "stderr",
          "text": [
            "/usr/local/lib/python3.7/dist-packages/sklearn/metrics/_classification.py:1272: UndefinedMetricWarning: Precision and F-score are ill-defined and being set to 0.0 in labels with no predicted samples. Use `zero_division` parameter to control this behavior.\n",
            "  _warn_prf(average, modifier, msg_start, len(result))\n"
          ]
        }
      ]
    },
    {
      "cell_type": "code",
      "metadata": {
        "colab": {
          "base_uri": "https://localhost:8080/"
        },
        "id": "iU8jNd20nvPM",
        "outputId": "8878b642-daff-41f5-b240-5b7afee6a328"
      },
      "source": [
        "\n",
        "parameter_grid = {'alpha' : [0.0001,0.001,0.01,0.1,1,10],'penalty':['l2','elasticnet'],'learning_rate':['optimal','adaptive','invscaling','constant']}\n",
        "gridsearch = GridSearchCV(estimator=sgd, param_grid=parameter_grid, scoring='accuracy', cv=5)\n",
        "gridsearch.fit(X_train,y_train)\n",
        "gm = gridsearch.best_estimator_\n",
        "print('Best Parameters: ', gridsearch.best_params_)\n",
        "gm.fit(X_train,y_train)\n",
        "gm.score(X_test,y_test)"
      ],
      "execution_count": null,
      "outputs": [
        {
          "output_type": "stream",
          "name": "stdout",
          "text": [
            "Best Parameters:  {'alpha': 0.0001, 'learning_rate': 'optimal', 'penalty': 'elasticnet'}\n"
          ]
        },
        {
          "output_type": "execute_result",
          "data": {
            "text/plain": [
              "0.6666666666666666"
            ]
          },
          "metadata": {},
          "execution_count": 24
        }
      ]
    },
    {
      "cell_type": "code",
      "metadata": {
        "id": "MLxJpNLmgxj0",
        "colab": {
          "base_uri": "https://localhost:8080/"
        },
        "outputId": "be80d2c6-f016-4319-ba25-58728f934ae8"
      },
      "source": [
        "parameter_grid = {'alpha' : [0.0001,0.001,0.01,0.1,1,10],'penalty':['l2','elasticnet']}\n",
        "gridsearch = GridSearchCV(estimator=sgd, param_grid=parameter_grid, scoring='accuracy', cv=5)\n",
        "gridsearch.fit(X_train,y_train)\n",
        "gse = gridsearch.best_estimator_\n",
        "print('Best Parameters: ', gridsearch.best_params_)\n",
        "gse.fit(X_train,y_train)\n",
        "gse.score(X_test,y_test)"
      ],
      "execution_count": null,
      "outputs": [
        {
          "output_type": "stream",
          "name": "stdout",
          "text": [
            "Best Parameters:  {'alpha': 0.0001, 'penalty': 'l2'}\n"
          ]
        },
        {
          "output_type": "execute_result",
          "data": {
            "text/plain": [
              "0.38223552894211577"
            ]
          },
          "metadata": {},
          "execution_count": 20
        }
      ]
    },
    {
      "cell_type": "code",
      "metadata": {
        "colab": {
          "base_uri": "https://localhost:8080/",
          "height": 472
        },
        "id": "sX8xU3DI0Tb5",
        "outputId": "dd49675b-0488-43d2-abb3-354f7634f93c"
      },
      "source": [
        "sgd1 = SGDClassifier(eta0=0.0001, alpha=0.0001, loss='log',random_state=15, penalty='elasticnet', tol=1e-3,learning_rate='optimal')\n",
        "sgd1.fit(X_train, y_train)\n",
        "print(f'train accuracy: {sgd1.score(X_train, y_train)}')\n",
        "accuracy = accuracy_score(y_test, sgd1.predict(X_test))\n",
        "con_matrx = confusion_matrix(y_test,sgd1.predict(X_test))\n",
        "c=np.array([[i] for i in np.append(np.array([[i] for i in sgd1.coef_[0]]),[0])])\n",
        "print(\"The accuracy of the model is :\", round(accuracy,3)*100,\"%\")\n",
        "print(\"Confusion Matrix:\\n\",con_matrx)\n",
        "precision, recall, fscore, support = precision_recall_fscore_support(y_test,sgd1.predict(X_test), average='weighted')\n",
        "print('Precision = ',round(precision,4),'\\nRecall = ', round(recall,4), '\\nF-Score = ',round(fscore,4))\n",
        "confuson_matrices(y_test, sgd1.predict(X_test))"
      ],
      "execution_count": null,
      "outputs": [
        {
          "output_type": "stream",
          "name": "stdout",
          "text": [
            "train accuracy: 0.4157029823493609\n",
            "The accuracy of the model is : 41.6 %\n",
            "Confusion Matrix:\n",
            " [[  0 287   0]\n",
            " [  0 342   0]\n",
            " [  0 193   0]]\n",
            "Precision =  0.1731 \n",
            "Recall =  0.4161 \n",
            "F-Score =  0.2445\n"
          ]
        },
        {
          "output_type": "stream",
          "name": "stderr",
          "text": [
            "/usr/local/lib/python3.7/dist-packages/sklearn/metrics/_classification.py:1272: UndefinedMetricWarning: Precision and F-score are ill-defined and being set to 0.0 in labels with no predicted samples. Use `zero_division` parameter to control this behavior.\n",
            "  _warn_prf(average, modifier, msg_start, len(result))\n"
          ]
        },
        {
          "output_type": "display_data",
          "data": {
            "image/png": "[encoded data removed]",
            "text/plain": [
              "<Figure size 432x288 with 2 Axes>"
            ]
          },
          "metadata": {
            "needs_background": "light"
          }
        }
      ]
    },
    {
      "cell_type": "markdown",
      "metadata": {
        "id": "KCNgUhaguwYi"
      },
      "source": [
        "**SGD with Hinge**"
      ]
    },
    {
      "cell_type": "code",
      "metadata": {
        "colab": {
          "base_uri": "https://localhost:8080/"
        },
        "id": "sD8w3TeLqiEz",
        "outputId": "1f4169ae-bf95-4e2f-9331-d34df00ed522"
      },
      "source": [
        "sgd = SGDClassifier(eta0=0.0001, alpha=0.0001, loss='hinge',random_state=15, penalty='l2', tol=1e-3,learning_rate='constant')\n",
        "sgd.fit(X_train, y_train)\n",
        "print(f'train accuracy: {sgd.score(X_train, y_train)}')\n",
        "accuracy = accuracy_score(y_test, sgd.predict(X_test))\n",
        "con_matrx = confusion_matrix(y_test,sgd.predict(X_test))\n",
        "c=np.array([[i] for i in np.append(np.array([[i] for i in sgd.coef_[0]]),[0])])\n",
        "print(\"The accuracy of the model is :\", round(accuracy,3)*100,\"%\")\n",
        "print(\"Confusion Matrix:\\n\",con_matrx)\n",
        "precision, recall, fscore, support = precision_recall_fscore_support(y_test,sgd.predict(X_test), average='weighted')\n",
        "print('Precision = ',round(precision,4),'\\nRecall = ', round(recall,4), '\\nF-Score = ',round(fscore,4))"
      ],
      "execution_count": null,
      "outputs": [
        {
          "output_type": "stream",
          "name": "stdout",
          "text": [
            "train accuracy: 0.82288496652465\n",
            "The accuracy of the model is : 78.8 %\n",
            "Confusion Matrix:\n",
            " [[258  27   2]\n",
            " [ 45 290   7]\n",
            " [  8  85 100]]\n",
            "Precision =  0.8052 \n",
            "Recall =  0.7883 \n",
            "F-Score =  0.7811\n"
          ]
        }
      ]
    },
    {
      "cell_type": "code",
      "metadata": {
        "colab": {
          "base_uri": "https://localhost:8080/"
        },
        "id": "ypdS7bUOqmy2",
        "outputId": "d5464d91-15a8-4a88-b3c9-93ec7cf85856"
      },
      "source": [
        "parameter_grid = {'alpha' : [0.0001,0.001,0.01,0.1,1,10],'penalty':['l2','elasticnet']}\n",
        "gridsearch = GridSearchCV(estimator=sgd, param_grid=parameter_grid, scoring='accuracy', cv=5)\n",
        "gridsearch.fit(X_train,y_train)\n",
        "gse = gridsearch.best_estimator_\n",
        "print('Best Parameters: ', gridsearch.best_params_)\n",
        "gse.fit(X_train,y_train)\n",
        "gse.score(X_test,y_test)"
      ],
      "execution_count": null,
      "outputs": [
        {
          "output_type": "stream",
          "name": "stdout",
          "text": [
            "Best Parameters:  {'alpha': 1, 'penalty': 'l2'}\n"
          ]
        },
        {
          "output_type": "execute_result",
          "data": {
            "text/plain": [
              "0.8126520681265207"
            ]
          },
          "metadata": {},
          "execution_count": 18
        }
      ]
    },
    {
      "cell_type": "code",
      "metadata": {
        "colab": {
          "base_uri": "https://localhost:8080/",
          "height": 418
        },
        "id": "iDa2tbxBqm9E",
        "outputId": "68e6b6eb-ca71-449b-9e2f-08ce40c9537c"
      },
      "source": [
        "sgdh = SGDClassifier(eta0=0.0001, alpha=1, loss='hinge',random_state=15, penalty='l2', tol=1e-3,learning_rate='constant')\n",
        "sgdh.fit(X_train, y_train)\n",
        "print(f'train accuracy: {sgdh.score(X_train, y_train)}')\n",
        "accuracy = accuracy_score(y_test, sgdh.predict(X_test))\n",
        "con_matrx = confusion_matrix(y_test,sgdh.predict(X_test))\n",
        "c=np.array([[i] for i in np.append(np.array([[i] for i in sgdh.coef_[0]]),[0])])\n",
        "print(\"The accuracy of the model is :\", round(accuracy,3)*100,\"%\")\n",
        "print(\"Confusion Matrix:\\n\",con_matrx)\n",
        "precision, recall, fscore, support = precision_recall_fscore_support(y_test,sgdh.predict(X_test), average='weighted')\n",
        "print('Precision = ',round(precision,4),'\\nRecall = ', round(recall,4), '\\nF-Score = ',round(fscore,4))\n",
        "confuson_matrices(y_test, sgdh.predict(X_test))"
      ],
      "execution_count": null,
      "outputs": [
        {
          "output_type": "stream",
          "name": "stdout",
          "text": [
            "train accuracy: 0.8545343883140597\n",
            "The accuracy of the model is : 81.3 %\n",
            "Confusion Matrix:\n",
            " [[272  13   2]\n",
            " [ 75 254  13]\n",
            " [ 15  36 142]]\n",
            "Precision =  0.8235 \n",
            "Recall =  0.8127 \n",
            "F-Score =  0.8109\n"
          ]
        },
        {
          "output_type": "display_data",
          "data": {
            "image/png": "[encoded data removed]",
            "text/plain": [
              "<Figure size 432x288 with 2 Axes>"
            ]
          },
          "metadata": {
            "needs_background": "light"
          }
        }
      ]
    },
    {
      "cell_type": "markdown",
      "metadata": {
        "id": "2mTiLYznu0hb"
      },
      "source": [
        "**SGD with Perceptron**"
      ]
    },
    {
      "cell_type": "code",
      "metadata": {
        "colab": {
          "base_uri": "https://localhost:8080/"
        },
        "id": "qreKO9tvr_G3",
        "outputId": "38628752-e9d9-4365-c089-425a61528a33"
      },
      "source": [
        "sgd = SGDClassifier(eta0=0.0001, alpha=1, loss='perceptron',random_state=15, penalty='l2', tol=1e-3,learning_rate='constant')\n",
        "sgd.fit(X_train, y_train)\n",
        "print(f'train accuracy: {sgd.score(X_train, y_train)}')\n",
        "accuracy = accuracy_score(y_test, sgd.predict(X_test))\n",
        "con_matrx = confusion_matrix(y_test,sgd.predict(X_test))\n",
        "c=np.array([[i] for i in np.append(np.array([[i] for i in sgd.coef_[0]]),[0])])\n",
        "print(\"The accuracy of the model is :\", round(accuracy,3)*100,\"%\")\n",
        "print(\"Confusion Matrix:\\n\",con_matrx)\n",
        "precision, recall, fscore, support = precision_recall_fscore_support(y_test,sgd.predict(X_test), average='weighted')\n",
        "print('Precision = ',round(precision,4),'\\nRecall = ', round(recall,4), '\\nF-Score = ',round(fscore,4))"
      ],
      "execution_count": null,
      "outputs": [
        {
          "output_type": "stream",
          "name": "stdout",
          "text": [
            "train accuracy: 0.9111381618989653\n",
            "The accuracy of the model is : 85.9 %\n",
            "Confusion Matrix:\n",
            " [[272  15   0]\n",
            " [ 35 302   5]\n",
            " [ 14  47 132]]\n",
            "Precision =  0.8673 \n",
            "Recall =  0.8589 \n",
            "F-Score =  0.8562\n"
          ]
        }
      ]
    },
    {
      "cell_type": "code",
      "metadata": {
        "colab": {
          "base_uri": "https://localhost:8080/"
        },
        "id": "_Al7lkSxsRrf",
        "outputId": "6269fb85-e9da-481e-9cb6-2aba7016278a"
      },
      "source": [
        "parameter_grid = {'alpha' : [0.0001,0.001,0.01,0.1,1,10],'penalty':['l2','elasticnet']}\n",
        "gridsearch = GridSearchCV(estimator=sgd, param_grid=parameter_grid, scoring='accuracy', cv=5)\n",
        "gridsearch.fit(X_train,y_train)\n",
        "gse = gridsearch.best_estimator_\n",
        "print('Best Parameters: ', gridsearch.best_params_)\n",
        "gse.fit(X_train,y_train)\n",
        "gse.score(X_test,y_test)"
      ],
      "execution_count": null,
      "outputs": [
        {
          "output_type": "stream",
          "name": "stdout",
          "text": [
            "Best Parameters:  {'alpha': 0.0001, 'penalty': 'elasticnet'}\n"
          ]
        },
        {
          "output_type": "execute_result",
          "data": {
            "text/plain": [
              "0.9197080291970803"
            ]
          },
          "metadata": {},
          "execution_count": 21
        }
      ]
    },
    {
      "cell_type": "code",
      "metadata": {
        "colab": {
          "base_uri": "https://localhost:8080/",
          "height": 418
        },
        "id": "xnvgYIeQsR2R",
        "outputId": "15fd35a9-85e8-4ff7-c3b3-40b2fff189ca"
      },
      "source": [
        "sgdp = SGDClassifier(eta0=0.0001, alpha=0.0001, loss='perceptron',random_state=15, penalty='elasticnet', tol=1e-3,learning_rate='constant')\n",
        "sgdp.fit(X_train, y_train)\n",
        "print(f'train accuracy: {sgdp.score(X_train, y_train)}')\n",
        "accuracy = accuracy_score(y_test, sgdp.predict(X_test))\n",
        "con_matrx = confusion_matrix(y_test,sgdp.predict(X_test))\n",
        "c=np.array([[i] for i in np.append(np.array([[i] for i in sgdp.coef_[0]]),[0])])\n",
        "print(\"The accuracy of the model is :\", round(accuracy,3)*100,\"%\")\n",
        "print(\"Confusion Matrix:\\n\",con_matrx)\n",
        "precision, recall, fscore, support = precision_recall_fscore_support(y_test,sgdp.predict(X_test), average='weighted')\n",
        "print('Precision = ',round(precision,4),'\\nRecall = ', round(recall,4), '\\nF-Score = ',round(fscore,4))\n",
        "confuson_matrices(y_test, sgdp.predict(X_test))"
      ],
      "execution_count": null,
      "outputs": [
        {
          "output_type": "stream",
          "name": "stdout",
          "text": [
            "train accuracy: 0.9494826536822885\n",
            "The accuracy of the model is : 92.0 %\n",
            "Confusion Matrix:\n",
            " [[281   6   0]\n",
            " [ 11 283  48]\n",
            " [  0   1 192]]\n",
            "Precision =  0.9298 \n",
            "Recall =  0.9197 \n",
            "F-Score =  0.9197\n"
          ]
        },
        {
          "output_type": "display_data",
          "data": {
            "image/png": "[encoded data removed]",
            "text/plain": [
              "<Figure size 432x288 with 2 Axes>"
            ]
          },
          "metadata": {
            "needs_background": "light"
          }
        }
      ]
    },
    {
      "cell_type": "markdown",
      "metadata": {
        "id": "n4EZkZ6E4vPq"
      },
      "source": [
        "**One Step for SGD Params Optimization**"
      ]
    },
    {
      "cell_type": "code",
      "metadata": {
        "colab": {
          "base_uri": "https://localhost:8080/"
        },
        "id": "cvBvaWyC3Fb2",
        "outputId": "b241c06c-b994-47b9-c556-3cced5644e87"
      },
      "source": [
        "parameter_grid = {'alpha' : [0.0001,0.001,0.01,0.1,1,10],'penalty':['l1','l2','elasticnet'],'loss':['log','hinge','modified_huber','perceptron'],\n",
        "                  'learning_rate':['optimal','adaptive','invscaling','constant']}\n",
        "sgda = SGDClassifier(eta0=0.0001,random_state=15, tol=1e-3)\n",
        "gridsearch = GridSearchCV(estimator=sgd, param_grid=parameter_grid, scoring='accuracy', cv=5)\n",
        "gridsearch.fit(X_train,y_train)\n",
        "gse = gridsearch.best_estimator_\n",
        "print('Best Parameters: ', gridsearch.best_params_)\n",
        "gse.fit(X_train,y_train)\n",
        "gse.score(X_test,y_test)"
      ],
      "execution_count": null,
      "outputs": [
        {
          "output_type": "stream",
          "name": "stdout",
          "text": [
            "Best Parameters:  {'alpha': 0.0001, 'learning_rate': 'optimal', 'loss': 'modified_huber', 'penalty': 'l1'}\n"
          ]
        },
        {
          "output_type": "execute_result",
          "data": {
            "text/plain": [
              "0.9914841849148418"
            ]
          },
          "metadata": {},
          "execution_count": 53
        }
      ]
    },
    {
      "cell_type": "markdown",
      "metadata": {
        "id": "b5qFt4squ5Cd"
      },
      "source": [
        "**Support Vector Machine**"
      ]
    },
    {
      "cell_type": "code",
      "metadata": {
        "colab": {
          "base_uri": "https://localhost:8080/",
          "height": 418
        },
        "id": "A5uI2smxypQa",
        "outputId": "2e639e9f-0f55-4bda-a563-4b668128626b"
      },
      "source": [
        "svc = SVC(C=100,kernel='linear')\n",
        "svc.fit(X_train, y_train)\n",
        "print(f'train accuracy: {svc.score(X_train, y_train)}')\n",
        "accuracy = accuracy_score(y_test, svc.predict(X_test))\n",
        "con_matrx = confusion_matrix(y_test,svc.predict(X_test))\n",
        "print(\"The accuracy of the model is :\", round(accuracy,3)*100,\"%\")\n",
        "print(\"Confusion Matrix:\\n\",con_matrx)\n",
        "precision, recall, fscore, support = precision_recall_fscore_support(y_test,svc.predict(X_test), average='weighted')\n",
        "print('Precision = ',round(precision,4),'\\nRecall = ', round(recall,4), '\\nF-Score = ',round(fscore,4))\n",
        "confuson_matrices(y_test, svc.predict(X_test))"
      ],
      "execution_count": null,
      "outputs": [
        {
          "output_type": "stream",
          "name": "stdout",
          "text": [
            "train accuracy: 1.0\n",
            "The accuracy of the model is : 99.5 %\n",
            "Confusion Matrix:\n",
            " [[287   0   0]\n",
            " [  4 338   0]\n",
            " [  0   0 193]]\n",
            "Precision =  0.9952 \n",
            "Recall =  0.9951 \n",
            "F-Score =  0.9951\n"
          ]
        },
        {
          "output_type": "display_data",
          "data": {
            "image/png": "[encoded data removed]",
            "text/plain": [
              "<Figure size 432x288 with 2 Axes>"
            ]
          },
          "metadata": {
            "needs_background": "light"
          }
        }
      ]
    },
    {
      "cell_type": "code",
      "metadata": {
        "colab": {
          "base_uri": "https://localhost:8080/",
          "height": 418
        },
        "id": "anacgXdAtK7E",
        "outputId": "29b00abc-c977-4f11-cb29-37c708db682b"
      },
      "source": [
        "svc = SVC(C=100,kernel='rbf')\n",
        "svc.fit(X_train, y_train)\n",
        "print(f'train accuracy: {svc.score(X_train, y_train)}')\n",
        "accuracy = accuracy_score(y_test, svc.predict(X_test))\n",
        "con_matrx = confusion_matrix(y_test,svc.predict(X_test))\n",
        "print(\"The accuracy of the model is :\", round(accuracy,3)*100,\"%\")\n",
        "print(\"Confusion Matrix:\\n\",con_matrx)\n",
        "precision, recall, fscore, support = precision_recall_fscore_support(y_test,svc.predict(X_test), average='weighted')\n",
        "print('Precision = ',round(precision,4),'\\nRecall = ', round(recall,4), '\\nF-Score = ',round(fscore,4))\n",
        "confuson_matrices(y_test, svc.predict(X_test))"
      ],
      "execution_count": null,
      "outputs": [
        {
          "output_type": "stream",
          "name": "stdout",
          "text": [
            "train accuracy: 1.0\n",
            "The accuracy of the model is : 100.0 %\n",
            "Confusion Matrix:\n",
            " [[287   0   0]\n",
            " [  0 342   0]\n",
            " [  0   0 193]]\n",
            "Precision =  1.0 \n",
            "Recall =  1.0 \n",
            "F-Score =  1.0\n"
          ]
        },
        {
          "output_type": "display_data",
          "data": {
            "image/png": "[encoded data removed]",
            "text/plain": [
              "<Figure size 432x288 with 2 Axes>"
            ]
          },
          "metadata": {
            "needs_background": "light"
          }
        }
      ]
    },
    {
      "cell_type": "markdown",
      "metadata": {
        "id": "nl9UxSrgrvca"
      },
      "source": [
        "**Perceptron Algorithm**"
      ]
    },
    {
      "cell_type": "code",
      "metadata": {
        "colab": {
          "base_uri": "https://localhost:8080/",
          "height": 625
        },
        "id": "iARcWbqIrATd",
        "outputId": "207f4307-a1a8-4ca2-9ae0-9e4f22c95169"
      },
      "source": [
        "train_x,test_x,train_y,test_y,feature_array = get_feature_list(x,y,pca=500)\n",
        "X_test,X_train,y_train,y_test=test_x,train_x,train_y,test_y\n",
        "ANN_clf = MLPClassifier(hidden_layer_sizes=(50,25,2),activation='relu', solver='adam')\n",
        "X_train=train_x\n",
        "X_test=test_x\n",
        "ANN_clf.fit(X_train,train_y)\n",
        "print('Training Accuracy :',ANN_clf.score(X_train,train_y))\n",
        "print('Testing Accuracy :',ANN_clf.score(X_test,test_y))\n",
        "print(classification_report(test_y,ANN_clf.predict(X_test) ))\n",
        "print(confusion_matrix(test_y, ANN_clf.predict(X_test)))\n",
        "precision, recall, fscore, support = precision_recall_fscore_support(test_y, ANN_clf.predict(X_test), average='weighted')\n",
        "print('Precision = ',round(precision,4),'\\nRecall = ', round(recall,4), '\\nF-Score = ',round(fscore,4))\n",
        "confuson_matrices(y_test, ANN_clf.predict(X_test))"
      ],
      "execution_count": null,
      "outputs": [
        {
          "output_type": "stream",
          "name": "stderr",
          "text": [
            "/usr/local/lib/python3.7/dist-packages/sklearn/neural_network/_multilayer_perceptron.py:571: ConvergenceWarning: Stochastic Optimizer: Maximum iterations (200) reached and the optimization hasn't converged yet.\n",
            "  % self.max_iter, ConvergenceWarning)\n"
          ]
        },
        {
          "output_type": "stream",
          "name": "stdout",
          "text": [
            "Training Accuracy : 1.0\n",
            "Testing Accuracy : 0.9951338199513382\n",
            "              precision    recall  f1-score   support\n",
            "\n",
            "           0       0.99      1.00      0.99       287\n",
            "           1       1.00      0.99      0.99       342\n",
            "           2       1.00      1.00      1.00       193\n",
            "\n",
            "    accuracy                           1.00       822\n",
            "   macro avg       1.00      1.00      1.00       822\n",
            "weighted avg       1.00      1.00      1.00       822\n",
            "\n",
            "[[287   0   0]\n",
            " [  4 338   0]\n",
            " [  0   0 193]]\n",
            "Precision =  0.9952 \n",
            "Recall =  0.9951 \n",
            "F-Score =  0.9951\n"
          ]
        },
        {
          "output_type": "display_data",
          "data": {
            "image/png": "[encoded data removed]",
            "text/plain": [
              "<Figure size 432x288 with 2 Axes>"
            ]
          },
          "metadata": {
            "needs_background": "light"
          }
        }
      ]
    },
    {
      "cell_type": "code",
      "metadata": {
        "colab": {
          "base_uri": "https://localhost:8080/",
          "height": 346
        },
        "id": "Sho7WDix1T-h",
        "outputId": "7c74af92-c3a4-4f20-eba3-c1d193dc84aa"
      },
      "source": [
        "def PCA_Estimatorr(m,N,model_name):\n",
        "  f=[]\n",
        "  g=[]\n",
        "  x1= TfidfVectorizer(max_features=10000).fit_transform(df['text'])\n",
        "  y=df['label']\n",
        "  X_train,X_test,y_train,y_test = train_test_split(x1.toarray(),y, random_state = 56,test_size=0.2,stratify=y)\n",
        "  #l=range(2,x1.shape[1]+1)\n",
        "  l=range(2,N+1)\n",
        "\n",
        "  for i in tqdm(l):\n",
        "    pcas = TruncatedSVD(i).fit(X_train)\n",
        "    X_train1 = pcas.transform(X_train)\n",
        "    X_test1 = pcas.transform(X_test)\n",
        "    X_train2 = X_train1\n",
        "    X_test2 = X_test1\n",
        "    m.fit(X_train2,y_train)\n",
        "    f.append(m.score(X_train2,y_train))\n",
        "    g.append(m.score(X_test2,y_test))\n",
        "  plt.plot(f, label='train')\n",
        "  plt.plot(g, label='test')\n",
        "  plt.xlabel(\"PCA Number\")\n",
        "  plt.ylabel(\"Accuracy\")\n",
        "  plt.title(f\"PCA Number vs Accuracy for {model_name}\")\n",
        "  plt.legend()\n",
        "  plt.show()\n",
        "  fi=np.argseax(f)\n",
        "  gi=np.argseax(g)\n",
        "  print(f'For {model_name} : Highest Testing Score is {max(g)} for PCA Number {l[gi]}')\n",
        "  return l[gi]\n",
        "sgd = SGDClassifier(eta0=0.0001, alpha=0.0001, loss='hinge',random_state=15, penalty='elasticnet', tol=1e-3,learning_rate='constant')\n",
        "PCA_Estimatorr(sgd,500,'SGD Hinge')"
      ],
      "execution_count": null,
      "outputs": [
        {
          "output_type": "stream",
          "name": "stderr",
          "text": [
            "100%|██████████| 499/499 [1:27:38<00:00, 10.54s/it]\n"
          ]
        },
        {
          "output_type": "display_data",
          "data": {
            "image/png": "[encoded data removed]",
            "text/plain": [
              "<Figure size 432x288 with 1 Axes>"
            ]
          },
          "metadata": {
            "needs_background": "light"
          }
        },
        {
          "output_type": "stream",
          "name": "stdout",
          "text": [
            "For SGD Hinge : Highest Testing Score is 0.5273390036452005 for PCA Number 445\n"
          ]
        },
        {
          "output_type": "execute_result",
          "data": {
            "text/plain": [
              "445"
            ]
          },
          "metadata": {},
          "execution_count": 68
        }
      ]
    },
    {
      "cell_type": "code",
      "metadata": {
        "colab": {
          "base_uri": "https://localhost:8080/"
        },
        "id": "w-NgXN8uKzY-",
        "outputId": "dd02d330-45f8-4f8d-e0d0-6d142144ef84"
      },
      "source": [
        "lasso = SelectFromModel(SGDClassifier(eta0=0.0001, alpha=0.0001, loss='perceptron',random_state=15, penalty='elasticnet', tol=1e-3,learning_rate='constant'))\n",
        "lasso.fit(train_x,train_y)\n",
        "lasso.get_support()\n",
        "d=0\n",
        "for i in lasso.get_support():\n",
        "  if i==True:\n",
        "    d+=1\n",
        "print('total features from the text: {}'.format((train_x.shape[1])))\n",
        "print('selected features by Lasso: {}'.format(d))\n",
        "print('features with coefficients shrinks to zero: {}'.format(np.sum(lasso.estimator_.coef_ == 0)))"
      ],
      "execution_count": null,
      "outputs": [
        {
          "output_type": "stream",
          "name": "stdout",
          "text": [
            "total features from the text: 500\n",
            "selected features by Lasso: 218\n",
            "features with coefficients shrinks to zero: 158\n"
          ]
        }
      ]
    },
    {
      "cell_type": "code",
      "metadata": {
        "colab": {
          "base_uri": "https://localhost:8080/"
        },
        "id": "SmT4H9NoJoSn",
        "outputId": "27d02309-e408-4726-cc67-cafa3501c58c"
      },
      "source": [
        "feature_vector=[i for i in fdist.keys()][:36861]\n",
        "weight_vector = [np.mean(i) for i in c[::-1]]\n",
        "fw={}\n",
        "for i,j in zip(weight_vector,feature_vector):\n",
        "  fw[j]=i\n",
        "fw"
      ],
      "execution_count": null,
      "outputs": [
        {
          "output_type": "execute_result",
          "data": {
            "text/plain": [
              "{'able': -2.2133699674815267e-05,\n",
              " 'act': -0.00027140133939785953,\n",
              " 'actor': 6.54627235383928e-05,\n",
              " 'advise': -0.00019344204649373675,\n",
              " 'affleck': 8.581182981935602e-05,\n",
              " 'afraid': 8.039083029785312e-05,\n",
              " 'aim': -0.00020831186276281774,\n",
              " 'alike': -0.0004128549361606073,\n",
              " 'already': 2.6107816032845066e-05,\n",
              " 'also': 0.00011689237713904671,\n",
              " 'always': 0.00010294782412150608,\n",
              " 'american': -0.0002043686777655574,\n",
              " 'among': -4.2199025187768064e-05,\n",
              " 'another': 4.938623265008945e-05,\n",
              " 'answer': 3.014626732495974e-05,\n",
              " 'anticipation': -0.00015634080819148076,\n",
              " 'anyone': -0.0007981114085620629,\n",
              " 'anything': 0.0,\n",
              " 'anyway': 0.00033651528003518386,\n",
              " 'anywhere': 0.00015552055442579485,\n",
              " 'apologize': -0.0005662089320322624,\n",
              " 'apparent': 0.0008217281516759151,\n",
              " 'appeal': -3.948011256987335e-05,\n",
              " 'around': 0.0001492382894162706,\n",
              " 'art': 0.0,\n",
              " 'ask': 1.2002469419525184e-05,\n",
              " 'assault': -0.00020815635948775882,\n",
              " 'astronomical': 0.00014863136113305175,\n",
              " 'atmosphere': -0.00012517803838521624,\n",
              " 'attempt': -0.0001695105556750699,\n",
              " 'attention': 0.00025187455257555386,\n",
              " 'attribute': -0.00011866980593193275,\n",
              " 'audience': -0.00013800950573984757,\n",
              " 'average': -4.879369960677896e-05,\n",
              " 'avoid': -0.00016783604924025297,\n",
              " 'away': 0.0,\n",
              " 'awful': -6.610521409025178e-05,\n",
              " 'awhile': -0.00018857074221759743,\n",
              " 'b': 9.196073574744265e-05,\n",
              " 'background': 2.919034235801738e-05,\n",
              " 'bad': -7.255406919351894e-05,\n",
              " 'bang': 4.321678934092328e-05,\n",
              " 'base': 0.00042937023355330006,\n",
              " 'basically': 2.949505223105956e-05,\n",
              " 'baystyle': -0.00035126513060630417,\n",
              " 'beauty': 0.0,\n",
              " 'become': 7.198798600868102e-05,\n",
              " 'behind': -0.0001327427437591138,\n",
              " 'believe': 0.00010372181504563761,\n",
              " 'bentley': 4.008548610068719e-05,\n",
              " 'better': -0.0001963056626348038,\n",
              " 'big': 0.00012783241693768263,\n",
              " 'bite': -0.00019029301996981447,\n",
              " 'body': 3.7875395488325126e-05,\n",
              " 'bore': 0.00028030582504001776,\n",
              " 'bottom': 0.0001651650508695447,\n",
              " 'brain': 7.445357374870909e-06,\n",
              " 'breakdown': -4.148703134089749e-05,\n",
              " 'bring': 7.83194133152984e-05,\n",
              " 'budget': -4.1982824849882704e-05,\n",
              " 'bug': 8.386729642169184e-05,\n",
              " 'camera': 0.00028796311829663987,\n",
              " 'camerawork': 9.978163670045683e-05,\n",
              " 'cant': 0.0,\n",
              " 'captivate': -0.00010393281389850581,\n",
              " 'career': -0.0002846315416748861,\n",
              " 'carmen': -7.243970898026544e-05,\n",
              " 'carpenter': -6.856962586909213e-05,\n",
              " 'carry': 0.00017764762961057043,\n",
              " 'cartoon': -4.945978320864627e-05,\n",
              " 'casper': 0.0,\n",
              " 'cast': 0.00022263680647392544,\n",
              " 'catch': -7.674191982980267e-05,\n",
              " 'cell': 8.390399827280707e-05,\n",
              " 'chance': -0.0006289121817252204,\n",
              " 'character': -9.38082159124916e-05,\n",
              " 'charm': 3.987370856043456e-05,\n",
              " 'chemistry': 4.1062777123080473e-05,\n",
              " 'city': -4.877678176432207e-05,\n",
              " 'clever': 0.00015669109838112807,\n",
              " 'clich': 0.0,\n",
              " 'cliche': -0.00013483563062820935,\n",
              " 'client': 1.3619204378342598e-05,\n",
              " 'closeup': 0.0,\n",
              " 'clothe': -0.0001438514329515185,\n",
              " 'club': -1.3914402769967153e-05,\n",
              " 'clue': 0.00013403786697991046,\n",
              " 'come': -0.00015258353610661318,\n",
              " 'comedy': -0.00019922934232155534,\n",
              " 'commercial': -3.347179069949413e-05,\n",
              " 'compare': 0.00017919255249945296,\n",
              " 'compel': -0.0001341778473977168,\n",
              " 'composite': -3.234728145352779e-05,\n",
              " 'computer': 0.00018392053568962226,\n",
              " 'computerize': -1.9455389351256774e-05,\n",
              " 'conclusion': 0.0,\n",
              " 'conflagration': 0.00014473085976918345,\n",
              " 'constantly': -9.441445382328689e-06,\n",
              " 'corps': -0.00042195800053394957,\n",
              " 'cost': -4.259995417511475e-05,\n",
              " 'could': -8.794313972331702e-05,\n",
              " 'couldnt': -6.47856712318695e-05,\n",
              " 'country': 0.0005326625078030231,\n",
              " 'couple': -6.815200296715469e-05,\n",
              " 'craziness': -0.00022537403166849273,\n",
              " 'credible': 3.6125302884720665e-05,\n",
              " 'crew': 0.00011803365192011262,\n",
              " 'critical': 0.00011830596279292668,\n",
              " 'cut': 0.00026856947865729823,\n",
              " 'damn': 0.00013739894281937542,\n",
              " 'dance': -8.267559106826542e-05,\n",
              " 'debut': 4.005563205879527e-05,\n",
              " 'deep': 5.9759404711338466e-05,\n",
              " 'deliver': 0.00010464937896988895,\n",
              " 'denise': -0.00031025213454015865,\n",
              " 'despite': 0.0,\n",
              " 'device': 3.2774922332761044e-05,\n",
              " 'dialogue': -7.948055512613018e-05,\n",
              " 'didnt': -0.00013118103768416535,\n",
              " 'dien': 7.69232021702857e-05,\n",
              " 'director': 0.00027706694705602417,\n",
              " 'directorial': -0.00022308785638766606,\n",
              " 'displeasure': -2.2399456002987273e-05,\n",
              " 'do': 3.4914169280508934e-05,\n",
              " 'dog': -0.00020774230326140662,\n",
              " 'dominques': -2.588225308458765e-05,\n",
              " 'dont': 2.638461700937018e-05,\n",
              " 'door': 9.526504816039869e-05,\n",
              " 'drain': -6.368548909092448e-05,\n",
              " 'drift': 0.00020876216871422844,\n",
              " 'druggies': -2.8907158331868303e-05,\n",
              " 'dushku': -0.0001759715809512883,\n",
              " 'duty': 0.0,\n",
              " 'eastenders': 0.00013296133372880085,\n",
              " 'ed': -4.248076406409191e-05,\n",
              " 'effect': 5.578399619536041e-05,\n",
              " 'effort': 0.00010548578290025302,\n",
              " 'either': 4.920059212050966e-05,\n",
              " 'electricity': 7.236333501236865e-05,\n",
              " 'embarrass': -1.644046563500456e-05,\n",
              " 'emotion': 8.245432313430315e-06,\n",
              " 'empty': 6.17264794905012e-05,\n",
              " 'end': 6.681638333181566e-05,\n",
              " 'endear': -2.3063067685193465e-05,\n",
              " 'engage': 0.00015673752964606404,\n",
              " 'english': -9.927486633427954e-05,\n",
              " 'entertain': -0.00011865935367626783,\n",
              " 'erotic': 7.387564722389676e-05,\n",
              " 'even': -0.00012844164433989134,\n",
              " 'every': -6.303503736337041e-05,\n",
              " 'exist': 2.879746596174338e-05,\n",
              " 'experience': 0.0004100449930121091,\n",
              " 'explanation': -3.831291503581653e-05,\n",
              " 'eye': -2.1261911531565742e-05,\n",
              " 'fail': -4.909149232900895e-06,\n",
              " 'fan': 2.487662335082298e-05,\n",
              " 'fashion': 0.0004247605592284823,\n",
              " 'fast': 0.00022016896423162426,\n",
              " 'fear': 6.150886603333888e-05,\n",
              " 'feast': -0.0002883381631361093,\n",
              " 'feature': -2.7155173468082072e-05,\n",
              " 'feed': 0.00015286340989720346,\n",
              " 'feel': 4.798871383736621e-05,\n",
              " 'felt': -8.536594056877995e-05,\n",
              " 'film': 4.439283639261024e-05,\n",
              " 'find': -0.00044476187987297386,\n",
              " 'first': 1.9025975820204146e-05,\n",
              " 'fit': 9.238884408418796e-06,\n",
              " 'focal': 0.00018313095942966556,\n",
              " 'follow': 0.00014158633856541574,\n",
              " 'football': -4.8218335815080875e-06,\n",
              " 'force': 0.00011110838257980289,\n",
              " 'forgetable': -1.0957315055252928e-05,\n",
              " 'formerly': -0.0003350426176539436,\n",
              " 'four': -0.00011946255292668323,\n",
              " 'friday': -3.826650211152021e-05,\n",
              " 'friendly': -0.0008138616490359871,\n",
              " 'full': 0.0001757532090158824,\n",
              " 'funny': 2.500084632045669e-06,\n",
              " 'futile': -7.561295174165849e-05,\n",
              " 'future': -6.110670780915284e-05,\n",
              " 'gangster': 5.2923986682347435e-06,\n",
              " 'gangstercomedy': 0.0002234463071142115,\n",
              " 'generate': -0.00028484875550543104,\n",
              " 'generation': 2.5228618571556176e-05,\n",
              " 'get': -0.00012201873435778702,\n",
              " 'girl': -0.0001566960927282726,\n",
              " 'give': 0.0,\n",
              " 'go': 0.0001873647573388864,\n",
              " 'gogo': -0.0002665344565825001,\n",
              " 'good': -7.573105171996656e-05,\n",
              " 'graphic': -7.215723870646229e-05,\n",
              " 'gray': -3.6752717099540125e-05,\n",
              " 'great': 0.00038731482045720216,\n",
              " 'grow': 0.0003187547087198206,\n",
              " 'guess': -2.5083089215274098e-05,\n",
              " 'gungho': -3.742679646274595e-05,\n",
              " 'guy': 0.00023094604600867562,\n",
              " 'happen': -0.0001221984530813915,\n",
              " 'hardy': -0.00014555528304719905,\n",
              " 'heart': -8.374502067015608e-07,\n",
              " 'hearted': 0.00023918218850325386,\n",
              " 'heavy': -0.0002819547107628491,\n",
              " 'heinlein': 0.0,\n",
              " 'hero': 0.0,\n",
              " 'high': 0.00015995892245226713,\n",
              " 'hit': 0.00022446393187258365,\n",
              " 'hook': 0.00035279057507128645,\n",
              " 'house': -0.00027840436031011383,\n",
              " 'however': 0.00014054378625070964,\n",
              " 'huge': 2.9630025051834616e-05,\n",
              " 'humor': 6.582326101725201e-05,\n",
              " 'huppert': -0.00014155037621257964,\n",
              " 'im': 0.0002130820518136522,\n",
              " 'imitation': -0.00014224552218722013,\n",
              " 'important': -0.0001318227127952562,\n",
              " 'insipid': -2.1556289203433996e-05,\n",
              " 'instead': 8.971788097460603e-05,\n",
              " 'interest': 2.050192444313039e-05,\n",
              " 'isabelle': 0.0004686220103767262,\n",
              " 'isnt': 0.0,\n",
              " 'ive': 0.0,\n",
              " 'join': -0.00028452714495272053,\n",
              " 'keep': 0.0002027734450890909,\n",
              " 'kid': 8.626797500897302e-05,\n",
              " 'kill': 0.00018537097360408632,\n",
              " 'kind': -0.00013553516613958654,\n",
              " 'knock': 0.0,\n",
              " 'know': 2.0205172366896212e-05,\n",
              " 'lamest': -4.035191814175596e-06,\n",
              " 'laurel': 0.0004007837006405289,\n",
              " 'laziness': 4.246221417821997e-05,\n",
              " 'least': -0.00011400986287050493,\n",
              " 'leave': -0.00020274899022494373,\n",
              " 'level': 1.6208596845774798e-06,\n",
              " 'liable': 0.00011390381353253716,\n",
              " 'light': -4.3492977608869585e-05,\n",
              " 'like': -0.00016955673717626568,\n",
              " 'line': 0.0,\n",
              " 'liner': 0.00031969586773172127,\n",
              " 'little': -0.0002969663315967399,\n",
              " 'load': -2.6678508639590913e-05,\n",
              " 'logic': -4.1406697698492374e-05,\n",
              " 'long': 5.3946610146325785e-05,\n",
              " 'longer': -0.0002670965895222649,\n",
              " 'look': 0.0,\n",
              " 'lore': -0.00019792633757970162,\n",
              " 'lot': 0.0,\n",
              " 'love': 0.0,\n",
              " 'lover': 4.277686037565837e-06,\n",
              " 'lowest': 0.00010627443786749882,\n",
              " 'luke': -6.131986881638009e-05,\n",
              " 'machine': 8.418696153129898e-05,\n",
              " 'main': 1.4823195194227274e-05,\n",
              " 'make': -0.00029817071172014067,\n",
              " 'mall': -0.00020563791549479767,\n",
              " 'many': -0.0003328690292837399,\n",
              " 'material': 9.680797644605991e-05,\n",
              " 'math': -0.0002576322185014561,\n",
              " 'matter': -0.00012820773840718802,\n",
              " 'melodramatic': 9.96755510595653e-05,\n",
              " 'memorable': 0.00013706005303719713,\n",
              " 'men': -2.905930584832971e-05,\n",
              " 'michael': -0.00013491550191597026,\n",
              " 'middle': 3.7678499659845414e-05,\n",
              " 'might': 8.070953566079281e-05,\n",
              " 'mile': -9.993538815764781e-05,\n",
              " 'military': 0.00020916360550811793,\n",
              " 'mindless': -0.0004583988642153456,\n",
              " 'minimum': 5.865759456543426e-06,\n",
              " 'mishandle': 0.00014543529828512028,\n",
              " 'miss': -0.00020550530658730636,\n",
              " 'money': 0.00015228325585704854,\n",
              " 'mostly': 0.0002481622162274036,\n",
              " 'motley': 0.0,\n",
              " 'mouth': 0.00016636112355044452,\n",
              " 'movie': -0.00017604270765339146,\n",
              " 'mpaa': 2.351905416550134e-05,\n",
              " 'mtv': 0.00011385093296104684,\n",
              " 'much': -0.00011459513347035339,\n",
              " 'must': 0.000271592172291821,\n",
              " 'muster': -5.9152598879695766e-05,\n",
              " 'need': 7.645446254129344e-05,\n",
              " 'nervous': -5.679014240734027e-06,\n",
              " 'never': 0.0,\n",
              " 'nothing': 0.0,\n",
              " 'nowhere': 0.0,\n",
              " 'obligation': 2.5636223526938664e-05,\n",
              " 'obnoxious': 0.0,\n",
              " 'obvious': -4.5048321966683776e-05,\n",
              " 'occasional': 0.0002878886870150729,\n",
              " 'offer': -0.0002978552701540812,\n",
              " 'old': 0.00011556437240550954,\n",
              " 'one': -1.531838765342741e-05,\n",
              " 'onedimensional': 7.421852873378774e-05,\n",
              " 'opinion': 0.0,\n",
              " 'others': 0.0,\n",
              " 'otherwise': -0.00015249173785162172,\n",
              " 'outer': -0.00011128333558303415,\n",
              " 'overkill': 0.00012706935138442232,\n",
              " 'paris': -0.00010452777005326089,\n",
              " 'parisian': 0.0001921183191418675,\n",
              " 'part': -0.00017595494281319,\n",
              " 'particularly': 2.966576236917724e-05,\n",
              " 'party': 3.420946270041157e-05,\n",
              " 'passionate': 0.0003902580116376777,\n",
              " 'pedestrian': -0.00014390039385090615,\n",
              " 'people': 0.00014779472173794345,\n",
              " 'perfect': -0.00012592729560711988,\n",
              " 'perfection': 7.611529880405017e-05,\n",
              " 'performance': 0.00015787867262823842,\n",
              " 'performer': -0.00022288175699421183,\n",
              " 'pg13': -1.923946253022114e-05,\n",
              " 'pilot': 0.0002058250678098105,\n",
              " 'place': -0.00012009444334979186,\n",
              " 'plain': 0.00021174094518170116,\n",
              " 'play': 7.765012319154356e-05,\n",
              " 'pleasurable': -9.266883929005971e-06,\n",
              " 'plot': -1.0903744612460253e-05,\n",
              " 'point': 7.044253164212549e-05,\n",
              " 'poor': -6.279825376129426e-05,\n",
              " 'posse': -0.00020103892119323523,\n",
              " 'possible': -0.00015395956295053212,\n",
              " 'present': -0.00013178802088389157,\n",
              " 'prevalent': -0.00020021214680271242,\n",
              " 'priest': -0.00012240077914670329,\n",
              " 'problem': 4.013512954571884e-05,\n",
              " 'production': 0.0,\n",
              " 'protocol': 1.6203132483852526e-05,\n",
              " 'provide': 0.0,\n",
              " 'provoke': 8.589052003642673e-05,\n",
              " 'psychic': -9.592237026943356e-05,\n",
              " 'puke': 0.0003864691283761129,\n",
              " 'purpose': 0.0,\n",
              " 'put': -8.902993851557686e-06,\n",
              " 'quentin': -0.00015830249515796,\n",
              " 'quick': 1.3679305216979534e-05,\n",
              " 'quite': 0.0002934803356349745,\n",
              " 'r': -3.1714072350854415e-05,\n",
              " 'rage': -0.0002768083038225413,\n",
              " 'random': 0.0,\n",
              " 'rant': -4.0856858378072936e-05,\n",
              " 'rarely': -6.9102701234859e-05,\n",
              " 'rat': 0.0,\n",
              " 'reactionary': 7.339086993130515e-05,\n",
              " 'really': -5.234285680736734e-06,\n",
              " 'reason': 7.591945908510424e-05,\n",
              " 'reassure': -0.00010436900476405892,\n",
              " 'recently': 0.00021004558105695707,\n",
              " 'recut': -0.0002995003149933335,\n",
              " 'reduce': 1.1555165543306033e-05,\n",
              " 'regardless': 0.00022515045615881786,\n",
              " 'regretable': -0.00014058316741198757,\n",
              " 'regurgitate': 0.00016177246581005345,\n",
              " 'relate': 0.0,\n",
              " 'relationship': -0.00012579654216537785,\n",
              " 'relentlessly': -0.00015004330563274154,\n",
              " 'rely': -4.456349611607902e-05,\n",
              " 'require': -0.0003590500949939034,\n",
              " 'reservoir': -4.193142040890084e-05,\n",
              " 'resume': 0.00015761358527426324,\n",
              " 'review': -5.097115191699974e-05,\n",
              " 'reviewer': 4.6604879061456985e-05,\n",
              " 'rich': 6.302246631314692e-05,\n",
              " 'richards': -0.00020708720706056968,\n",
              " 'rico': -5.740453570492073e-05,\n",
              " 'right': 0.0001380930048904809,\n",
              " 'ritchies': 0.0,\n",
              " 'rlr': -8.008092889050635e-05,\n",
              " 'robert': -4.3813680182935e-05,\n",
              " 'role': -1.4088750512749061e-05,\n",
              " 'roll': -0.00021705487695726885,\n",
              " 'run': 6.542377289763873e-05,\n",
              " 'sagemiller': -0.00012447621107957235,\n",
              " 'sardonic': 0.0,\n",
              " 'satire': 9.150100037536539e-06,\n",
              " 'satisfaction': -5.509170036684546e-05,\n",
              " 'saw': -0.0001093959223998995,\n",
              " 'say': -0.00020264398494865206,\n",
              " 'scary': -6.59031798882639e-05,\n",
              " 'scene': 9.036518325914564e-05,\n",
              " 'school': -8.297227418473693e-05,\n",
              " 'scifi': -2.2334521472858472e-05,\n",
              " 'screen': -4.107588154984908e-05,\n",
              " 'screenwriting': -0.00014017618242623546,\n",
              " 'screwball': 8.450891971021064e-05,\n",
              " 'script': -2.4522599285802908e-05,\n",
              " 'seat': 6.910733748389248e-05,\n",
              " 'second': -0.00021471329671274652,\n",
              " 'see': -0.0001540541010883306,\n",
              " 'sense': 6.149683598587743e-05,\n",
              " 'sensibility': 2.002742592665207e-05,\n",
              " 'serve': 6.138351531629542e-05,\n",
              " 'set': -0.00026946858659763296,\n",
              " 'sex': -4.9354699199869954e-05,\n",
              " 'sexiness': -0.00017389328645998778,\n",
              " 'shoot': 1.571210393548304e-05,\n",
              " 'show': -0.00011987825075980232,\n",
              " 'significant': 0.00022237037743762006,\n",
              " 'since': -7.123806992513385e-05,\n",
              " 'sink': 0.00019295367142180056,\n",
              " 'small': -0.0001850729998364827,\n",
              " 'smutty': 0.00024134927923213126,\n",
              " 'sneak': 0.0005846849522286305,\n",
              " 'soldier': 0.00020045209788542372,\n",
              " 'solely': 0.0001561722910273987,\n",
              " 'something': -0.00017153576531763804,\n",
              " 'somewhere': -0.00029779050599745236,\n",
              " 'sophomoric': -2.2461355562685595e-05,\n",
              " 'sorry': 0.00012553051846933986,\n",
              " 'soul': -8.205753093303487e-05,\n",
              " 'space': -5.772043573587799e-05,\n",
              " 'special': 1.7721908705940774e-05,\n",
              " 'spend': 0.00010892066043824972,\n",
              " 'spoof': -0.00027910428137079615,\n",
              " 'squirm': 2.769932745138033e-07,\n",
              " 'star': -0.00013615280900470807,\n",
              " 'stereotype': -7.609560147062355e-05,\n",
              " 'steve': -4.3231741680443065e-06,\n",
              " 'still': 0.00048747968331870964,\n",
              " 'story': -0.0001397457501327459,\n",
              " 'straight': -0.0001806532777577441,\n",
              " 'street': 6.450522800236826e-06,\n",
              " 'stupidity': 0.0,\n",
              " 'subpar': -0.00024804215457010365,\n",
              " 'succeed': 0.0,\n",
              " 'suit': -0.0001713357822494093,\n",
              " 'sum': -0.00030061665273483984,\n",
              " 'suppose': -0.0001676060024118758,\n",
              " 'sure': -0.0001643297110136157,\n",
              " 'surprise': 0.00021114680767755965,\n",
              " 'survivor': 8.530060955163044e-05,\n",
              " 'take': -7.265070744719092e-05,\n",
              " 'tarantinolike': -0.00016452147353868113,\n",
              " 'task': 9.637303729981594e-05,\n",
              " 'teenager': -0.00011922512438177694,\n",
              " 'tell': 0.0,\n",
              " 'tend': 8.39303584037357e-05,\n",
              " 'thats': 0.000397323594704542,\n",
              " 'theater': -7.541649070900618e-05,\n",
              " 'there': -0.00014102016466280415,\n",
              " 'thin': 0.00038679654069324247,\n",
              " 'thing': 0.00024450718188546034,\n",
              " 'think': -0.0001671926386452365,\n",
              " 'thoroughly': -0.00013419639764984784,\n",
              " 'though': 8.340782132697815e-05,\n",
              " 'time': -9.76901125136097e-05,\n",
              " 'tire': -0.000369337958530917,\n",
              " 'together': 0.0,\n",
              " 'top': 0.00011976207093204676,\n",
              " 'totally': -8.882183525466703e-05,\n",
              " 'trainspotting': 1.0445320277055462e-05,\n",
              " 'try': 5.174739814191764e-05,\n",
              " 'tune': -0.00013051640190553105,\n",
              " 'turn': 0.0,\n",
              " 'twist': 0.0002966760498996607,\n",
              " 'type': 0.0002888231193362818,\n",
              " 'u': 7.827791730815218e-05,\n",
              " 'uncontrollable': 0.00010855035074305017,\n",
              " 'undercut': -0.00018182157048422475,\n",
              " 'unerotic': 7.970168753298958e-05,\n",
              " 'unless': -5.024464730882547e-05,\n",
              " 'unnecessary': -0.00024234881580667618,\n",
              " 'unnoticeable': 0.0002599758946419923,\n",
              " 'unoriginal': -3.4360799937081225e-05,\n",
              " 'unquestionably': 0.0,\n",
              " 'use': -3.303721727505307e-05,\n",
              " 'usually': -0.00016281711196579744,\n",
              " 'vacuous': 3.37060982258005e-05,\n",
              " 'van': 0.00014419617940439515,\n",
              " 'various': 0.00019185619633294303,\n",
              " 'venomous': -0.00016598051762471136,\n",
              " 'video': 3.3485107653092626e-05,\n",
              " 'view': 0.00011661499114104076,\n",
              " 'vile': 0.0,\n",
              " 'violence': 0.000133319342824144,\n",
              " 'want': 7.138263356869038e-05,\n",
              " 'war': 0.00018908832883016917,\n",
              " 'warn': 7.599700456070506e-05,\n",
              " 'wash': -0.0003011607167109923,\n",
              " 'watch': 6.390819642535489e-05,\n",
              " 'way': 4.141076980296086e-05,\n",
              " 'wealthy': -4.271102113676466e-05,\n",
              " 'weary': 0.00032322226918247965,\n",
              " 'well': -4.076292468741739e-05,\n",
              " 'whatever': 3.842181199951776e-05,\n",
              " 'wilson': 0.0,\n",
              " 'wise': 0.00018189607893047123,\n",
              " 'woman': 0.0001630613019752952,\n",
              " 'wont': 0.00018287183509952082,\n",
              " 'word': -4.3024648975807786e-05,\n",
              " 'work': 4.2684076802561394e-05,\n",
              " 'worthwhile': -0.00011896274942541035,\n",
              " 'would': -3.0288506313737737e-05,\n",
              " 'wouldnt': -0.000101919397875542,\n",
              " 'writerdirector': 6.092379473860095e-05,\n",
              " 'ww11': -0.0003338392859027786,\n",
              " 'yet': 0.0002676128818876135,\n",
              " 'youd': -0.00019181771290214104,\n",
              " 'young': 0.00046389891919864886,\n",
              " 'youre': 0.00012694059279852368}"
            ]
          },
          "metadata": {},
          "execution_count": 38
        }
      ]
    },
    {
      "cell_type": "code",
      "metadata": {
        "colab": {
          "base_uri": "https://localhost:8080/",
          "height": 295
        },
        "id": "jafcSczqzi5O",
        "outputId": "796515cf-8199-4266-8985-0bed7fb034e0"
      },
      "source": [
        "X = train_x[:, [0,1]]\n",
        "def make_meshgrid(x, y, h=.02):\n",
        "    x_min, x_max = x.min() - 1, x.max() + 1\n",
        "    y_min, y_max = y.min() - 1, y.max() + 1\n",
        "    xx, yy = np.meshgrid(np.arange(x_min, x_max, h), np.arange(y_min, y_max, h))\n",
        "    return xx, yy\n",
        "\n",
        "def plot_contours(ax, clf, xx, yy, **params):\n",
        "    Z = clf.predict(np.c_[xx.ravel(), yy.ravel()])\n",
        "    Z = Z.reshape(xx.shape)\n",
        "    out = ax.contourf(xx, yy, Z, **params)\n",
        "    return out\n",
        "from sklearn.svm import SVC\n",
        "model = SVC(kernel='rbf')\n",
        "clf = model.fit(X,train_y)\n",
        "\n",
        "fig, ax = plt.subplots()\n",
        "# title for the plots\n",
        "title = ('Decision surface of linear SVC ')\n",
        "# Set-up grid for plotting.\n",
        "X0, X1 = X[:, 0], X[:, 1]\n",
        "xx, yy = make_meshgrid(X0, X1)\n",
        "\n",
        "plot_contours(ax, clf, xx, yy, cmap=plt.cm.coolwarm, alpha=0.8)\n",
        "ax.scatter(X0, X1,  cmap=plt.cm.coolwarm, s=20, edgecolors='k')\n",
        "ax.set_ylabel('label')\n",
        "ax.set_xlabel('text')\n",
        "ax.set_xticks(())\n",
        "ax.set_yticks(())\n",
        "ax.set_title(title)\n",
        "ax.legend()\n",
        "plt.show()"
      ],
      "execution_count": null,
      "outputs": [
        {
          "output_type": "stream",
          "name": "stderr",
          "text": [
            "No handles with labels found to put in legend.\n"
          ]
        },
        {
          "output_type": "display_data",
          "data": {
            "image/png": "[encoded data removed]",
            "text/plain": [
              "<Figure size 432x288 with 1 Axes>"
            ]
          },
          "metadata": {}
        }
      ]
    },
    {
      "cell_type": "code",
      "metadata": {
        "colab": {
          "base_uri": "https://localhost:8080/",
          "height": 1000
        },
        "id": "hVu7my8sz0_1",
        "outputId": "1fd7e034-f6eb-4d9c-988f-2b9ee0549a7c"
      },
      "source": [
        "LR=LR()\n",
        "pcas = PCA(2).fit(train_x)\n",
        "X_train1 = pcas.transform(X_train)\n",
        "X_test1 = pcas.transform(test_x)\n",
        "X_train1.shape,X_test1.shape\n",
        "X=X_train1\n",
        "y=train_y\n",
        "models = [sgd1,sgdh,sgdp,LR]\n",
        "names = ['SGD with Loss','SGD with Hinge','SGD with Perceptron','Logistic Regression']\n",
        "plt.figure(figsize = (5,5), dpi = 80)\n",
        "for i,j in zip(models,names):\n",
        "    i.fit(X,y)\n",
        "    print(f'Test Accuracy for {j} is :',i.score(X_test1,test_y))\n",
        "  \n",
        "    x_min, x_max = X[:, 0].min() - 1, X[:, 0].max() + 1\n",
        "    \n",
        "    y_min, y_max = X[:, 1].min() - 1, X[:, 1].max() + 1\n",
        "  \n",
        "    h = (x_max / x_min)/100\n",
        "    \n",
        "    xx, yy = np.meshgrid(np.arange(x_min, x_max, -h), np.arange(y_min, y_max, -h))\n",
        "    \n",
        "    Z = i.predict(np.c_[xx.ravel(), yy.ravel()])\n",
        "    Z = Z.reshape(xx.shape)\n",
        "    plt.contourf(xx, yy, Z, cmap=plt.cm.Paired, alpha=0.7)\n",
        "    plt.scatter(X[:, 0], X[:, 1] , color='black', cmap=plt.cm.Paired)\n",
        "    plt.title(f'{j}')\n",
        "    plt.show()"
      ],
      "execution_count": null,
      "outputs": [
        {
          "output_type": "stream",
          "name": "stdout",
          "text": [
            "Test Accuracy for SGD with Loss is :41.6\n"
          ]
        },
        {
          "output_type": "display_data",
          "data": {
            "image/png": "[encoded data removed]",
            "text/plain": [
              "<Figure size 400x400 with 1 Axes>"
            ]
          },
          "metadata": {
            "needs_background": "light"
          }
        },
        {
          "output_type": "stream",
          "name": "stdout",
          "text": [
            "Test Accuracy for SGD with Hinge is :81.3\n"
          ]
        },
        {
          "output_type": "display_data",
          "data": {
            "image/png": "[encoded data removed]",
            "text/plain": [
              "<Figure size 432x288 with 1 Axes>"
            ]
          },
          "metadata": {
            "needs_background": "light"
          }
        },
        {
          "output_type": "stream",
          "name": "stdout",
          "text": [
            "Test Accuracy for SGD with Perceptron is :92.4\n"
          ]
        },
        {
          "output_type": "display_data",
          "data": {
            "image/png": "[encoded data removed]",
            "text/plain": [
              "<Figure size 432x288 with 1 Axes>"
            ]
          },
          "metadata": {
            "needs_background": "light"
          }
        },
        {
          "output_type": "stream",
          "name": "stdout",
          "text": [
            "Test Accuracy for Logistic Regression is :90.1\n"
          ]
        },
        {
          "output_type": "display_data",
          "data": {
            "image/png": "[encoded data removed]",
            "text/plain": [
              "<Figure size 432x288 with 1 Axes>"
            ]
          },
          "metadata": {
            "needs_background": "light"
          }
        }
      ]
    },
    {
      "cell_type": "code",
      "metadata": {
        "colab": {
          "base_uri": "https://localhost:8080/",
          "height": 1000
        },
        "id": "eE7Hzy9-ioKS",
        "outputId": "0012b62d-0a6a-4070-8785-67eb3397fcc5"
      },
      "source": [
        "pcas = PCA(2).fit(train_x)\n",
        "X_train1 = pcas.transform(X_train)\n",
        "X_test1 = pcas.transform(test_x)\n",
        "X_train1.shape,X_test1.shape\n",
        "X=X_train1\n",
        "y=train_y\n",
        "cr = [20,40,60,80,100]\n",
        "plt.figure(figsize = (5,5), dpi = 80)\n",
        "for j,i in enumerate(cr):\n",
        "    svc = SVC(C=i)\n",
        "    svc.fit(X, y)\n",
        "    \n",
        "    x_min, x_max = X[:, 0].min() - 1, X[:, 0].max() + 1\n",
        "    \n",
        "    y_min, y_max = X[:, 1].min() - 1, X[:, 1].max() + 1\n",
        "    \n",
        "    h = (x_max / x_min)/100\n",
        "    \n",
        "    xx, yy = np.meshgrid(np.arange(x_min, x_max, -h), np.arange(y_min, y_max, -h))\n",
        "    \n",
        "    Z = svc.predict(np.c_[xx.ravel(), yy.ravel()])\n",
        "    Z = Z.reshape(xx.shape)\n",
        "    plt.contourf(xx, yy, Z, cmap=plt.cm.Paired, alpha=0.7)\n",
        "    plt.scatter(X[:, 0], X[:, 1] , color='black', cmap=plt.cm.Paired)\n",
        "    plt.xlim(xx.min(), xx.max())\n",
        "    plt.title(f'SVM with C={i}')\n",
        "    \n",
        "    plt.show()"
      ],
      "execution_count": null,
      "outputs": [
        {
          "output_type": "display_data",
          "data": {
            "image/png": "[encoded data removed]",
            "text/plain": [
              "<Figure size 400x400 with 1 Axes>"
            ]
          },
          "metadata": {
            "needs_background": "light"
          }
        },
        {
          "output_type": "display_data",
          "data": {
            "image/png": "[encoded data removed]",
            "text/plain": [
              "<Figure size 432x288 with 1 Axes>"
            ]
          },
          "metadata": {
            "needs_background": "light"
          }
        },
        {
          "output_type": "display_data",
          "data": {
            "image/png": "[encoded data removed]",
            "text/plain": [
              "<Figure size 432x288 with 1 Axes>"
            ]
          },
          "metadata": {
            "needs_background": "light"
          }
        },
        {
          "output_type": "display_data",
          "data": {
            "image/png": "[encoded data removed]",
            "text/plain": [
              "<Figure size 432x288 with 1 Axes>"
            ]
          },
          "metadata": {
            "needs_background": "light"
          }
        },
        {
          "output_type": "display_data",
          "data": {
            "image/png": "[encoded data removed]",
            "text/plain": [
              "<Figure size 432x288 with 1 Axes>"
            ]
          },
          "metadata": {
            "needs_background": "light"
          }
        }
      ]
    },
    {
      "cell_type": "code",
      "metadata": {
        "colab": {
          "base_uri": "https://localhost:8080/",
          "height": 265
        },
        "id": "0OVkNOWepZUT",
        "outputId": "9c88b938-ce94-45ef-f440-cf5babb7db88"
      },
      "source": [
        "\n",
        "# we create 40 separable points\n",
        "np.random.seed(0)\n",
        "n_samples_1 = 1000\n",
        "n_samples_2 = 100\n",
        "X = np.r_[1.5 * np.random.randn(n_samples_1, 2),\n",
        "          0.5 * np.random.randn(n_samples_2, 2) + [2, 2]]\n",
        "y = np.array([0] * (n_samples_1) + [1] * (n_samples_2), dtype=np.float64)\n",
        "idx = np.arange(y.shape[0])\n",
        "np.random.shuffle(idx)\n",
        "'y=train_y[:len(y)]'\n",
        "X = X[idx]\n",
        "y = y[idx]\n",
        "mean = X.mean(axis=0)\n",
        "std = X.std(axis=0)\n",
        "X = (X - mean) / std\n",
        "\n",
        "clf = SGDClassifier( alpha=0.01)\n",
        "clf.fit(X, y)\n",
        "\n",
        "w = clf.coef_.ravel()\n",
        "a = -w[0] / w[1]\n",
        "xx = np.linspace(-5, 5)\n",
        "yy = a * xx - clf.intercept_ / w[1]\n",
        "\n",
        "\n",
        "\n",
        "wclf = SGDClassifier( alpha=0.01, class_weight={1: 10})\n",
        "wclf.fit(X, y)\n",
        "\n",
        "ww = wclf.coef_.ravel()\n",
        "wa = -ww[0] / ww[1]\n",
        "wyy = wa * xx - wclf.intercept_ / ww[1]\n",
        "pl.set_cmap(pl.cm.Paired)\n",
        "h0 = pl.plot(xx, yy, 'k-', label='no weights')\n",
        "h1 = pl.plot(xx, wyy, 'k--', label='with weights')\n",
        "pl.scatter(X[:, 0], X[:, 1], c=y)\n",
        "pl.legend()\n",
        "\n",
        "pl.axis('tight')\n",
        "pl.show()"
      ],
      "execution_count": null,
      "outputs": [
        {
          "output_type": "display_data",
          "data": {
            "image/png": "[encoded data removed]",
            "text/plain": [
              "<Figure size 432x288 with 1 Axes>"
            ]
          },
          "metadata": {
            "needs_background": "light"
          }
        }
      ]
    },
    {
      "cell_type": "markdown",
      "metadata": {
        "id": "G-OKpxdhkbHd"
      },
      "source": [
        "Creating 50 seperable points"
      ]
    },
    {
      "cell_type": "code",
      "metadata": {
        "id": "qvIZmhxtC8wG",
        "colab": {
          "base_uri": "https://localhost:8080/",
          "height": 265
        },
        "outputId": "83a7c61b-cd7c-49e0-b800-f5a7c193153e"
      },
      "source": [
        "\n",
        "\n",
        "\n",
        "X, Y = make_blobs(n_samples=50, centers=2, random_state=0, cluster_std=0.60)\n",
        "clf = SGDClassifier(loss=\"hinge\", alpha=0.01, max_iter=200)\n",
        "\n",
        "clf.fit(X, Y)\n",
        "\n",
        "xx = np.linspace(-1, 5, 10)\n",
        "yy = np.linspace(-1, 5, 10)\n",
        "\n",
        "X1, X2 = np.meshgrid(xx, yy)\n",
        "Z = np.empty(X1.shape)\n",
        "for (i, j), val in np.ndenumerate(X1):\n",
        "    x1 = val\n",
        "    x2 = X2[i, j]\n",
        "    p = clf.decision_function([[x1, x2]])\n",
        "    Z[i, j] = p[0]\n",
        "levels = [-1.0, 0.0, 1.0]\n",
        "linestyles = ['dashed', 'solid', 'dashed']\n",
        "colors = 'k'\n",
        "plt.contour(X1, X2, Z, levels, colors=colors, linestyles=linestyles)\n",
        "plt.scatter(X[:, 0], X[:, 1], c=Y, cmap=plt.cm.Paired,\n",
        "            edgecolor='black', s=20)\n",
        "\n",
        "plt.axis('tight')\n",
        "plt.show()"
      ],
      "execution_count": null,
      "outputs": [
        {
          "output_type": "display_data",
          "data": {
            "image/png": "[encoded data removed]",
            "text/plain": [
              "<Figure size 432x288 with 1 Axes>"
            ]
          },
          "metadata": {
            "needs_background": "light"
          }
        }
      ]
    },
    {
      "cell_type": "code",
      "metadata": {
        "id": "CcgcRmJfpsGa"
      },
      "source": [
        ""
      ],
      "execution_count": null,
      "outputs": []
    }
  ]
}