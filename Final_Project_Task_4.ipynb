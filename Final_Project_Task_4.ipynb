{
  "nbformat": 4,
  "nbformat_minor": 0,
  "metadata": {
    "colab": {
      "name": "Final Project-Task 4.ipynb",
      "provenance": [],
      "collapsed_sections": []
    },
    "kernelspec": {
      "name": "python3",
      "display_name": "Python 3"
    },
    "language_info": {
      "name": "python"
    },
    "accelerator": "GPU"
  },
  "cells": [
    {
      "cell_type": "markdown",
      "metadata": {
        "id": "QNo0N_EnQ4_P"
      },
      "source": [
        "Mounting Google Drive"
      ]
    },
    {
      "cell_type": "code",
      "metadata": {
        "colab": {
          "base_uri": "https://localhost:8080/"
        },
        "id": "Q3tJs6Y6EOeG",
        "outputId": "bf0c9c39-5433-4536-9968-8dcc718d9ab9"
      },
      "source": [
        "from google.colab import drive\n",
        "drive.mount('/content/drive')"
      ],
      "execution_count": null,
      "outputs": [
        {
          "output_type": "stream",
          "name": "stdout",
          "text": [
            "Mounted at /content/drive\n"
          ]
        }
      ]
    },
    {
      "cell_type": "code",
      "metadata": {
        "colab": {
          "base_uri": "https://localhost:8080/"
        },
        "id": "ywxS0cLrf_os",
        "outputId": "0671e5a8-efa8-4b12-aa19-5e7195f2e7a1"
      },
      "source": [
        "!pip install transformers"
      ],
      "execution_count": null,
      "outputs": [
        {
          "output_type": "stream",
          "name": "stdout",
          "text": [
            "Collecting transformers\n",
            "  Downloading transformers-4.12.5-py3-none-any.whl (3.1 MB)\n",
            "\u001b[K     |████████████████████████████████| 3.1 MB 11.4 MB/s \n",
            "\u001b[?25hCollecting pyyaml>=5.1\n",
            "  Downloading PyYAML-6.0-cp37-cp37m-manylinux_2_5_x86_64.manylinux1_x86_64.manylinux_2_12_x86_64.manylinux2010_x86_64.whl (596 kB)\n",
            "\u001b[K     |████████████████████████████████| 596 kB 46.8 MB/s \n",
            "\u001b[?25hCollecting sacremoses\n",
            "  Downloading sacremoses-0.0.46-py3-none-any.whl (895 kB)\n",
            "\u001b[K     |████████████████████████████████| 895 kB 38.1 MB/s \n",
            "\u001b[?25hCollecting tokenizers<0.11,>=0.10.1\n",
            "  Downloading tokenizers-0.10.3-cp37-cp37m-manylinux_2_5_x86_64.manylinux1_x86_64.manylinux_2_12_x86_64.manylinux2010_x86_64.whl (3.3 MB)\n",
            "\u001b[K     |████████████████████████████████| 3.3 MB 48.1 MB/s \n",
            "\u001b[?25hRequirement already satisfied: tqdm>=4.27 in /usr/local/lib/python3.7/dist-packages (from transformers) (4.62.3)\n",
            "Collecting huggingface-hub<1.0,>=0.1.0\n",
            "  Downloading huggingface_hub-0.2.1-py3-none-any.whl (61 kB)\n",
            "\u001b[K     |████████████████████████████████| 61 kB 448 kB/s \n",
            "\u001b[?25hRequirement already satisfied: numpy>=1.17 in /usr/local/lib/python3.7/dist-packages (from transformers) (1.19.5)\n",
            "Requirement already satisfied: requests in /usr/local/lib/python3.7/dist-packages (from transformers) (2.23.0)\n",
            "Requirement already satisfied: packaging>=20.0 in /usr/local/lib/python3.7/dist-packages (from transformers) (21.3)\n",
            "Requirement already satisfied: filelock in /usr/local/lib/python3.7/dist-packages (from transformers) (3.4.0)\n",
            "Requirement already satisfied: importlib-metadata in /usr/local/lib/python3.7/dist-packages (from transformers) (4.8.2)\n",
            "Requirement already satisfied: regex!=2019.12.17 in /usr/local/lib/python3.7/dist-packages (from transformers) (2019.12.20)\n",
            "Requirement already satisfied: typing-extensions>=3.7.4.3 in /usr/local/lib/python3.7/dist-packages (from huggingface-hub<1.0,>=0.1.0->transformers) (3.10.0.2)\n",
            "Requirement already satisfied: pyparsing!=3.0.5,>=2.0.2 in /usr/local/lib/python3.7/dist-packages (from packaging>=20.0->transformers) (3.0.6)\n",
            "Requirement already satisfied: zipp>=0.5 in /usr/local/lib/python3.7/dist-packages (from importlib-metadata->transformers) (3.6.0)\n",
            "Requirement already satisfied: idna<3,>=2.5 in /usr/local/lib/python3.7/dist-packages (from requests->transformers) (2.10)\n",
            "Requirement already satisfied: urllib3!=1.25.0,!=1.25.1,<1.26,>=1.21.1 in /usr/local/lib/python3.7/dist-packages (from requests->transformers) (1.24.3)\n",
            "Requirement already satisfied: chardet<4,>=3.0.2 in /usr/local/lib/python3.7/dist-packages (from requests->transformers) (3.0.4)\n",
            "Requirement already satisfied: certifi>=2017.4.17 in /usr/local/lib/python3.7/dist-packages (from requests->transformers) (2021.10.8)\n",
            "Requirement already satisfied: six in /usr/local/lib/python3.7/dist-packages (from sacremoses->transformers) (1.15.0)\n",
            "Requirement already satisfied: joblib in /usr/local/lib/python3.7/dist-packages (from sacremoses->transformers) (1.1.0)\n",
            "Requirement already satisfied: click in /usr/local/lib/python3.7/dist-packages (from sacremoses->transformers) (7.1.2)\n",
            "Installing collected packages: pyyaml, tokenizers, sacremoses, huggingface-hub, transformers\n",
            "  Attempting uninstall: pyyaml\n",
            "    Found existing installation: PyYAML 3.13\n",
            "    Uninstalling PyYAML-3.13:\n",
            "      Successfully uninstalled PyYAML-3.13\n",
            "Successfully installed huggingface-hub-0.2.1 pyyaml-6.0 sacremoses-0.0.46 tokenizers-0.10.3 transformers-4.12.5\n"
          ]
        }
      ]
    },
    {
      "cell_type": "markdown",
      "metadata": {
        "id": "PKwvU1AcRC_e"
      },
      "source": [
        "Importing All required Libraries and Loading Dataset into a Dataframe."
      ]
    },
    {
      "cell_type": "code",
      "metadata": {
        "colab": {
          "base_uri": "https://localhost:8080/",
          "height": 310
        },
        "id": "W8aBusMGEXkg",
        "outputId": "682dbc71-c688-4180-fd59-26b7e304bc1d"
      },
      "source": [
        "import pandas as pd\n",
        "import string\n",
        "import numpy as np\n",
        "import random\n",
        "import matplotlib.pyplot as plt\n",
        "punctuations= string.punctuation\n",
        "import nltk\n",
        "nltk.download('stopwords')\n",
        "nltk.download('wordnet')\n",
        "from nltk.corpus import stopwords\n",
        "stopword_list = stopwords.words(\"english\")\n",
        "from nltk.stem.wordnet import WordNetLemmatizer\n",
        "lem = WordNetLemmatizer()\n",
        "from nltk.tokenize import word_tokenize\n",
        "nltk.download('punkt')\n",
        "import numpy as np\n",
        "import regex as re\n",
        "import pandas as pd\n",
        "import matplotlib.pyplot as plt\n",
        "import seaborn as sns\n",
        "import statistics\n",
        "import math\n",
        "import os\n",
        "\n",
        "from sklearn.model_selection import StratifiedKFold\n",
        "from sklearn.metrics import accuracy_score\n",
        "from sklearn.model_selection import train_test_split\n",
        "\n",
        "import tensorflow as tf\n",
        "import tensorflow.keras.backend as K\n",
        "#import tokenizer\n",
        "from transformers import RobertaTokenizer, TFRobertaModel\n",
        "\n",
        "from collections import Counter\n",
        "\n",
        "import warnings\n",
        "warnings.filterwarnings(\"ignore\")\n",
        "\n",
        "from sklearn.feature_extraction.text import CountVectorizer, TfidfVectorizer,TfidfTransformer\n",
        "from sklearn.metrics import accuracy_score,classification_report, confusion_matrix,f1_score,precision_recall_fscore_support,log_loss\n",
        "from sklearn.linear_model import Lasso, SGDClassifier,LogisticRegression as LR\n",
        "from sklearn.feature_selection import SelectFromModel\n",
        "from sklearn.model_selection import train_test_split,GridSearchCV\n",
        "from sklearn.decomposition import PCA,TruncatedSVD\n",
        "from sklearn.datasets import make_blobs\n",
        "from sklearn.neural_network import MLPClassifier\n",
        "from tqdm import tqdm\n",
        "from sklearn.svm import SVC\n",
        "import seaborn as sns\n",
        "import pylab as pl\n",
        "from tensorflow.keras.preprocessing.text import Tokenizer\n",
        "from tensorflow.keras.preprocessing.sequence import pad_sequences\n",
        "from keras.callbacks import EarlyStopping, ModelCheckpoint\n",
        "import tensorflow as tf\n",
        "def clean_text(text,stop_words=True):\n",
        "    cleaned_text = text.lower()\n",
        "    cleaned_text = \"\".join(c for c in cleaned_text if c not in punctuations)\n",
        "    words = cleaned_text.split()\n",
        "    if stop_words==True:\n",
        "      words = [w for w in words if w not in stopword_list]\n",
        "    words = [lem.lemmatize(word, \"v\") for word in words]\n",
        "    words = [lem.lemmatize(word, \"n\") for word in words]\n",
        "    cleaned_text = \" \".join(words)\n",
        "    return cleaned_text\n",
        "    \n",
        "path='/content/drive/My Drive/'\n",
        "with open(path+'dontpatronizeme_v1.4/dontpatronizeme_pcl.tsv') as f:\n",
        "  rows = f.read().split('\\n')[4:]\n",
        "  df =pd.DataFrame([i.split('\\t') for i in rows],columns=['par_id', 'art_id', 'keyword', 'country', 'text', 'label'])\n",
        "  l=[]\n",
        "  for i in df['label']:\n",
        "    if i ==0 or i==1:\n",
        "      l.append('No PCL')\n",
        "    else:\n",
        "      l.append('PCL')\n",
        "  df['original_label']=l\n",
        "for i in df.columns:\n",
        "  df[i]=df[i].apply(clean_text)\n",
        "#df['label'] = [int(i) for i in df['label']]\n",
        "df.head()"
      ],
      "execution_count": null,
      "outputs": [
        {
          "output_type": "stream",
          "name": "stdout",
          "text": [
            "[nltk_data] Downloading package stopwords to /root/nltk_data...\n",
            "[nltk_data]   Unzipping corpora/stopwords.zip.\n",
            "[nltk_data] Downloading package wordnet to /root/nltk_data...\n",
            "[nltk_data]   Unzipping corpora/wordnet.zip.\n",
            "[nltk_data] Downloading package punkt to /root/nltk_data...\n",
            "[nltk_data]   Unzipping tokenizers/punkt.zip.\n"
          ]
        },
        {
          "output_type": "execute_result",
          "data": {
            "text/html": [
              "<div>\n",
              "<style scoped>\n",
              "    .dataframe tbody tr th:only-of-type {\n",
              "        vertical-align: middle;\n",
              "    }\n",
              "\n",
              "    .dataframe tbody tr th {\n",
              "        vertical-align: top;\n",
              "    }\n",
              "\n",
              "    .dataframe thead th {\n",
              "        text-align: right;\n",
              "    }\n",
              "</style>\n",
              "<table border=\"1\" class=\"dataframe\">\n",
              "  <thead>\n",
              "    <tr style=\"text-align: right;\">\n",
              "      <th></th>\n",
              "      <th>par_id</th>\n",
              "      <th>art_id</th>\n",
              "      <th>keyword</th>\n",
              "      <th>country</th>\n",
              "      <th>text</th>\n",
              "      <th>label</th>\n",
              "      <th>original_label</th>\n",
              "    </tr>\n",
              "  </thead>\n",
              "  <tbody>\n",
              "    <tr>\n",
              "      <th>0</th>\n",
              "      <td>1</td>\n",
              "      <td>24942188</td>\n",
              "      <td>hopeless</td>\n",
              "      <td>ph</td>\n",
              "      <td>live time absolute insanity pretty sure people...</td>\n",
              "      <td>0</td>\n",
              "      <td>pcl</td>\n",
              "    </tr>\n",
              "    <tr>\n",
              "      <th>1</th>\n",
              "      <td>2</td>\n",
              "      <td>21968160</td>\n",
              "      <td>migrant</td>\n",
              "      <td>gh</td>\n",
              "      <td>libya today countless number ghanaian nigerian...</td>\n",
              "      <td>0</td>\n",
              "      <td>pcl</td>\n",
              "    </tr>\n",
              "    <tr>\n",
              "      <th>2</th>\n",
              "      <td>3</td>\n",
              "      <td>16584954</td>\n",
              "      <td>immigrant</td>\n",
              "      <td>ie</td>\n",
              "      <td>white house press secretary sean spicer say fo...</td>\n",
              "      <td>0</td>\n",
              "      <td>pcl</td>\n",
              "    </tr>\n",
              "    <tr>\n",
              "      <th>3</th>\n",
              "      <td>4</td>\n",
              "      <td>7811231</td>\n",
              "      <td>disable</td>\n",
              "      <td>nz</td>\n",
              "      <td>council customer sign would display two space ...</td>\n",
              "      <td>0</td>\n",
              "      <td>pcl</td>\n",
              "    </tr>\n",
              "    <tr>\n",
              "      <th>4</th>\n",
              "      <td>5</td>\n",
              "      <td>1494111</td>\n",
              "      <td>refugee</td>\n",
              "      <td>ca</td>\n",
              "      <td>like receive migrant flee el salvador guatemal...</td>\n",
              "      <td>0</td>\n",
              "      <td>pcl</td>\n",
              "    </tr>\n",
              "  </tbody>\n",
              "</table>\n",
              "</div>"
            ],
            "text/plain": [
              "  par_id    art_id  ... label original_label\n",
              "0      1  24942188  ...     0            pcl\n",
              "1      2  21968160  ...     0            pcl\n",
              "2      3  16584954  ...     0            pcl\n",
              "3      4   7811231  ...     0            pcl\n",
              "4      5   1494111  ...     0            pcl\n",
              "\n",
              "[5 rows x 7 columns]"
            ]
          },
          "metadata": {},
          "execution_count": 3
        }
      ]
    },
    {
      "cell_type": "markdown",
      "metadata": {
        "id": "1aLI3Dj-oFY9"
      },
      "source": [
        "**ML MODELS**"
      ]
    },
    {
      "cell_type": "code",
      "metadata": {
        "colab": {
          "base_uri": "https://localhost:8080/",
          "height": 256
        },
        "id": "zT0WiHLsoKqZ",
        "outputId": "bf24ddad-4c21-4899-fca4-f5d20f546a06"
      },
      "source": [
        "tfidf_transformer1 = TfidfVectorizer()\n",
        "x=df['text']\n",
        "y=df['label']\n",
        "x1= tfidf_transformer1.fit_transform(x)\n",
        "x1 = x1.toarray()\n",
        "pcas = PCA(500).fit(x1)\n",
        "x1 = pcas.transform(x1)\n",
        "dt=pd.DataFrame(x1)\n",
        "dt.head()"
      ],
      "execution_count": null,
      "outputs": [
        {
          "output_type": "execute_result",
          "data": {
            "text/html": [
              "<div>\n",
              "<style scoped>\n",
              "    .dataframe tbody tr th:only-of-type {\n",
              "        vertical-align: middle;\n",
              "    }\n",
              "\n",
              "    .dataframe tbody tr th {\n",
              "        vertical-align: top;\n",
              "    }\n",
              "\n",
              "    .dataframe thead th {\n",
              "        text-align: right;\n",
              "    }\n",
              "</style>\n",
              "<table border=\"1\" class=\"dataframe\">\n",
              "  <thead>\n",
              "    <tr style=\"text-align: right;\">\n",
              "      <th></th>\n",
              "      <th>0</th>\n",
              "      <th>1</th>\n",
              "      <th>2</th>\n",
              "      <th>3</th>\n",
              "      <th>4</th>\n",
              "      <th>5</th>\n",
              "      <th>6</th>\n",
              "      <th>7</th>\n",
              "      <th>8</th>\n",
              "      <th>9</th>\n",
              "      <th>10</th>\n",
              "      <th>11</th>\n",
              "      <th>12</th>\n",
              "      <th>13</th>\n",
              "      <th>14</th>\n",
              "      <th>15</th>\n",
              "      <th>16</th>\n",
              "      <th>17</th>\n",
              "      <th>18</th>\n",
              "      <th>19</th>\n",
              "      <th>20</th>\n",
              "      <th>21</th>\n",
              "      <th>22</th>\n",
              "      <th>23</th>\n",
              "      <th>24</th>\n",
              "      <th>25</th>\n",
              "      <th>26</th>\n",
              "      <th>27</th>\n",
              "      <th>28</th>\n",
              "      <th>29</th>\n",
              "      <th>30</th>\n",
              "      <th>31</th>\n",
              "      <th>32</th>\n",
              "      <th>33</th>\n",
              "      <th>34</th>\n",
              "      <th>35</th>\n",
              "      <th>36</th>\n",
              "      <th>37</th>\n",
              "      <th>38</th>\n",
              "      <th>39</th>\n",
              "      <th>...</th>\n",
              "      <th>460</th>\n",
              "      <th>461</th>\n",
              "      <th>462</th>\n",
              "      <th>463</th>\n",
              "      <th>464</th>\n",
              "      <th>465</th>\n",
              "      <th>466</th>\n",
              "      <th>467</th>\n",
              "      <th>468</th>\n",
              "      <th>469</th>\n",
              "      <th>470</th>\n",
              "      <th>471</th>\n",
              "      <th>472</th>\n",
              "      <th>473</th>\n",
              "      <th>474</th>\n",
              "      <th>475</th>\n",
              "      <th>476</th>\n",
              "      <th>477</th>\n",
              "      <th>478</th>\n",
              "      <th>479</th>\n",
              "      <th>480</th>\n",
              "      <th>481</th>\n",
              "      <th>482</th>\n",
              "      <th>483</th>\n",
              "      <th>484</th>\n",
              "      <th>485</th>\n",
              "      <th>486</th>\n",
              "      <th>487</th>\n",
              "      <th>488</th>\n",
              "      <th>489</th>\n",
              "      <th>490</th>\n",
              "      <th>491</th>\n",
              "      <th>492</th>\n",
              "      <th>493</th>\n",
              "      <th>494</th>\n",
              "      <th>495</th>\n",
              "      <th>496</th>\n",
              "      <th>497</th>\n",
              "      <th>498</th>\n",
              "      <th>499</th>\n",
              "    </tr>\n",
              "  </thead>\n",
              "  <tbody>\n",
              "    <tr>\n",
              "      <th>0</th>\n",
              "      <td>-0.012012</td>\n",
              "      <td>-0.043367</td>\n",
              "      <td>0.039508</td>\n",
              "      <td>-0.047414</td>\n",
              "      <td>0.022077</td>\n",
              "      <td>-0.031832</td>\n",
              "      <td>-0.014004</td>\n",
              "      <td>0.068254</td>\n",
              "      <td>-0.002538</td>\n",
              "      <td>0.058075</td>\n",
              "      <td>-0.003566</td>\n",
              "      <td>-0.014553</td>\n",
              "      <td>-0.013387</td>\n",
              "      <td>0.025226</td>\n",
              "      <td>-0.008143</td>\n",
              "      <td>-0.033696</td>\n",
              "      <td>0.023270</td>\n",
              "      <td>0.028396</td>\n",
              "      <td>0.022438</td>\n",
              "      <td>0.038161</td>\n",
              "      <td>0.018377</td>\n",
              "      <td>-0.005084</td>\n",
              "      <td>-0.010551</td>\n",
              "      <td>-0.017469</td>\n",
              "      <td>0.005503</td>\n",
              "      <td>0.000466</td>\n",
              "      <td>0.010052</td>\n",
              "      <td>-0.033586</td>\n",
              "      <td>-0.013652</td>\n",
              "      <td>0.020902</td>\n",
              "      <td>0.033782</td>\n",
              "      <td>-0.027533</td>\n",
              "      <td>0.011989</td>\n",
              "      <td>-0.028920</td>\n",
              "      <td>-0.030482</td>\n",
              "      <td>0.010439</td>\n",
              "      <td>0.011211</td>\n",
              "      <td>0.023833</td>\n",
              "      <td>0.004557</td>\n",
              "      <td>-0.024289</td>\n",
              "      <td>...</td>\n",
              "      <td>-0.029404</td>\n",
              "      <td>-0.022921</td>\n",
              "      <td>0.014913</td>\n",
              "      <td>-0.035322</td>\n",
              "      <td>-0.030175</td>\n",
              "      <td>-0.005661</td>\n",
              "      <td>-0.011427</td>\n",
              "      <td>-0.007382</td>\n",
              "      <td>-0.022622</td>\n",
              "      <td>-0.013059</td>\n",
              "      <td>-0.013909</td>\n",
              "      <td>0.022306</td>\n",
              "      <td>-0.005039</td>\n",
              "      <td>0.011876</td>\n",
              "      <td>0.019545</td>\n",
              "      <td>0.008543</td>\n",
              "      <td>0.010908</td>\n",
              "      <td>0.030069</td>\n",
              "      <td>0.002995</td>\n",
              "      <td>-0.037179</td>\n",
              "      <td>-0.013327</td>\n",
              "      <td>0.039142</td>\n",
              "      <td>0.000768</td>\n",
              "      <td>-0.006526</td>\n",
              "      <td>-0.031632</td>\n",
              "      <td>0.046409</td>\n",
              "      <td>-0.016983</td>\n",
              "      <td>0.005627</td>\n",
              "      <td>0.023789</td>\n",
              "      <td>-0.023068</td>\n",
              "      <td>-0.007934</td>\n",
              "      <td>0.000273</td>\n",
              "      <td>0.018430</td>\n",
              "      <td>0.013627</td>\n",
              "      <td>0.009391</td>\n",
              "      <td>0.019864</td>\n",
              "      <td>0.004096</td>\n",
              "      <td>0.032527</td>\n",
              "      <td>0.024831</td>\n",
              "      <td>-0.025416</td>\n",
              "    </tr>\n",
              "    <tr>\n",
              "      <th>1</th>\n",
              "      <td>-0.069546</td>\n",
              "      <td>0.030708</td>\n",
              "      <td>-0.073707</td>\n",
              "      <td>-0.030648</td>\n",
              "      <td>0.007586</td>\n",
              "      <td>0.021000</td>\n",
              "      <td>0.042132</td>\n",
              "      <td>-0.006712</td>\n",
              "      <td>-0.001857</td>\n",
              "      <td>0.043321</td>\n",
              "      <td>-0.008457</td>\n",
              "      <td>0.019736</td>\n",
              "      <td>0.014180</td>\n",
              "      <td>-0.022192</td>\n",
              "      <td>0.007465</td>\n",
              "      <td>0.076654</td>\n",
              "      <td>-0.015412</td>\n",
              "      <td>-0.026911</td>\n",
              "      <td>0.000386</td>\n",
              "      <td>0.018212</td>\n",
              "      <td>-0.029738</td>\n",
              "      <td>-0.037651</td>\n",
              "      <td>-0.000594</td>\n",
              "      <td>0.003799</td>\n",
              "      <td>0.037853</td>\n",
              "      <td>0.009575</td>\n",
              "      <td>-0.021678</td>\n",
              "      <td>-0.010171</td>\n",
              "      <td>0.004117</td>\n",
              "      <td>-0.013084</td>\n",
              "      <td>0.027042</td>\n",
              "      <td>-0.059243</td>\n",
              "      <td>-0.042718</td>\n",
              "      <td>0.000726</td>\n",
              "      <td>0.019708</td>\n",
              "      <td>0.023014</td>\n",
              "      <td>0.001687</td>\n",
              "      <td>0.017208</td>\n",
              "      <td>0.006291</td>\n",
              "      <td>-0.050856</td>\n",
              "      <td>...</td>\n",
              "      <td>0.003593</td>\n",
              "      <td>-0.010575</td>\n",
              "      <td>0.006235</td>\n",
              "      <td>-0.031366</td>\n",
              "      <td>0.035348</td>\n",
              "      <td>-0.046135</td>\n",
              "      <td>0.007838</td>\n",
              "      <td>-0.004402</td>\n",
              "      <td>0.012917</td>\n",
              "      <td>-0.019118</td>\n",
              "      <td>0.016102</td>\n",
              "      <td>-0.012693</td>\n",
              "      <td>-0.007588</td>\n",
              "      <td>0.020422</td>\n",
              "      <td>0.001855</td>\n",
              "      <td>-0.015251</td>\n",
              "      <td>-0.016626</td>\n",
              "      <td>-0.047948</td>\n",
              "      <td>0.029048</td>\n",
              "      <td>-0.015984</td>\n",
              "      <td>-0.000964</td>\n",
              "      <td>-0.001927</td>\n",
              "      <td>0.010850</td>\n",
              "      <td>-0.011488</td>\n",
              "      <td>-0.005822</td>\n",
              "      <td>0.024316</td>\n",
              "      <td>0.036836</td>\n",
              "      <td>-0.009113</td>\n",
              "      <td>-0.018481</td>\n",
              "      <td>-0.003887</td>\n",
              "      <td>-0.030367</td>\n",
              "      <td>-0.000003</td>\n",
              "      <td>0.030725</td>\n",
              "      <td>-0.020159</td>\n",
              "      <td>0.017683</td>\n",
              "      <td>0.003844</td>\n",
              "      <td>0.003619</td>\n",
              "      <td>0.002024</td>\n",
              "      <td>0.002787</td>\n",
              "      <td>-0.037025</td>\n",
              "    </tr>\n",
              "    <tr>\n",
              "      <th>2</th>\n",
              "      <td>-0.067972</td>\n",
              "      <td>0.046724</td>\n",
              "      <td>-0.119317</td>\n",
              "      <td>-0.108371</td>\n",
              "      <td>-0.013408</td>\n",
              "      <td>-0.004236</td>\n",
              "      <td>0.055028</td>\n",
              "      <td>-0.021564</td>\n",
              "      <td>-0.046522</td>\n",
              "      <td>-0.147109</td>\n",
              "      <td>0.028385</td>\n",
              "      <td>-0.008314</td>\n",
              "      <td>0.043521</td>\n",
              "      <td>-0.093208</td>\n",
              "      <td>0.063468</td>\n",
              "      <td>0.008977</td>\n",
              "      <td>-0.037994</td>\n",
              "      <td>0.067008</td>\n",
              "      <td>-0.037547</td>\n",
              "      <td>-0.065254</td>\n",
              "      <td>0.032434</td>\n",
              "      <td>-0.056595</td>\n",
              "      <td>-0.011162</td>\n",
              "      <td>-0.017040</td>\n",
              "      <td>0.115892</td>\n",
              "      <td>0.122457</td>\n",
              "      <td>-0.020923</td>\n",
              "      <td>-0.034387</td>\n",
              "      <td>0.056888</td>\n",
              "      <td>0.044391</td>\n",
              "      <td>-0.038295</td>\n",
              "      <td>-0.015412</td>\n",
              "      <td>-0.002001</td>\n",
              "      <td>0.029840</td>\n",
              "      <td>-0.024825</td>\n",
              "      <td>-0.022847</td>\n",
              "      <td>-0.002642</td>\n",
              "      <td>0.006353</td>\n",
              "      <td>-0.047042</td>\n",
              "      <td>-0.002550</td>\n",
              "      <td>...</td>\n",
              "      <td>-0.038479</td>\n",
              "      <td>0.005254</td>\n",
              "      <td>0.026058</td>\n",
              "      <td>0.020910</td>\n",
              "      <td>-0.039764</td>\n",
              "      <td>-0.025815</td>\n",
              "      <td>0.045875</td>\n",
              "      <td>0.011519</td>\n",
              "      <td>0.007412</td>\n",
              "      <td>0.002898</td>\n",
              "      <td>0.019004</td>\n",
              "      <td>-0.019890</td>\n",
              "      <td>-0.008834</td>\n",
              "      <td>0.022706</td>\n",
              "      <td>0.015691</td>\n",
              "      <td>0.024854</td>\n",
              "      <td>-0.029748</td>\n",
              "      <td>-0.008640</td>\n",
              "      <td>0.007007</td>\n",
              "      <td>-0.046176</td>\n",
              "      <td>0.007203</td>\n",
              "      <td>0.030823</td>\n",
              "      <td>-0.044738</td>\n",
              "      <td>0.009305</td>\n",
              "      <td>0.013758</td>\n",
              "      <td>-0.001588</td>\n",
              "      <td>-0.000605</td>\n",
              "      <td>0.013870</td>\n",
              "      <td>-0.005065</td>\n",
              "      <td>0.011817</td>\n",
              "      <td>-0.017777</td>\n",
              "      <td>0.000507</td>\n",
              "      <td>-0.005989</td>\n",
              "      <td>0.035424</td>\n",
              "      <td>-0.013751</td>\n",
              "      <td>0.003743</td>\n",
              "      <td>0.006045</td>\n",
              "      <td>-0.010895</td>\n",
              "      <td>-0.001175</td>\n",
              "      <td>-0.024603</td>\n",
              "    </tr>\n",
              "    <tr>\n",
              "      <th>3</th>\n",
              "      <td>-0.000930</td>\n",
              "      <td>-0.044648</td>\n",
              "      <td>0.008711</td>\n",
              "      <td>-0.026099</td>\n",
              "      <td>-0.018928</td>\n",
              "      <td>0.032586</td>\n",
              "      <td>-0.084687</td>\n",
              "      <td>0.030549</td>\n",
              "      <td>-0.075745</td>\n",
              "      <td>-0.025458</td>\n",
              "      <td>-0.028778</td>\n",
              "      <td>0.045685</td>\n",
              "      <td>0.080362</td>\n",
              "      <td>-0.005945</td>\n",
              "      <td>0.081811</td>\n",
              "      <td>-0.013460</td>\n",
              "      <td>-0.078120</td>\n",
              "      <td>0.043450</td>\n",
              "      <td>-0.148385</td>\n",
              "      <td>-0.133246</td>\n",
              "      <td>0.235941</td>\n",
              "      <td>0.019551</td>\n",
              "      <td>-0.036382</td>\n",
              "      <td>-0.030087</td>\n",
              "      <td>0.125784</td>\n",
              "      <td>-0.026027</td>\n",
              "      <td>0.131054</td>\n",
              "      <td>0.016813</td>\n",
              "      <td>0.076067</td>\n",
              "      <td>-0.017332</td>\n",
              "      <td>-0.021808</td>\n",
              "      <td>-0.023772</td>\n",
              "      <td>-0.000838</td>\n",
              "      <td>0.048174</td>\n",
              "      <td>-0.000281</td>\n",
              "      <td>-0.016075</td>\n",
              "      <td>0.043970</td>\n",
              "      <td>-0.010175</td>\n",
              "      <td>-0.068018</td>\n",
              "      <td>-0.043920</td>\n",
              "      <td>...</td>\n",
              "      <td>-0.013209</td>\n",
              "      <td>0.032637</td>\n",
              "      <td>-0.023945</td>\n",
              "      <td>-0.004162</td>\n",
              "      <td>0.033980</td>\n",
              "      <td>0.060616</td>\n",
              "      <td>0.003914</td>\n",
              "      <td>0.000028</td>\n",
              "      <td>-0.001267</td>\n",
              "      <td>-0.010649</td>\n",
              "      <td>0.000785</td>\n",
              "      <td>-0.010385</td>\n",
              "      <td>0.030322</td>\n",
              "      <td>-0.005674</td>\n",
              "      <td>-0.004864</td>\n",
              "      <td>0.023667</td>\n",
              "      <td>-0.035549</td>\n",
              "      <td>0.015029</td>\n",
              "      <td>0.021599</td>\n",
              "      <td>-0.018164</td>\n",
              "      <td>0.033212</td>\n",
              "      <td>-0.003252</td>\n",
              "      <td>0.016526</td>\n",
              "      <td>-0.002808</td>\n",
              "      <td>0.026311</td>\n",
              "      <td>-0.035708</td>\n",
              "      <td>-0.018678</td>\n",
              "      <td>-0.002373</td>\n",
              "      <td>-0.028662</td>\n",
              "      <td>-0.035123</td>\n",
              "      <td>-0.003385</td>\n",
              "      <td>0.045884</td>\n",
              "      <td>0.011665</td>\n",
              "      <td>-0.014052</td>\n",
              "      <td>-0.061726</td>\n",
              "      <td>0.014183</td>\n",
              "      <td>-0.022871</td>\n",
              "      <td>0.014200</td>\n",
              "      <td>0.012162</td>\n",
              "      <td>-0.002471</td>\n",
              "    </tr>\n",
              "    <tr>\n",
              "      <th>4</th>\n",
              "      <td>-0.071431</td>\n",
              "      <td>0.060319</td>\n",
              "      <td>0.054391</td>\n",
              "      <td>0.044092</td>\n",
              "      <td>0.010027</td>\n",
              "      <td>-0.040983</td>\n",
              "      <td>-0.001835</td>\n",
              "      <td>0.037287</td>\n",
              "      <td>0.003647</td>\n",
              "      <td>-0.019347</td>\n",
              "      <td>0.033744</td>\n",
              "      <td>0.044975</td>\n",
              "      <td>0.006248</td>\n",
              "      <td>0.010431</td>\n",
              "      <td>-0.044625</td>\n",
              "      <td>0.013033</td>\n",
              "      <td>-0.002135</td>\n",
              "      <td>0.018243</td>\n",
              "      <td>0.023759</td>\n",
              "      <td>-0.017309</td>\n",
              "      <td>0.005148</td>\n",
              "      <td>0.020520</td>\n",
              "      <td>0.015277</td>\n",
              "      <td>-0.016387</td>\n",
              "      <td>-0.015938</td>\n",
              "      <td>0.025628</td>\n",
              "      <td>0.013172</td>\n",
              "      <td>0.000948</td>\n",
              "      <td>-0.002931</td>\n",
              "      <td>-0.051095</td>\n",
              "      <td>0.007147</td>\n",
              "      <td>0.016390</td>\n",
              "      <td>0.018934</td>\n",
              "      <td>0.003266</td>\n",
              "      <td>-0.017015</td>\n",
              "      <td>0.011900</td>\n",
              "      <td>0.024302</td>\n",
              "      <td>0.023572</td>\n",
              "      <td>0.023524</td>\n",
              "      <td>0.018036</td>\n",
              "      <td>...</td>\n",
              "      <td>-0.017934</td>\n",
              "      <td>-0.007157</td>\n",
              "      <td>0.003441</td>\n",
              "      <td>-0.023176</td>\n",
              "      <td>0.025346</td>\n",
              "      <td>-0.037962</td>\n",
              "      <td>0.002921</td>\n",
              "      <td>0.008509</td>\n",
              "      <td>-0.015310</td>\n",
              "      <td>0.010629</td>\n",
              "      <td>0.003434</td>\n",
              "      <td>-0.009625</td>\n",
              "      <td>-0.030952</td>\n",
              "      <td>0.030623</td>\n",
              "      <td>0.010538</td>\n",
              "      <td>0.005693</td>\n",
              "      <td>-0.024166</td>\n",
              "      <td>-0.021443</td>\n",
              "      <td>-0.015510</td>\n",
              "      <td>-0.010230</td>\n",
              "      <td>0.037761</td>\n",
              "      <td>0.006454</td>\n",
              "      <td>0.011309</td>\n",
              "      <td>-0.005952</td>\n",
              "      <td>-0.015409</td>\n",
              "      <td>0.006979</td>\n",
              "      <td>-0.003098</td>\n",
              "      <td>-0.019273</td>\n",
              "      <td>-0.018461</td>\n",
              "      <td>0.002302</td>\n",
              "      <td>0.002400</td>\n",
              "      <td>0.019827</td>\n",
              "      <td>0.035679</td>\n",
              "      <td>0.015561</td>\n",
              "      <td>-0.003557</td>\n",
              "      <td>-0.017377</td>\n",
              "      <td>0.031577</td>\n",
              "      <td>-0.035402</td>\n",
              "      <td>-0.005945</td>\n",
              "      <td>-0.029958</td>\n",
              "    </tr>\n",
              "  </tbody>\n",
              "</table>\n",
              "<p>5 rows × 500 columns</p>\n",
              "</div>"
            ],
            "text/plain": [
              "        0         1         2    ...       497       498       499\n",
              "0 -0.012012 -0.043367  0.039508  ...  0.032527  0.024831 -0.025416\n",
              "1 -0.069546  0.030708 -0.073707  ...  0.002024  0.002787 -0.037025\n",
              "2 -0.067972  0.046724 -0.119317  ... -0.010895 -0.001175 -0.024603\n",
              "3 -0.000930 -0.044648  0.008711  ...  0.014200  0.012162 -0.002471\n",
              "4 -0.071431  0.060319  0.054391  ... -0.035402 -0.005945 -0.029958\n",
              "\n",
              "[5 rows x 500 columns]"
            ]
          },
          "metadata": {},
          "execution_count": 4
        }
      ]
    },
    {
      "cell_type": "markdown",
      "metadata": {
        "id": "LyQy8Z5GROzN"
      },
      "source": [
        "Creating a Confusion Matrix and Calculating Accuracy, Precision , Recall and F scoreof the model."
      ]
    },
    {
      "cell_type": "code",
      "metadata": {
        "colab": {
          "base_uri": "https://localhost:8080/"
        },
        "id": "3L_FpnUeoOsQ",
        "outputId": "7b37144f-911d-4cd6-a4cc-b7927455d75c"
      },
      "source": [
        "def confusion_matrixs(y, yp):\n",
        "  #k = sorted(y.unique())\n",
        "  k = sorted(list(set(y)))\n",
        "  df = pd.DataFrame(index=k, columns=k)\n",
        "  df.fillna(0, inplace=True)\n",
        "  for i, j in zip(y, yp):\n",
        "    df.loc[i, j] += 1\n",
        "  sns.heatmap(df, annot=True)\n",
        "  plt.plot()\n",
        "train_x,test_x,train_y,test_y = train_test_split(x1,y, random_state = 56,test_size=0.2,stratify=y)\n",
        "X_train,y_train,X_test,y_test=train_x,train_y,test_x,test_y\n",
        "sgdl = SGDClassifier(eta0=0.0001, alpha=0.0001, loss='hinge',random_state=15, penalty='elasticnet', tol=1e-3,learning_rate='optimal')\n",
        "sgdl.fit(X_train, y_train)\n",
        "print(f'train accuracy: {sgdl.score(X_train, y_train)}')\n",
        "accuracy = accuracy_score(y_test, sgdl.predict(X_test))\n",
        "conf_mat = confusion_matrix(y_test,sgdl.predict(X_test))\n",
        "c=np.array([[i] for i in np.append(np.array([[i] for i in sgdl.coef_[0]]),[0])])\n",
        "print(\"The accuracy of the model is :\", round(accuracy,3)*100,\"%\")\n",
        "print(\"Confusion Matrix:\\n\",conf_mat)\n",
        "precision, recall, fscore, support = precision_recall_fscore_support(y_test,sgdl.predict(X_test), average='weighted')\n",
        "print('Precision = ',round(precision,4),'\\nRecall = ', round(recall,4), '\\nF-Score = ',round(fscore,4))\n",
        "#confusion_matrixs(y_test, sgdl.predict(X_test))"
      ],
      "execution_count": null,
      "outputs": [
        {
          "output_type": "stream",
          "name": "stdout",
          "text": [
            "train accuracy: 0.8167164179104478\n",
            "The accuracy of the model is : 81.5 %\n",
            "Confusion Matrix:\n",
            " [[1356    2    2    12    3]\n",
            " [ 189     1    6    5     9]\n",
            " [  29     5    2    1     0]\n",
            " [  92     3   14    4    10]\n",
            " [  77     1    1    7     1]]\n",
            "Precision =  0.7013 \n",
            "Recall =  0.8152 \n",
            "F-Score =  0.7327\n"
          ]
        }
      ]
    },
    {
      "cell_type": "markdown",
      "metadata": {
        "id": "33TLgpKwofVW"
      },
      "source": [
        "**Multi Layer Perceptron**"
      ]
    },
    {
      "cell_type": "code",
      "metadata": {
        "colab": {
          "base_uri": "https://localhost:8080/"
        },
        "id": "JeuyTv4joZs-",
        "outputId": "4d83b84c-baaf-417e-a963-de0d9dc9aabf"
      },
      "source": [
        "ANN_clf = MLPClassifier(hidden_layer_sizes=(500,250,50,10),activation='relu', solver='adam')\n",
        "X_train=train_x\n",
        "X_test=test_x\n",
        "ANN_clf.fit(X_train,train_y)\n",
        "print('Training Accuracy :',ANN_clf.score(X_train,train_y))\n",
        "print('Testing Accuracy :',ANN_clf.score(X_test,test_y))\n",
        "print(classification_report(test_y,ANN_clf.predict(X_test) ))\n",
        "print(confusion_matrix(test_y, ANN_clf.predict(X_test)))\n",
        "precision, recall, fscore, support = precision_recall_fscore_support(test_y, ANN_clf.predict(X_test), average='weighted')\n",
        "print('Precision = ',round(precision,4),'\\nRecall = ', round(recall,4), '\\nF-Score = ',round(fscore,4))\n",
        "confusion_matrixs(y_test, ANN_clf.predict(X_test))"
      ],
      "execution_count": null,
      "outputs": [
        {
          "output_type": "stream",
          "name": "stdout",
          "text": [
            "Training Accuracy : 0.9997611940298508\n",
            "Testing Accuracy : 0.7693409742120344\n",
            "              precision    recall  f1-score   support\n",
            "\n",
            "           0       0.85      0.92      0.89      1706\n",
            "           1       0.18      0.15      0.17       189\n",
            "           2       0.08      0.03      0.05        29\n",
            "           3       0.05      0.01      0.02        92\n",
            "           4       0.12      0.09      0.10        78\n",
            "\n",
            "    accuracy                           0.77      2094\n",
            "   macro avg       0.26      0.24      0.24      2094\n",
            "weighted avg       0.72      0.77      0.74      2094\n",
            "\n",
            "[[1573   90    4    9   30]\n",
            " [ 145   29    2    6    7]\n",
            " [  20    3    1    1    4]\n",
            " [  57   21    1    1   12]\n",
            " [  45   17    4    5    7]]\n",
            "Precision =  0.7203 \n",
            "Recall =  0.7693 \n",
            "F-Score =  0.743\n"
          ]
        }
      ]
    },
    {
      "cell_type": "markdown",
      "metadata": {
        "id": "cn3DmTsKoveF"
      },
      "source": [
        "**Bi-directional LSTM**"
      ]
    },
    {
      "cell_type": "code",
      "metadata": {
        "colab": {
          "base_uri": "https://localhost:8080/"
        },
        "id": "_DRlMs7Voi3s",
        "outputId": "c9c01406-8522-4792-e89a-cddd96575340"
      },
      "source": [
        "vocab_size = 5000\n",
        "embedding_dim = 64\n",
        "max_length = 200\n",
        "trunc_type = 'post'\n",
        "padding_type = 'post'\n",
        "training_portion = .8\n",
        "\n",
        "articles  = df['text']\n",
        "labels = df['label']\n",
        "\n",
        "train_size = int(len(articles) * training_portion)\n",
        "\n",
        "train_articles = articles[0: train_size]\n",
        "train_labels = labels[0: train_size]\n",
        "\n",
        "validation_articles = articles[train_size:]\n",
        "validation_labels = labels[train_size:]\n",
        "\n",
        "print(train_size)\n",
        "print(len(train_articles))\n",
        "print(len(train_labels))\n",
        "print(len(validation_articles))\n",
        "print(len(validation_labels))\n",
        "\n",
        "tokenizer = Tokenizer(num_words = vocab_size)\n",
        "tokenizer.fit_on_texts(articles)\n",
        "train_sequences = tokenizer.texts_to_sequences(train_articles)\n",
        "train_padded = pad_sequences(train_sequences, maxlen=max_length, padding=padding_type, truncating=trunc_type)\n",
        "validation_sequences = tokenizer.texts_to_sequences(validation_articles)\n",
        "validation_padded = pad_sequences(validation_sequences, maxlen=max_length, padding=padding_type, truncating=trunc_type)\n",
        "\n",
        "label_tokenizer = Tokenizer()\n",
        "label_tokenizer.fit_on_texts(labels)\n",
        "training_label_seq = np.array(label_tokenizer.texts_to_sequences(train_labels))\n",
        "validation_label_seq = np.array(label_tokenizer.texts_to_sequences(validation_labels))\n",
        "model = tf.keras.Sequential([\n",
        "    # Add an Embedding layer expecting input vocab of size 5000, and output embedding dimension of size 64 we set at the top\n",
        "    tf.keras.layers.Embedding(vocab_size, embedding_dim),\n",
        "    tf.keras.layers.Bidirectional(tf.keras.layers.LSTM(embedding_dim,  return_sequences=True)),\n",
        "    tf.keras.layers.Bidirectional(tf.keras.layers.LSTM(32)),\n",
        "    # use ReLU in place of tanh function since they are very good alternatives of each other.\n",
        "    tf.keras.layers.Dense(32, activation='relu'),\n",
        "    # Add a Dense layer with 6 units and softmax activation.\n",
        "    # When we have multiple outputs, softmax convert outputs layers into a probability distribution.\n",
        "    tf.keras.layers.Dense(6,activation='softmax')\n",
        "])\n",
        "model.summary()\n",
        "model.compile(loss='sparse_categorical_crossentropy', optimizer='adam', metrics=['accuracy'])\n",
        "num_epochs = 10\n",
        "es = EarlyStopping(patience=2)\n",
        "mc=ModelCheckpoint('time_model.h5', monitor='val_loss', mode='min', save_best_only=True,verbose=1)\n",
        "callbacks = [mc,es]\n",
        "history = model.fit(train_padded, training_label_seq, callbacks=callbacks,epochs=num_epochs, validation_data=(validation_padded, validation_label_seq), verbose=2)"
      ],
      "execution_count": null,
      "outputs": [
        {
          "output_type": "stream",
          "name": "stdout",
          "text": [
            "8375\n",
            "8375\n",
            "8375\n",
            "2094\n",
            "2094\n",
            "Model: \"sequential\"\n",
            "_________________________________________________________________\n",
            " Layer (type)                Output Shape              Param #   \n",
            "=================================================================\n",
            " embedding (Embedding)       (None, None, 64)          320000    \n",
            "                                                                 \n",
            " bidirectional (Bidirectiona  (None, None, 128)        66048     \n",
            " l)                                                              \n",
            "                                                                 \n",
            " bidirectional_1 (Bidirectio  (None, 64)               41216     \n",
            " nal)                                                            \n",
            "                                                                 \n",
            " dense (Dense)               (None, 32)                2080      \n",
            "                                                                 \n",
            " dense_1 (Dense)             (None, 6)                 198       \n",
            "                                                                 \n",
            "=================================================================\n",
            "Total params: 429,542\n",
            "Trainable params: 429,542\n",
            "Non-trainable params: 0\n",
            "_________________________________________________________________\n",
            "Epoch 1/10\n",
            "\n",
            "Epoch 00001: val_loss improved from inf to 0.61874, saving model to time_model.h5\n",
            "262/262 - 59s - loss: 0.7312 - accuracy: 0.8117 - val_loss: 0.6187 - val_accuracy: 0.8171 - 59s/epoch - 226ms/step\n",
            "Epoch 2/10\n",
            "\n",
            "Epoch 00002: val_loss improved from 0.61874 to 0.61702, saving model to time_model.h5\n",
            "262/262 - 47s - loss: 0.5524 - accuracy: 0.8172 - val_loss: 0.6170 - val_accuracy: 0.8195 - 47s/epoch - 181ms/step\n",
            "Epoch 3/10\n",
            "\n",
            "Epoch 00003: val_loss did not improve from 0.61702\n",
            "262/262 - 47s - loss: 0.4663 - accuracy: 0.8325 - val_loss: 0.6749 - val_accuracy: 0.8128 - 47s/epoch - 181ms/step\n",
            "Epoch 4/10\n",
            "\n",
            "Epoch 00004: val_loss did not improve from 0.61702\n",
            "262/262 - 48s - loss: 0.3892 - accuracy: 0.8611 - val_loss: 0.7387 - val_accuracy: 0.7751 - 48s/epoch - 182ms/step\n"
          ]
        }
      ]
    },
    {
      "cell_type": "code",
      "metadata": {
        "id": "tjHG8VZC06H2"
      },
      "source": [
        "import pickle\n",
        "model = tf.keras.models.load_model('time_model.h5')"
      ],
      "execution_count": null,
      "outputs": []
    },
    {
      "cell_type": "markdown",
      "metadata": {
        "id": "tDBr8lc9SQCC"
      },
      "source": [
        "The Following Graph shows that training and validation Accuracy increases with each epoch, where as loss decreases with each epoch. though there is some dip at 7th epoch, by the end of 10 epochs the accuracy gradually increased and loss gradually decreased."
      ]
    },
    {
      "cell_type": "code",
      "metadata": {
        "colab": {
          "base_uri": "https://localhost:8080/",
          "height": 388
        },
        "id": "0IQLNVk8MvRW",
        "outputId": "5acdb6ba-ef4c-471a-8b63-b9dc83db30b4"
      },
      "source": [
        "def plot_graphs(history, string):\n",
        "  plt.plot(history.history[string])\n",
        "  plt.plot(history.history['val_'+string])\n",
        "  plt.xlabel(\"Epochs\")\n",
        "  plt.ylabel(string)\n",
        "  plt.legend([string, 'val_'+string])\n",
        "  plt.show()\n",
        "\n",
        "plot_graphs(history, \"accuracy\")\n",
        "plot_graphs(history, \"loss\")"
      ],
      "execution_count": null,
      "outputs": [
        {
          "output_type": "display_data",
          "data": {
            "image/png": "[encoded data removed]",
            "text/plain": [
              "<Figure size 1152x432 with 2 Axes>"
            ]
          },
          "metadata": {
            "needs_background": "light"
          }
        }
      ]
    },
    {
      "cell_type": "code",
      "metadata": {
        "colab": {
          "base_uri": "https://localhost:8080/"
        },
        "id": "wrWdzyaJpVeK",
        "outputId": "77d271dd-09cb-4e0f-ea32-6d6d10612e6c"
      },
      "source": [
        "scores = model.evaluate(validation_padded, validation_label_seq, verbose=0)\n",
        "print(\"Accuracy: %.2f%%\" % (scores[1] * 100))"
      ],
      "execution_count": null,
      "outputs": [
        {
          "output_type": "stream",
          "name": "stdout",
          "text": [
            "Accuracy: 81.95%\n"
          ]
        }
      ]
    },
    {
      "cell_type": "code",
      "metadata": {
        "colab": {
          "base_uri": "https://localhost:8080/"
        },
        "id": "_-0SoH-IpC3l",
        "outputId": "c63ebdc7-ae05-48c0-ccd2-c55e173a813f"
      },
      "source": [
        "txt = df['text'][random.randrange(0,len(df))]\n",
        "seq = tokenizer.texts_to_sequences(txt)\n",
        "padded = pad_sequences(seq, maxlen=max_length)\n",
        "pred = model.predict(padded)\n",
        "labels = ['0', '1', '3', '4', '2']\n",
        "k=[]\n",
        "for i in range(pred.shape[1]):\n",
        "  l=[]\n",
        "  for j in range(pred.shape[0]):\n",
        "      l.append(pred[j][i])\n",
        "  k.append(sum(l))\n",
        "print(labels[np.argmax(k)])"
      ],
      "execution_count": null,
      "outputs": [
        {
          "output_type": "stream",
          "name": "stdout",
          "text": [
            "1\n"
          ]
        }
      ]
    },
    {
      "cell_type": "markdown",
      "metadata": {
        "id": "uR6Ax24khRcG"
      },
      "source": [
        "**TensorFlow Roberta Model**"
      ]
    },
    {
      "cell_type": "code",
      "metadata": {
        "colab": {
          "base_uri": "https://localhost:8080/"
        },
        "id": "2fSAETNWaUON",
        "outputId": "02464437-58be-4c90-990f-d333f4cd2a8e"
      },
      "source": [
        "# Detect hardware, return appropriate distribution strategy (you can see that it is pretty easy to set up).\n",
        "try:\n",
        "    # TPU detection. No parameters necessary if TPU_NAME environment variable is set (always set in Kaggle)\n",
        "    tpu = tf.distribute.cluster_resolver.TPUClusterResolver()\n",
        "    tf.config.experimental_connect_to_cluster(tpu)\n",
        "    tf.tpu.experimental.initialize_tpu_system(tpu)\n",
        "    strategy = tf.distribute.experimental.TPUStrategy(tpu)\n",
        "    #print('Running on TPU ', tpu.master())\n",
        "except ValueError:\n",
        "    # Default distribution strategy in Tensorflow. Works on CPU and single GPU.\n",
        "    strategy = tf.distribute.get_strategy()\n",
        "\n",
        "#print('Number of replicas:', strategy.num_replicas_in_sync)\n",
        "MODEL_NAME = 'roberta-base'\n",
        "MAX_LEN = 256\n",
        "#ARTIFACTS_PATH = '../artifacts/'\n",
        "\n",
        "BATCH_SIZE = 8 * strategy.num_replicas_in_sync\n",
        "EPOCHS = 3\n",
        "\n",
        "'''if not os.path.exists(ARTIFACTS_PATH):\n",
        "    os.makedirs(ARTIFACTS_PATH)'''\n",
        "X_data = df[['text']].to_numpy().reshape(-1)\n",
        "y_data = df[['label']].to_numpy().reshape(-1)\n",
        "def roberta_encode(texts, tokenizer):\n",
        "    ct = len(texts)\n",
        "    input_ids = np.ones((ct, MAX_LEN), dtype='int32')\n",
        "    attention_mask = np.zeros((ct, MAX_LEN), dtype='int32')\n",
        "    token_type_ids = np.zeros((ct, MAX_LEN), dtype='int32') # Not used in text classification\n",
        "\n",
        "    for k, text in enumerate(texts):\n",
        "        # Tokenize\n",
        "        tok_text = tokenizer.tokenize(text)\n",
        "        \n",
        "        # Truncate and convert tokens to numerical IDs\n",
        "        enc_text = tokenizer.convert_tokens_to_ids(tok_text[:(MAX_LEN-2)])\n",
        "        \n",
        "        input_length = len(enc_text) + 2\n",
        "        input_length = input_length if input_length < MAX_LEN else MAX_LEN\n",
        "        \n",
        "        # Add tokens [CLS] and [SEP] at the beginning and the end\n",
        "        input_ids[k,:input_length] = np.asarray([0] + enc_text + [2], dtype='int32')\n",
        "        \n",
        "        # Set to 1s in the attention input\n",
        "        attention_mask[k,:input_length] = 1\n",
        "\n",
        "    return {\n",
        "        'input_word_ids': input_ids,\n",
        "        'input_mask': attention_mask,\n",
        "        'input_type_ids': token_type_ids\n",
        "    }\n",
        "X_train, X_test, y_train, y_test = train_test_split(X_data, y_data, test_size=0.3, random_state=777)\n",
        "# Import tokenizer from HuggingFace\n",
        "tokenizer = RobertaTokenizer.from_pretrained(MODEL_NAME)\n",
        "X_train = roberta_encode(X_train, tokenizer)\n",
        "X_test = roberta_encode(X_test, tokenizer)\n",
        "\n",
        "y_train = np.asarray(y_train, dtype='int32')\n",
        "y_test = np.asarray(y_test, dtype='int32')\n",
        "with strategy.scope():\n",
        "    roberta_model = TFRobertaModel.from_pretrained(MODEL_NAME)\n",
        "def build_model(n_categories,roberta_model):\n",
        "    with strategy.scope():\n",
        "        input_word_ids = tf.keras.Input(shape=(MAX_LEN,), dtype=tf.int32, name='input_word_ids')\n",
        "        input_mask = tf.keras.Input(shape=(MAX_LEN,), dtype=tf.int32, name='input_mask')\n",
        "        input_type_ids = tf.keras.Input(shape=(MAX_LEN,), dtype=tf.int32, name='input_type_ids')\n",
        "\n",
        "        # Import RoBERTa model from HuggingFace\n",
        "        \n",
        "        x = roberta_model(input_word_ids, attention_mask=input_mask, token_type_ids=input_type_ids)\n",
        "\n",
        "        # Huggingface transformers have multiple outputs, embeddings are the first one,\n",
        "        # so let's slice out the first position\n",
        "        x = x[0]\n",
        "\n",
        "        x = tf.keras.layers.Dropout(0.2)(x)\n",
        "        x = tf.keras.layers.Flatten()(x)\n",
        "        x = tf.keras.layers.Dense(256, activation='tanh')(x)\n",
        "        x = tf.keras.layers.Dropout(0.2)(x)\n",
        "        x = tf.keras.layers.Dense(128, activation='tanh')(x)\n",
        "        x = tf.keras.layers.Dropout(0.2)(x)\n",
        "        x = tf.keras.layers.Dense(40, activation='tanh')(x)\n",
        "        x = tf.keras.layers.Dense(n_categories, activation='softmax')(x)\n",
        "\n",
        "        model = tf.keras.Model(inputs=[input_word_ids, input_mask, input_type_ids], outputs=x)\n",
        "        model.compile(\n",
        "            optimizer=tf.keras.optimizers.Adam(lr=1e-5),\n",
        "            loss='sparse_categorical_crossentropy',\n",
        "            metrics=['accuracy'])\n",
        "\n",
        "        return model\n",
        "with strategy.scope():\n",
        "    model = build_model(len(df['label'].unique()),roberta_model)\n",
        "    model.summary()"
      ],
      "execution_count": null,
      "outputs": [
        {
          "output_type": "stream",
          "name": "stdout",
          "text": [
            "INFO:tensorflow:Deallocate tpu buffers before initializing tpu system.\n"
          ]
        },
        {
          "output_type": "stream",
          "name": "stderr",
          "text": [
            "INFO:tensorflow:Deallocate tpu buffers before initializing tpu system.\n"
          ]
        },
        {
          "output_type": "stream",
          "name": "stdout",
          "text": [
            "WARNING:tensorflow:TPU system grpc://10.58.38.178:8470 has already been initialized. Reinitializing the TPU can cause previously created variables on TPU to be lost.\n"
          ]
        },
        {
          "output_type": "stream",
          "name": "stderr",
          "text": [
            "WARNING:tensorflow:TPU system grpc://10.58.38.178:8470 has already been initialized. Reinitializing the TPU can cause previously created variables on TPU to be lost.\n"
          ]
        },
        {
          "output_type": "stream",
          "name": "stdout",
          "text": [
            "INFO:tensorflow:Initializing the TPU system: grpc://10.58.38.178:8470\n"
          ]
        },
        {
          "output_type": "stream",
          "name": "stderr",
          "text": [
            "INFO:tensorflow:Initializing the TPU system: grpc://10.58.38.178:8470\n"
          ]
        },
        {
          "output_type": "stream",
          "name": "stdout",
          "text": [
            "INFO:tensorflow:Finished initializing TPU system.\n"
          ]
        },
        {
          "output_type": "stream",
          "name": "stderr",
          "text": [
            "INFO:tensorflow:Finished initializing TPU system.\n",
            "WARNING:absl:`tf.distribute.experimental.TPUStrategy` is deprecated, please use  the non experimental symbol `tf.distribute.TPUStrategy` instead.\n"
          ]
        },
        {
          "output_type": "stream",
          "name": "stdout",
          "text": [
            "INFO:tensorflow:Found TPU system:\n"
          ]
        },
        {
          "output_type": "stream",
          "name": "stderr",
          "text": [
            "INFO:tensorflow:Found TPU system:\n"
          ]
        },
        {
          "output_type": "stream",
          "name": "stdout",
          "text": [
            "INFO:tensorflow:*** Num TPU Cores: 8\n"
          ]
        },
        {
          "output_type": "stream",
          "name": "stderr",
          "text": [
            "INFO:tensorflow:*** Num TPU Cores: 8\n"
          ]
        },
        {
          "output_type": "stream",
          "name": "stdout",
          "text": [
            "INFO:tensorflow:*** Num TPU Workers: 1\n"
          ]
        },
        {
          "output_type": "stream",
          "name": "stderr",
          "text": [
            "INFO:tensorflow:*** Num TPU Workers: 1\n"
          ]
        },
        {
          "output_type": "stream",
          "name": "stdout",
          "text": [
            "INFO:tensorflow:*** Num TPU Cores Per Worker: 8\n"
          ]
        },
        {
          "output_type": "stream",
          "name": "stderr",
          "text": [
            "INFO:tensorflow:*** Num TPU Cores Per Worker: 8\n"
          ]
        },
        {
          "output_type": "stream",
          "name": "stdout",
          "text": [
            "INFO:tensorflow:*** Available Device: _DeviceAttributes(/job:localhost/replica:0/task:0/device:CPU:0, CPU, 0, 0)\n"
          ]
        },
        {
          "output_type": "stream",
          "name": "stderr",
          "text": [
            "INFO:tensorflow:*** Available Device: _DeviceAttributes(/job:localhost/replica:0/task:0/device:CPU:0, CPU, 0, 0)\n"
          ]
        },
        {
          "output_type": "stream",
          "name": "stdout",
          "text": [
            "INFO:tensorflow:*** Available Device: _DeviceAttributes(/job:worker/replica:0/task:0/device:CPU:0, CPU, 0, 0)\n"
          ]
        },
        {
          "output_type": "stream",
          "name": "stderr",
          "text": [
            "INFO:tensorflow:*** Available Device: _DeviceAttributes(/job:worker/replica:0/task:0/device:CPU:0, CPU, 0, 0)\n"
          ]
        },
        {
          "output_type": "stream",
          "name": "stdout",
          "text": [
            "INFO:tensorflow:*** Available Device: _DeviceAttributes(/job:worker/replica:0/task:0/device:TPU:0, TPU, 0, 0)\n"
          ]
        },
        {
          "output_type": "stream",
          "name": "stderr",
          "text": [
            "INFO:tensorflow:*** Available Device: _DeviceAttributes(/job:worker/replica:0/task:0/device:TPU:0, TPU, 0, 0)\n"
          ]
        },
        {
          "output_type": "stream",
          "name": "stdout",
          "text": [
            "INFO:tensorflow:*** Available Device: _DeviceAttributes(/job:worker/replica:0/task:0/device:TPU:1, TPU, 0, 0)\n"
          ]
        },
        {
          "output_type": "stream",
          "name": "stderr",
          "text": [
            "INFO:tensorflow:*** Available Device: _DeviceAttributes(/job:worker/replica:0/task:0/device:TPU:1, TPU, 0, 0)\n"
          ]
        },
        {
          "output_type": "stream",
          "name": "stdout",
          "text": [
            "INFO:tensorflow:*** Available Device: _DeviceAttributes(/job:worker/replica:0/task:0/device:TPU:2, TPU, 0, 0)\n"
          ]
        },
        {
          "output_type": "stream",
          "name": "stderr",
          "text": [
            "INFO:tensorflow:*** Available Device: _DeviceAttributes(/job:worker/replica:0/task:0/device:TPU:2, TPU, 0, 0)\n"
          ]
        },
        {
          "output_type": "stream",
          "name": "stdout",
          "text": [
            "INFO:tensorflow:*** Available Device: _DeviceAttributes(/job:worker/replica:0/task:0/device:TPU:3, TPU, 0, 0)\n"
          ]
        },
        {
          "output_type": "stream",
          "name": "stderr",
          "text": [
            "INFO:tensorflow:*** Available Device: _DeviceAttributes(/job:worker/replica:0/task:0/device:TPU:3, TPU, 0, 0)\n"
          ]
        },
        {
          "output_type": "stream",
          "name": "stdout",
          "text": [
            "INFO:tensorflow:*** Available Device: _DeviceAttributes(/job:worker/replica:0/task:0/device:TPU:4, TPU, 0, 0)\n"
          ]
        },
        {
          "output_type": "stream",
          "name": "stderr",
          "text": [
            "INFO:tensorflow:*** Available Device: _DeviceAttributes(/job:worker/replica:0/task:0/device:TPU:4, TPU, 0, 0)\n"
          ]
        },
        {
          "output_type": "stream",
          "name": "stdout",
          "text": [
            "INFO:tensorflow:*** Available Device: _DeviceAttributes(/job:worker/replica:0/task:0/device:TPU:5, TPU, 0, 0)\n"
          ]
        },
        {
          "output_type": "stream",
          "name": "stderr",
          "text": [
            "INFO:tensorflow:*** Available Device: _DeviceAttributes(/job:worker/replica:0/task:0/device:TPU:5, TPU, 0, 0)\n"
          ]
        },
        {
          "output_type": "stream",
          "name": "stdout",
          "text": [
            "INFO:tensorflow:*** Available Device: _DeviceAttributes(/job:worker/replica:0/task:0/device:TPU:6, TPU, 0, 0)\n"
          ]
        },
        {
          "output_type": "stream",
          "name": "stderr",
          "text": [
            "INFO:tensorflow:*** Available Device: _DeviceAttributes(/job:worker/replica:0/task:0/device:TPU:6, TPU, 0, 0)\n"
          ]
        },
        {
          "output_type": "stream",
          "name": "stdout",
          "text": [
            "INFO:tensorflow:*** Available Device: _DeviceAttributes(/job:worker/replica:0/task:0/device:TPU:7, TPU, 0, 0)\n"
          ]
        },
        {
          "output_type": "stream",
          "name": "stderr",
          "text": [
            "INFO:tensorflow:*** Available Device: _DeviceAttributes(/job:worker/replica:0/task:0/device:TPU:7, TPU, 0, 0)\n"
          ]
        },
        {
          "output_type": "stream",
          "name": "stdout",
          "text": [
            "INFO:tensorflow:*** Available Device: _DeviceAttributes(/job:worker/replica:0/task:0/device:TPU_SYSTEM:0, TPU_SYSTEM, 0, 0)\n"
          ]
        },
        {
          "output_type": "stream",
          "name": "stderr",
          "text": [
            "INFO:tensorflow:*** Available Device: _DeviceAttributes(/job:worker/replica:0/task:0/device:TPU_SYSTEM:0, TPU_SYSTEM, 0, 0)\n"
          ]
        },
        {
          "output_type": "stream",
          "name": "stdout",
          "text": [
            "INFO:tensorflow:*** Available Device: _DeviceAttributes(/job:worker/replica:0/task:0/device:XLA_CPU:0, XLA_CPU, 0, 0)\n"
          ]
        },
        {
          "output_type": "stream",
          "name": "stderr",
          "text": [
            "INFO:tensorflow:*** Available Device: _DeviceAttributes(/job:worker/replica:0/task:0/device:XLA_CPU:0, XLA_CPU, 0, 0)\n",
            "Some layers from the model checkpoint at roberta-base were not used when initializing TFRobertaModel: ['lm_head']\n",
            "- This IS expected if you are initializing TFRobertaModel from the checkpoint of a model trained on another task or with another architecture (e.g. initializing a BertForSequenceClassification model from a BertForPreTraining model).\n",
            "- This IS NOT expected if you are initializing TFRobertaModel from the checkpoint of a model that you expect to be exactly identical (initializing a BertForSequenceClassification model from a BertForSequenceClassification model).\n",
            "All the layers of TFRobertaModel were initialized from the model checkpoint at roberta-base.\n",
            "If your task is similar to the task the model of the checkpoint was trained on, you can already use TFRobertaModel for predictions without further training.\n"
          ]
        },
        {
          "output_type": "stream",
          "name": "stdout",
          "text": [
            "Model: \"model_1\"\n",
            "__________________________________________________________________________________________________\n",
            " Layer (type)                   Output Shape         Param #     Connected to                     \n",
            "==================================================================================================\n",
            " input_word_ids (InputLayer)    [(None, 256)]        0           []                               \n",
            "                                                                                                  \n",
            " input_mask (InputLayer)        [(None, 256)]        0           []                               \n",
            "                                                                                                  \n",
            " input_type_ids (InputLayer)    [(None, 256)]        0           []                               \n",
            "                                                                                                  \n",
            " tf_roberta_model_1 (TFRobertaM  TFBaseModelOutputWi  124645632  ['input_word_ids[0][0]',         \n",
            " odel)                          thPoolingAndCrossAt               'input_mask[0][0]',             \n",
            "                                tentions(last_hidde               'input_type_ids[0][0]']         \n",
            "                                n_state=(None, 256,                                               \n",
            "                                 768),                                                            \n",
            "                                 pooler_output=(Non                                               \n",
            "                                e, 768),                                                          \n",
            "                                 past_key_values=No                                               \n",
            "                                ne, hidden_states=N                                               \n",
            "                                one, attentions=Non                                               \n",
            "                                e, cross_attentions                                               \n",
            "                                =None)                                                            \n",
            "                                                                                                  \n",
            " dropout_75 (Dropout)           (None, 256, 768)     0           ['tf_roberta_model_1[0][0]']     \n",
            "                                                                                                  \n",
            " flatten_1 (Flatten)            (None, 196608)       0           ['dropout_75[0][0]']             \n",
            "                                                                                                  \n",
            " dense_6 (Dense)                (None, 256)          50331904    ['flatten_1[0][0]']              \n",
            "                                                                                                  \n",
            " dropout_76 (Dropout)           (None, 256)          0           ['dense_6[0][0]']                \n",
            "                                                                                                  \n",
            " dense_7 (Dense)                (None, 128)          32896       ['dropout_76[0][0]']             \n",
            "                                                                                                  \n",
            " dropout_77 (Dropout)           (None, 128)          0           ['dense_7[0][0]']                \n",
            "                                                                                                  \n",
            " dense_8 (Dense)                (None, 40)           5160        ['dropout_77[0][0]']             \n",
            "                                                                                                  \n",
            " dense_9 (Dense)                (None, 5)            205         ['dense_8[0][0]']                \n",
            "                                                                                                  \n",
            "==================================================================================================\n",
            "Total params: 175,015,797\n",
            "Trainable params: 175,015,797\n",
            "Non-trainable params: 0\n",
            "__________________________________________________________________________________________________\n"
          ]
        }
      ]
    },
    {
      "cell_type": "code",
      "metadata": {
        "colab": {
          "base_uri": "https://localhost:8080/"
        },
        "id": "iGuxCEVWidkM",
        "outputId": "9fa9c7cd-0d1a-4a6a-972b-a224391af2f8"
      },
      "source": [
        "with strategy.scope():\n",
        "    print('Training...')\n",
        "    history = model.fit(X_train,\n",
        "                        y_train,\n",
        "                        epochs=4,\n",
        "                        batch_size=BATCH_SIZE,\n",
        "                        verbose=1,\n",
        "                        validation_data=(X_test, y_test))"
      ],
      "execution_count": null,
      "outputs": [
        {
          "output_type": "stream",
          "name": "stdout",
          "text": [
            "Training...\n",
            "Epoch 1/4\n",
            "INFO:absl:TPU has inputs with dynamic shapes: [<tf.Tensor 'Const:0' shape=() dtype=int32>, <tf.Tensor 'cond/Identity:0' shape=(None, 256) dtype=int32>, <tf.Tensor 'cond/Identity_8:0' shape=(None, 256) dtype=int32>, <tf.Tensor 'cond/Identity_16:0' shape=(None, 256) dtype=int32>, <tf.Tensor 'cond/Identity_24:0' shape=(None,) dtype=int32>]\n",
            "WARNING:tensorflow:Gradients do not exist for variables ['tf_roberta_model/roberta/pooler/dense/kernel:0', 'tf_roberta_model/roberta/pooler/dense/bias:0'] when minimizing the loss. If you're using `model.compile()`, did you forget to provide a `loss`argument?\n",
            "WARNING:tensorflow:Gradients do not exist for variables ['tf_roberta_model/roberta/pooler/dense/kernel:0', 'tf_roberta_model/roberta/pooler/dense/bias:0'] when minimizing the loss. If you're using `model.compile()`, did you forget to provide a `loss`argument?\n",
            "WARNING:tensorflow:From /usr/local/lib/python3.7/dist-packages/keras/engine/training.py:2970: StrategyBase.unwrap (from tensorflow.python.distribute.distribute_lib) is deprecated and will be removed in a future version.\n",
            "Instructions for updating:\n",
            "use `experimental_local_results` instead.\n",
            "WARNING:tensorflow:From /usr/local/lib/python3.7/dist-packages/keras/engine/training.py:2970: StrategyBase.unwrap (from tensorflow.python.distribute.distribute_lib) is deprecated and will be removed in a future version.\n",
            "Instructions for updating:\n",
            "use `experimental_local_results` instead.\n",
            "INFO:absl:TPU has inputs with dynamic shapes: [<tf.Tensor 'Const:0' shape=() dtype=int32>, <tf.Tensor 'cond/Identity:0' shape=(None, 256) dtype=int32>, <tf.Tensor 'cond/Identity_8:0' shape=(None, 256) dtype=int32>, <tf.Tensor 'cond/Identity_16:0' shape=(None, 256) dtype=int32>, <tf.Tensor 'cond/Identity_24:0' shape=(None,) dtype=int32>]\n",
            "WARNING:tensorflow:Gradients do not exist for variables ['tf_roberta_model/roberta/pooler/dense/kernel:0', 'tf_roberta_model/roberta/pooler/dense/bias:0'] when minimizing the loss. If you're using `model.compile()`, did you forget to provide a `loss`argument?\n",
            "WARNING:tensorflow:Gradients do not exist for variables ['tf_roberta_model/roberta/pooler/dense/kernel:0', 'tf_roberta_model/roberta/pooler/dense/bias:0'] when minimizing the loss. If you're using `model.compile()`, did you forget to provide a `loss`argument?\n",
            "115/115 [==============================] - ETA: 0s - loss: 0.6252 - accuracy: 0.8140INFO:absl:TPU has inputs with dynamic shapes: [<tf.Tensor 'Const:0' shape=() dtype=int32>, <tf.Tensor 'cond/Identity:0' shape=(None, 256) dtype=int32>, <tf.Tensor 'cond/Identity_8:0' shape=(None, 256) dtype=int32>, <tf.Tensor 'cond/Identity_16:0' shape=(None, 256) dtype=int32>, <tf.Tensor 'cond/Identity_24:0' shape=(None,) dtype=int32>]\n",
            "115/115 [==============================] - 167s 741ms/step - loss: 0.6252 - accuracy: 0.8140 - val_loss: 0.5856 - val_accuracy: 0.8074\n",
            "Epoch 2/4\n",
            "115/115 [==============================] - 22s 188ms/step - loss: 0.5353 - accuracy: 0.8610 - val_loss: 0.5611 - val_accuracy: 0.8450\n",
            "Epoch 3/4\n",
            "115/115 [==============================] - 28s 225ms/step - loss: 0.4968 - accuracy: 0.8912 - val_loss: 0.4628 - val_accuracy: 0.8796\n",
            "Epoch 4/4\n",
            "115/115 [==============================] - 21s 180ms/step - loss: 0.2716 - accuracy: 0.9210 - val_loss: 0.5611 - val_accuracy: 0.9129\n"
          ]
        }
      ]
    },
    {
      "cell_type": "markdown",
      "metadata": {
        "id": "gc8K1R-KTswn"
      },
      "source": [
        "Accuracy:"
      ]
    },
    {
      "cell_type": "code",
      "metadata": {
        "colab": {
          "base_uri": "https://localhost:8080/"
        },
        "id": "bFDsjE5bhp4-",
        "outputId": "03bc72e3-76ff-4585-db41-efe1ac07282d"
      },
      "source": [
        "scores = model.evaluate(X_test, y_test, verbose=0)\n",
        "print(\"Accuracy: %.2f%%\" % (scores[1] * 100))"
      ],
      "execution_count": null,
      "outputs": [
        {
          "output_type": "stream",
          "name": "stdout",
          "text": [
            "Accuracy: 91.29%\n"
          ]
        }
      ]
    },
    {
      "cell_type": "code",
      "metadata": {
        "id": "x5KrFNiGI2dI"
      },
      "source": [
        ""
      ],
      "execution_count": null,
      "outputs": []
    }
  ]
}